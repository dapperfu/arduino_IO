{
 "cells": [
  {
   "cell_type": "markdown",
   "metadata": {},
   "source": [
    "# python-can CAN over serial\n",
    "\n",
    "[```python-can```](https://python-can.readthedocs.io/en/2.1.0/index.html) includes a [CAN over Serial] module.\n",
    "\n",
    "This allows prototyping and testing with inexpensive Arduino devices before switching to another module with minimal code changes.\n"
   ]
  },
  {
   "cell_type": "markdown",
   "metadata": {},
   "source": [
    "The packet over serial\n",
    "\n",
    "\n",
    "\n",
    "https://python-can.readthedocs.io/en/2.1.0/interfaces/serial.html\n",
    "\n",
    "|                | Length (Byte) | Data type               | Byte order    | Description                                   |\n",
    "|----------------|---------------|-------------------------|---------------|-----------------------------------------------|\n",
    "| Start of frame | 1             | Byte                    | -             | Must be 0xAA                                  |\n",
    "| Timestamp      | 4             | Unsigned 4 byte integer | Little-Endian | Usually s, ms or µs since start of the device |\n",
    "| DLC            | 1             | Unsigned 1 byte integer | Little-Endian | Length in byte of the payload                 |\n",
    "| Arbitration ID | 4             | Unsigned 4 byte integer | Little-Endian | -                                             |\n",
    "| Payload        | 0 - 8         | Byte                    | -             | -                                             |\n",
    "| End of frame   | 1             | Byte                    | -             | Must be 0xBB                                  |"
   ]
  },
  {
   "cell_type": "code",
   "execution_count": 1,
   "metadata": {},
   "outputs": [],
   "source": [
    "import glob"
   ]
  },
  {
   "cell_type": "code",
   "execution_count": 2,
   "metadata": {},
   "outputs": [
    {
     "data": {
      "text/plain": [
       "['4747990f-b2a9-4145-93c3-5904a2402cde.ino']"
      ]
     },
     "execution_count": 2,
     "metadata": {},
     "output_type": "execute_result"
    }
   ],
   "source": [
    "old_sketches = glob.glob(\"*.ino\")\n",
    "old_sketches"
   ]
  },
  {
   "cell_type": "code",
   "execution_count": 3,
   "metadata": {},
   "outputs": [],
   "source": [
    "import os"
   ]
  },
  {
   "cell_type": "code",
   "execution_count": 4,
   "metadata": {},
   "outputs": [],
   "source": [
    "for old_sketch in old_sketches:\n",
    "    os.unlink(old_sketch)"
   ]
  },
  {
   "cell_type": "code",
   "execution_count": 5,
   "metadata": {},
   "outputs": [
    {
     "data": {
      "text/plain": [
       "'6670f1f1-8948-44e6-8a7b-ea590e54daf9'"
      ]
     },
     "execution_count": 5,
     "metadata": {},
     "output_type": "execute_result"
    }
   ],
   "source": [
    "import uuid\n",
    "build_uuid = str(uuid.uuid4())\n",
    "build_uuid"
   ]
  },
  {
   "cell_type": "code",
   "execution_count": 6,
   "metadata": {},
   "outputs": [],
   "source": [
    "arduino_template_str = \"\"\"\n",
    "unsigned long BAUD = {{ baud }};\n",
    "unsigned long DELAY = {{ delay }};\n",
    "char ARBITRATION_ID = {{ arbitration_id }};\n",
    "\n",
    "char BUILD_UUID[] = \"{{ build_uuid }}\";\n",
    "\n",
    "unsigned long time;\n",
    "\n",
    "unsigned char counter = 0;\n",
    "\n",
    "// Arduino Setup\n",
    "void setup() {\n",
    "  Serial.begin(BAUD);\n",
    "  Serial.print(\"Build UUID: \");\n",
    "  Serial.println(BUILD_UUID);\n",
    "    // Start of frame\n",
    "  Serial.write(0xAA);\n",
    "// Timestamp\n",
    "  Serial.write(0x00);\n",
    "  Serial.write(0x00);\n",
    "  Serial.write(0x00);\n",
    "  Serial.write(0x00);\n",
    "// DLC\n",
    "  Serial.write(0x01);\n",
    "// Arbitration ID\n",
    "  Serial.write(0x00);\n",
    "  Serial.write(0x00);\n",
    "  Serial.write(0x00);\n",
    "  Serial.write(0xFF);\n",
    "// Payload\n",
    "  Serial.write(counter);\n",
    "// End of frame\n",
    "  Serial.write(0xBB);\n",
    "    \n",
    "  counter++;\n",
    "}\n",
    "\n",
    "// Arduino Main Loop\n",
    "void loop() {\n",
    "   time = millis();\n",
    "// Start of frame\n",
    "  Serial.write(0xAA);\n",
    "// Timestamp\n",
    "for(char shift=0;shift<32;shift+=8) {\n",
    "  Serial.write((unsigned long)time>>shift&0b11111111);\n",
    "}\n",
    "// DLC\n",
    "  Serial.write(0x01);\n",
    "// Arbitration ID\n",
    "for(char shift=0;shift<32;shift+=8) {\n",
    "  Serial.write(((unsigned long)ARBITRATION_ID>>shift)&0b11111111);\n",
    "}\n",
    "// Payload\n",
    "  Serial.write(counter);\n",
    "// End of frame\n",
    "  Serial.write(0xBB);\n",
    "  counter++;\n",
    "  delay(DELAY);\n",
    "}\n",
    "\"\"\""
   ]
  },
  {
   "cell_type": "code",
   "execution_count": 7,
   "metadata": {},
   "outputs": [],
   "source": [
    "import jinja2"
   ]
  },
  {
   "cell_type": "code",
   "execution_count": 8,
   "metadata": {},
   "outputs": [],
   "source": [
    "arduino_template = jinja2.Template(arduino_template_str)"
   ]
  },
  {
   "cell_type": "code",
   "execution_count": 9,
   "metadata": {},
   "outputs": [
    {
     "name": "stdout",
     "output_type": "stream",
     "text": [
      "\n",
      "unsigned long BAUD = 115200;\n",
      "unsigned long DELAY = 1000;\n",
      "char ARBITRATION_ID = 12;\n",
      "\n",
      "char BUILD_UUID[] = \"6670f1f1-8948-44e6-8a7b-ea590e54daf9\";\n",
      "\n",
      "unsigned long time;\n",
      "\n",
      "unsigned char counter = 0;\n",
      "\n",
      "// Arduino Setup\n",
      "void setup() {\n",
      "  Serial.begin(BAUD);\n",
      "  Serial.print(\"Build UUID: \");\n",
      "  Serial.println(BUILD_UUID);\n",
      "    // Start of frame\n",
      "  Serial.write(0xAA);\n",
      "// Timestamp\n",
      "  Serial.write(0x00);\n",
      "  Serial.write(0x00);\n",
      "  Serial.write(0x00);\n",
      "  Serial.write(0x00);\n",
      "// DLC\n",
      "  Serial.write(0x01);\n",
      "// Arbitration ID\n",
      "  Serial.write(0x00);\n",
      "  Serial.write(0x00);\n",
      "  Serial.write(0x00);\n",
      "  Serial.write(0xFF);\n",
      "// Payload\n",
      "  Serial.write(counter);\n",
      "// End of frame\n",
      "  Serial.write(0xBB);\n",
      "    \n",
      "  counter++;\n",
      "}\n",
      "\n",
      "// Arduino Main Loop\n",
      "void loop() {\n",
      "   time = millis();\n",
      "// Start of frame\n",
      "  Serial.write(0xAA);\n",
      "// Timestamp\n",
      "for(char shift=0;shift<32;shift+=8) {\n",
      "  Serial.write((unsigned long)time>>shift&0b11111111);\n",
      "}\n",
      "// DLC\n",
      "  Serial.write(0x01);\n",
      "// Arbitration ID\n",
      "for(char shift=0;shift<32;shift+=8) {\n",
      "  Serial.write(((unsigned long)ARBITRATION_ID>>shift)&0b11111111);\n",
      "}\n",
      "// Payload\n",
      "  Serial.write(counter);\n",
      "// End of frame\n",
      "  Serial.write(0xBB);\n",
      "  counter++;\n",
      "  delay(DELAY);\n",
      "}\n"
     ]
    }
   ],
   "source": [
    "sketch_cfg=dict()\n",
    "sketch_cfg[\"baud\"] = 115200\n",
    "sketch_cfg[\"delay\"]= 1000\n",
    "sketch_cfg[\"arbitration_id\"]=12\n",
    "sketch_cfg[\"build_uuid\"]=build_uuid\n",
    "\n",
    "arduino_sketch = (arduino_template.render(**sketch_cfg))\n",
    "\n",
    "print(arduino_sketch)\n",
    "with open(build_uuid+\".ino\", \"w\") as fid:\n",
    "    fid.write(arduino_sketch)"
   ]
  },
  {
   "cell_type": "code",
   "execution_count": 10,
   "metadata": {},
   "outputs": [
    {
     "name": "stdout",
     "output_type": "stream",
     "text": [
      "-------------------------\n",
      "Arduino.mk Configuration:\n",
      "- [AUTODETECTED]       CURRENT_OS = LINUX \n",
      "- [AUTODETECTED]       ARDUINO_DIR = /usr/share/arduino \n",
      "- [COMPUTED]           ARDMK_DIR = /projects/arduino_IO/arduino_make (relative to Common.mk)\n",
      "- [AUTODETECTED]       ARDUINO_VERSION = 105 \n",
      "- [DEFAULT]            ARCHITECTURE =  \n",
      "- [DEFAULT]            ARDMK_VENDOR = arduino \n",
      "- [AUTODETECTED]       ARDUINO_PREFERENCES_PATH = /mnt/ubuntu1604_2/home/jed/.arduino/preferences.txt \n",
      "- [AUTODETECTED]       ARDUINO_SKETCHBOOK = /mnt/ubuntu1604_2/home/jed/sketchbook (from arduino preferences file)\n",
      "- [BUNDLED]            AVR_TOOLS_DIR = /usr/share/arduino/hardware/tools/avr (in Arduino distribution)\n",
      "- [COMPUTED]           ARDUINO_LIB_PATH = /usr/share/arduino/libraries (from ARDUINO_DIR)\n",
      "- [COMPUTED]           ARDUINO_VAR_PATH = /usr/share/arduino/hardware/arduino//variants (from ARDUINO_DIR)\n",
      "- [COMPUTED]           BOARDS_TXT = /usr/share/arduino/hardware/arduino//boards.txt (from ARDUINO_DIR)\n",
      "- [DEFAULT]            USER_LIB_PATH = /mnt/ubuntu1604_2/home/jed/sketchbook/libraries (in user sketchbook)\n",
      "- [DEFAULT]            PRE_BUILD_HOOK = pre-build-hook.sh \n",
      "- [USER]               BOARD_TAG = nano328 \n",
      "- [COMPUTED]           CORE = arduino (from build.core)\n",
      "- [COMPUTED]           VARIANT = eightanaloginputs (from build.variant)\n",
      "- [COMPUTED]           OBJDIR = build-nano328 (from BOARD_TAG)\n",
      "- [COMPUTED]           ARDUINO_CORE_PATH = /usr/share/arduino/hardware/arduino//cores/arduino (from ARDUINO_DIR, BOARD_TAG and boards.txt)\n",
      "- [ASSUMED]            MONITOR_BAUDRATE = 9600 \n",
      "- [DEFAULT]            OPTIMIZATION_LEVEL = s \n",
      "- [DEFAULT]            MCU_FLAG_NAME = mmcu \n",
      "- [DEFAULT]            CFLAGS_STD = -std=gnu11 -flto -fno-fat-lto-objects \n",
      "- [DEFAULT]            CXXFLAGS_STD = -std=gnu++11 -fno-threadsafe-statics -flto \n",
      "- [AUTODETECTED]       DEVICE_PATH = /dev/ttyUSB1 \n",
      "- [DEFAULT]            FORCE_MONITOR_PORT =  \n",
      "- [AUTODETECTED]       Size utility: AVR-aware for enhanced output\n",
      "- [COMPUTED]           BOOTLOADER_PARENT = /usr/share/arduino/hardware/arduino//bootloaders (from ARDUINO_DIR)\n",
      "- [COMPUTED]           ARDMK_VERSION = 1.5 \n",
      "- [COMPUTED]           CC_VERSION = 5.4.0 (avr-gcc)\n",
      "-------------------------\n",
      "mkdir -p build-nano328\n",
      "/usr/share/arduino/hardware/tools/avr/bin/avr-g++ -x c++ -include Arduino.h -MMD -c -mmcu=atmega328p -DF_CPU=16000000L -DARDUINO=105  -D__PROG_TYPES_COMPAT__ -I/usr/share/arduino/hardware/arduino//cores/arduino -I/usr/share/arduino/hardware/arduino//variants/eightanaloginputs    -Wall -ffunction-sections -fdata-sections -Os -fpermissive -fno-exceptions -std=gnu++11 -fno-threadsafe-statics -flto 6670f1f1-8948-44e6-8a7b-ea590e54daf9.ino -o build-nano328/6670f1f1-8948-44e6-8a7b-ea590e54daf9.ino.o\n",
      "/usr/share/arduino/hardware/tools/avr/bin/avr-gcc -mmcu=atmega328p -Wl,--gc-sections -Os -flto -fuse-linker-plugin -o build-nano328/SerialCAN.elf build-nano328/6670f1f1-8948-44e6-8a7b-ea590e54daf9.ino.o build-nano328/libcore.a   -lc -lm \n",
      "/usr/share/arduino/hardware/tools/avr/bin/avr-objcopy -O ihex -R .eeprom build-nano328/SerialCAN.elf build-nano328/SerialCAN.hex\n",
      "\n",
      "/usr/share/arduino/hardware/tools/avr/bin/avr-size --mcu=atmega328p -C --format=avr build-nano328/SerialCAN.elf\n",
      "AVR Memory Usage\n",
      "----------------\n",
      "Device: atmega328p\n",
      "\n",
      "Program:    1966 bytes (6.0% Full)\n",
      "(.text + .data + .bootloader)\n",
      "\n",
      "Data:        250 bytes (12.2% Full)\n",
      "(.data + .bss + .noinit)\n",
      "\n",
      "\n",
      "make reset\n",
      "make[1]: Entering directory '/projects/arduino_IO/SerialCAN'\n",
      "/projects/arduino_IO/arduino_make/bin/ard-reset-arduino  /dev/ttyUSB1\n",
      "make[1]: Leaving directory '/projects/arduino_IO/SerialCAN'\n",
      "make do_upload\n",
      "make[1]: Entering directory '/projects/arduino_IO/SerialCAN'\n",
      "/usr/share/arduino/hardware/tools/avr/../avrdude -q -V -p atmega328p -C /usr/share/arduino/hardware/tools/avr/../avrdude.conf -D -c arduino -b 57600 -P /dev/ttyUSB1 \\\n",
      "\t\t-U flash:w:build-nano328/SerialCAN.hex:i\n",
      "make[1]: Leaving directory '/projects/arduino_IO/SerialCAN'\n",
      "\n"
     ]
    }
   ],
   "source": [
    "import subprocess\n",
    "stdout = subprocess.check_output([\"make\", \"upload\"]).decode()\n",
    "import re\n",
    "r = re.compile(\"(/dev/ttyUSB[\\d]+)\")\n",
    "r.findall(stdout)\n",
    "print(stdout)"
   ]
  },
  {
   "cell_type": "code",
   "execution_count": 11,
   "metadata": {},
   "outputs": [
    {
     "data": {
      "text/plain": [
       "['/dev/ttyUSB1', '/dev/ttyUSB1', '/dev/ttyUSB1']"
      ]
     },
     "execution_count": 11,
     "metadata": {},
     "output_type": "execute_result"
    }
   ],
   "source": [
    "serial_port = r.findall(stdout)\n",
    "serial_port"
   ]
  },
  {
   "cell_type": "code",
   "execution_count": 12,
   "metadata": {},
   "outputs": [],
   "source": [
    "import serial"
   ]
  },
  {
   "cell_type": "code",
   "execution_count": 13,
   "metadata": {},
   "outputs": [],
   "source": [
    "ser = serial.Serial(port=serial_port[0], baudrate=115200, timeout=10)"
   ]
  },
  {
   "cell_type": "code",
   "execution_count": 14,
   "metadata": {},
   "outputs": [],
   "source": [
    "import time"
   ]
  },
  {
   "cell_type": "code",
   "execution_count": 15,
   "metadata": {},
   "outputs": [
    {
     "data": {
      "text/plain": [
       "b'Build UUID: 6670f1f1-8948-44e6-8a7b-ea590e54daf9\\r\\n'"
      ]
     },
     "execution_count": 15,
     "metadata": {},
     "output_type": "execute_result"
    }
   ],
   "source": [
    "ser.setDTR(False) # Drop DTR\n",
    "time.sleep(0.5)   # Read somewhere that 22ms is what the UI does.\n",
    "ser.flushInput()\n",
    "ser.setDTR(True)  # UP the DTR back\n",
    "header = ser.readline()\n",
    "header"
   ]
  },
  {
   "cell_type": "code",
   "execution_count": 16,
   "metadata": {},
   "outputs": [],
   "source": [
    "header_uuid = header.decode(\"UTF-8\").split(\":\")[1].strip()"
   ]
  },
  {
   "cell_type": "code",
   "execution_count": 17,
   "metadata": {},
   "outputs": [],
   "source": [
    "assert build_uuid == header_uuid"
   ]
  },
  {
   "cell_type": "code",
   "execution_count": 18,
   "metadata": {},
   "outputs": [
    {
     "data": {
      "text/plain": [
       "b'Build UUID: 6670f1f1-8948-44e6-8a7b-ea590e54daf9\\r\\n\\xaa\\x00\\x00\\x00\\x00\\x01\\x00\\x00\\x00\\xff\\x00\\xbb'"
      ]
     },
     "execution_count": 18,
     "metadata": {},
     "output_type": "execute_result"
    }
   ],
   "source": [
    "ser.setDTR(False) # Drop DTR\n",
    "time.sleep(0.5)   # Read somewhere that 22ms is what the UI does.\n",
    "ser.flushInput()\n",
    "ser.setDTR(True)  # UP the DTR back\n",
    "\n",
    "header_packet = ser.read_until(b\"\\xBB\")\n",
    "header_packet"
   ]
  },
  {
   "cell_type": "code",
   "execution_count": 19,
   "metadata": {},
   "outputs": [
    {
     "data": {
      "text/plain": [
       "[b'Build UUID: 6670f1f1-8948-44e6-8a7b-ea590e54daf9\\r\\n',\n",
       " b'\\x00\\x00\\x00\\x00\\x01\\x00\\x00\\x00\\xff\\x00\\xbb']"
      ]
     },
     "execution_count": 19,
     "metadata": {},
     "output_type": "execute_result"
    }
   ],
   "source": [
    "header_packet.split(b\"\\xAA\")"
   ]
  },
  {
   "cell_type": "code",
   "execution_count": 20,
   "metadata": {},
   "outputs": [
    {
     "data": {
      "text/plain": [
       "b'\\xaa\\x00\\x00\\x00\\x00\\x01\\x0c\\x00\\x00\\x00\\x01\\xbb'"
      ]
     },
     "execution_count": 20,
     "metadata": {},
     "output_type": "execute_result"
    }
   ],
   "source": [
    "packet = ser.read_until(b\"\\xBB\")\n",
    "packet"
   ]
  },
  {
   "cell_type": "code",
   "execution_count": 21,
   "metadata": {},
   "outputs": [
    {
     "data": {
      "text/plain": [
       "b'\\xaa\\xe8\\x03\\x00\\x00\\x01\\x0c\\x00\\x00\\x00\\x02\\xbb'"
      ]
     },
     "execution_count": 21,
     "metadata": {},
     "output_type": "execute_result"
    }
   ],
   "source": [
    "packet = ser.read_until(b\"\\xBB\")\n",
    "packet"
   ]
  },
  {
   "cell_type": "code",
   "execution_count": 22,
   "metadata": {},
   "outputs": [
    {
     "data": {
      "text/plain": [
       "b'\\xaa\\xd0\\x07\\x00\\x00\\x01\\x0c\\x00\\x00\\x00\\x03\\xbb'"
      ]
     },
     "execution_count": 22,
     "metadata": {},
     "output_type": "execute_result"
    }
   ],
   "source": [
    "packet = ser.read_until(b\"\\xBB\")\n",
    "packet"
   ]
  },
  {
   "cell_type": "code",
   "execution_count": 23,
   "metadata": {},
   "outputs": [
    {
     "data": {
      "text/plain": [
       "b'\\xd0\\x07\\x00\\x00'"
      ]
     },
     "execution_count": 23,
     "metadata": {},
     "output_type": "execute_result"
    }
   ],
   "source": [
    "packet[1:5]"
   ]
  },
  {
   "cell_type": "code",
   "execution_count": 24,
   "metadata": {},
   "outputs": [
    {
     "data": {
      "text/plain": [
       "b'\\xd0\\x07\\x00\\x00'"
      ]
     },
     "execution_count": 24,
     "metadata": {},
     "output_type": "execute_result"
    }
   ],
   "source": [
    "timestamp_raw = packet[1:5]\n",
    "timestamp_raw"
   ]
  },
  {
   "cell_type": "code",
   "execution_count": 25,
   "metadata": {},
   "outputs": [
    {
     "data": {
      "text/plain": [
       "2000"
      ]
     },
     "execution_count": 25,
     "metadata": {},
     "output_type": "execute_result"
    }
   ],
   "source": [
    "int.from_bytes(timestamp_raw, 'little')"
   ]
  },
  {
   "cell_type": "code",
   "execution_count": 26,
   "metadata": {},
   "outputs": [
    {
     "data": {
      "text/plain": [
       "3490119680"
      ]
     },
     "execution_count": 26,
     "metadata": {},
     "output_type": "execute_result"
    }
   ],
   "source": [
    "int.from_bytes(timestamp_raw, 'big')"
   ]
  },
  {
   "cell_type": "code",
   "execution_count": 27,
   "metadata": {},
   "outputs": [
    {
     "data": {
      "text/plain": [
       "2000"
      ]
     },
     "execution_count": 27,
     "metadata": {},
     "output_type": "execute_result"
    }
   ],
   "source": [
    "timestamp = int.from_bytes(timestamp_raw, 'little')\n",
    "timestamp"
   ]
  },
  {
   "cell_type": "code",
   "execution_count": 28,
   "metadata": {},
   "outputs": [
    {
     "data": {
      "text/plain": [
       "170"
      ]
     },
     "execution_count": 28,
     "metadata": {},
     "output_type": "execute_result"
    }
   ],
   "source": [
    "sof = packet[0]\n",
    "sof"
   ]
  },
  {
   "cell_type": "code",
   "execution_count": 29,
   "metadata": {},
   "outputs": [
    {
     "data": {
      "text/plain": [
       "170"
      ]
     },
     "execution_count": 29,
     "metadata": {},
     "output_type": "execute_result"
    }
   ],
   "source": [
    "int.from_bytes(b'\\xAA', 'little')"
   ]
  },
  {
   "cell_type": "code",
   "execution_count": 30,
   "metadata": {},
   "outputs": [
    {
     "data": {
      "text/plain": [
       "170"
      ]
     },
     "execution_count": 30,
     "metadata": {},
     "output_type": "execute_result"
    }
   ],
   "source": [
    "int.from_bytes(b'\\xAA', 'big')"
   ]
  },
  {
   "cell_type": "code",
   "execution_count": 31,
   "metadata": {},
   "outputs": [],
   "source": [
    "assert sof == int.from_bytes(b'\\xAA', 'little')"
   ]
  },
  {
   "cell_type": "code",
   "execution_count": 32,
   "metadata": {},
   "outputs": [
    {
     "data": {
      "text/plain": [
       "1"
      ]
     },
     "execution_count": 32,
     "metadata": {},
     "output_type": "execute_result"
    }
   ],
   "source": [
    "dlc = packet[5]\n",
    "dlc"
   ]
  },
  {
   "cell_type": "code",
   "execution_count": 33,
   "metadata": {},
   "outputs": [
    {
     "data": {
      "text/plain": [
       "b'\\x0c\\x00\\x00\\x00'"
      ]
     },
     "execution_count": 33,
     "metadata": {},
     "output_type": "execute_result"
    }
   ],
   "source": [
    "arbitration_id_raw = packet[6:10]\n",
    "arbitration_id_raw"
   ]
  },
  {
   "cell_type": "code",
   "execution_count": 34,
   "metadata": {},
   "outputs": [
    {
     "data": {
      "text/plain": [
       "12"
      ]
     },
     "execution_count": 34,
     "metadata": {},
     "output_type": "execute_result"
    }
   ],
   "source": [
    "int.from_bytes(arbitration_id_raw, 'little')"
   ]
  },
  {
   "cell_type": "code",
   "execution_count": 35,
   "metadata": {},
   "outputs": [
    {
     "data": {
      "text/plain": [
       "201326592"
      ]
     },
     "execution_count": 35,
     "metadata": {},
     "output_type": "execute_result"
    }
   ],
   "source": [
    "int.from_bytes(arbitration_id_raw, 'big')"
   ]
  },
  {
   "cell_type": "code",
   "execution_count": 36,
   "metadata": {},
   "outputs": [
    {
     "data": {
      "text/plain": [
       "12"
      ]
     },
     "execution_count": 36,
     "metadata": {},
     "output_type": "execute_result"
    }
   ],
   "source": [
    "arbitration_id = int.from_bytes(arbitration_id_raw, 'little')\n",
    "arbitration_id"
   ]
  },
  {
   "cell_type": "code",
   "execution_count": 37,
   "metadata": {},
   "outputs": [
    {
     "data": {
      "text/plain": [
       "187"
      ]
     },
     "execution_count": 37,
     "metadata": {},
     "output_type": "execute_result"
    }
   ],
   "source": [
    "data = packet[11]\n",
    "data "
   ]
  },
  {
   "cell_type": "code",
   "execution_count": 38,
   "metadata": {},
   "outputs": [
    {
     "data": {
      "text/plain": [
       "{'baud': 115200,\n",
       " 'delay': 1000,\n",
       " 'arbitration_id': 12,\n",
       " 'build_uuid': '6670f1f1-8948-44e6-8a7b-ea590e54daf9'}"
      ]
     },
     "execution_count": 38,
     "metadata": {},
     "output_type": "execute_result"
    }
   ],
   "source": [
    "sketch_cfg"
   ]
  },
  {
   "cell_type": "code",
   "execution_count": 39,
   "metadata": {},
   "outputs": [],
   "source": [
    "assert arbitration_id == sketch_cfg[\"arbitration_id\"]"
   ]
  },
  {
   "cell_type": "code",
   "execution_count": 40,
   "metadata": {},
   "outputs": [
    {
     "data": {
      "text/plain": [
       "'6670f1f1-8948-44e6-8a7b-ea590e54daf9'"
      ]
     },
     "execution_count": 40,
     "metadata": {},
     "output_type": "execute_result"
    }
   ],
   "source": [
    "header_uuid"
   ]
  },
  {
   "cell_type": "code",
   "execution_count": 41,
   "metadata": {},
   "outputs": [
    {
     "data": {
      "text/plain": [
       "'6670f1f1-8948-44e6-8a7b-ea590e54daf9'"
      ]
     },
     "execution_count": 41,
     "metadata": {},
     "output_type": "execute_result"
    }
   ],
   "source": [
    "sketch_cfg[\"build_uuid\"]"
   ]
  },
  {
   "cell_type": "code",
   "execution_count": 42,
   "metadata": {},
   "outputs": [],
   "source": [
    "assert str(header_uuid) == header_uuid"
   ]
  },
  {
   "cell_type": "code",
   "execution_count": 43,
   "metadata": {},
   "outputs": [],
   "source": [
    "assert str(sketch_cfg[\"build_uuid\"]) == sketch_cfg[\"build_uuid\"]"
   ]
  },
  {
   "cell_type": "code",
   "execution_count": 44,
   "metadata": {},
   "outputs": [],
   "source": [
    "assert header_uuid == sketch_cfg[\"build_uuid\"]"
   ]
  },
  {
   "cell_type": "code",
   "execution_count": 45,
   "metadata": {},
   "outputs": [],
   "source": [
    "ser.close()"
   ]
  },
  {
   "cell_type": "code",
   "execution_count": 55,
   "metadata": {},
   "outputs": [
    {
     "data": {
      "text/plain": [
       "'2.1.0'"
      ]
     },
     "execution_count": 55,
     "metadata": {},
     "output_type": "execute_result"
    }
   ],
   "source": [
    "import can\n",
    "can.__version__"
   ]
  },
  {
   "cell_type": "code",
   "execution_count": 56,
   "metadata": {},
   "outputs": [],
   "source": [
    "bus_cfg = dict()\n",
    "bus_cfg[\"bustype\"] = \"serial\"\n",
    "bus_cfg[\"channel\"]=\"/dev/ttyUSB1\"\n",
    "bus_cfg[\"bitrate\"]=115200\n",
    "\n",
    "bus = can.interface.Bus(**bus_cfg)    "
   ]
  },
  {
   "cell_type": "code",
   "execution_count": 57,
   "metadata": {},
   "outputs": [
    {
     "data": {
      "text/plain": [
       "'Serial interface: /dev/ttyUSB1'"
      ]
     },
     "execution_count": 57,
     "metadata": {},
     "output_type": "execute_result"
    }
   ],
   "source": [
    "bus.channel_info"
   ]
  },
  {
   "cell_type": "code",
   "execution_count": 58,
   "metadata": {},
   "outputs": [
    {
     "data": {
      "text/plain": [
       "can.Message(timestamp=11.001, is_remote_frame=False, extended_id=True, is_error_frame=False, arbitration_id=0xc, dlc=1, data=[0xc])"
      ]
     },
     "execution_count": 58,
     "metadata": {},
     "output_type": "execute_result"
    }
   ],
   "source": [
    "packet = bus.recv(timeout=2)\n",
    "packet"
   ]
  },
  {
   "cell_type": "code",
   "execution_count": 60,
   "metadata": {},
   "outputs": [
    {
     "data": {
      "text/plain": [
       "12"
      ]
     },
     "execution_count": 60,
     "metadata": {},
     "output_type": "execute_result"
    }
   ],
   "source": [
    "packet.arbitration_id"
   ]
  },
  {
   "cell_type": "code",
   "execution_count": 61,
   "metadata": {},
   "outputs": [
    {
     "data": {
      "text/plain": [
       "1"
      ]
     },
     "execution_count": 61,
     "metadata": {},
     "output_type": "execute_result"
    }
   ],
   "source": [
    "packet.dlc"
   ]
  },
  {
   "cell_type": "code",
   "execution_count": 62,
   "metadata": {},
   "outputs": [
    {
     "data": {
      "text/plain": [
       "bytearray(b'\\x0c')"
      ]
     },
     "execution_count": 62,
     "metadata": {},
     "output_type": "execute_result"
    }
   ],
   "source": [
    "packet.data"
   ]
  },
  {
   "cell_type": "code",
   "execution_count": 63,
   "metadata": {},
   "outputs": [
    {
     "data": {
      "text/plain": [
       "12"
      ]
     },
     "execution_count": 63,
     "metadata": {},
     "output_type": "execute_result"
    }
   ],
   "source": [
    "int.from_bytes(packet.data, 'little')"
   ]
  },
  {
   "cell_type": "code",
   "execution_count": 64,
   "metadata": {},
   "outputs": [
    {
     "data": {
      "text/plain": [
       "12"
      ]
     },
     "execution_count": 64,
     "metadata": {},
     "output_type": "execute_result"
    }
   ],
   "source": [
    "int.from_bytes(packet.data, 'big')"
   ]
  },
  {
   "cell_type": "code",
   "execution_count": 65,
   "metadata": {},
   "outputs": [],
   "source": [
    "import time"
   ]
  },
  {
   "cell_type": "code",
   "execution_count": 66,
   "metadata": {},
   "outputs": [],
   "source": [
    "can_packets = list()\n",
    "while len(can_packets)<20:\n",
    "    packet = bus.recv(timeout=1000)\n",
    "    if packet is None:\n",
    "        time.sleep(sketch_cfg['delay'])\n",
    "    can_packets.append(packet)"
   ]
  },
  {
   "cell_type": "code",
   "execution_count": 67,
   "metadata": {},
   "outputs": [
    {
     "data": {
      "text/plain": [
       "[can.Message(timestamp=12.002, is_remote_frame=False, extended_id=True, is_error_frame=False, arbitration_id=0xc, dlc=1, data=[0xd]),\n",
       " can.Message(timestamp=13.001, is_remote_frame=False, extended_id=True, is_error_frame=False, arbitration_id=0xc, dlc=1, data=[0xe]),\n",
       " can.Message(timestamp=14.002, is_remote_frame=False, extended_id=True, is_error_frame=False, arbitration_id=0xc, dlc=1, data=[0xf]),\n",
       " can.Message(timestamp=15.002, is_remote_frame=False, extended_id=True, is_error_frame=False, arbitration_id=0xc, dlc=1, data=[0x10]),\n",
       " can.Message(timestamp=16.003, is_remote_frame=False, extended_id=True, is_error_frame=False, arbitration_id=0xc, dlc=1, data=[0x11]),\n",
       " can.Message(timestamp=17.002, is_remote_frame=False, extended_id=True, is_error_frame=False, arbitration_id=0xc, dlc=1, data=[0x12]),\n",
       " can.Message(timestamp=18.002, is_remote_frame=False, extended_id=True, is_error_frame=False, arbitration_id=0xc, dlc=1, data=[0x13]),\n",
       " can.Message(timestamp=19.003, is_remote_frame=False, extended_id=True, is_error_frame=False, arbitration_id=0xc, dlc=1, data=[0x14]),\n",
       " can.Message(timestamp=20.002, is_remote_frame=False, extended_id=True, is_error_frame=False, arbitration_id=0xc, dlc=1, data=[0x15]),\n",
       " can.Message(timestamp=21.003, is_remote_frame=False, extended_id=True, is_error_frame=False, arbitration_id=0xc, dlc=1, data=[0x16]),\n",
       " can.Message(timestamp=22.003, is_remote_frame=False, extended_id=True, is_error_frame=False, arbitration_id=0xc, dlc=1, data=[0x17]),\n",
       " can.Message(timestamp=23.004, is_remote_frame=False, extended_id=True, is_error_frame=False, arbitration_id=0xc, dlc=1, data=[0x18]),\n",
       " can.Message(timestamp=24.003, is_remote_frame=False, extended_id=True, is_error_frame=False, arbitration_id=0xc, dlc=1, data=[0x19]),\n",
       " can.Message(timestamp=25.004, is_remote_frame=False, extended_id=True, is_error_frame=False, arbitration_id=0xc, dlc=1, data=[0x1a]),\n",
       " can.Message(timestamp=26.004, is_remote_frame=False, extended_id=True, is_error_frame=False, arbitration_id=0xc, dlc=1, data=[0x1b]),\n",
       " can.Message(timestamp=27.003, is_remote_frame=False, extended_id=True, is_error_frame=False, arbitration_id=0xc, dlc=1, data=[0x1c]),\n",
       " can.Message(timestamp=28.004, is_remote_frame=False, extended_id=True, is_error_frame=False, arbitration_id=0xc, dlc=1, data=[0x1d]),\n",
       " can.Message(timestamp=29.004, is_remote_frame=False, extended_id=True, is_error_frame=False, arbitration_id=0xc, dlc=1, data=[0x1e]),\n",
       " can.Message(timestamp=30.004, is_remote_frame=False, extended_id=True, is_error_frame=False, arbitration_id=0xc, dlc=1, data=[0x1f]),\n",
       " can.Message(timestamp=31.004, is_remote_frame=False, extended_id=True, is_error_frame=False, arbitration_id=0xc, dlc=1, data=[0x20])]"
      ]
     },
     "execution_count": 67,
     "metadata": {},
     "output_type": "execute_result"
    }
   ],
   "source": [
    "can_packets"
   ]
  },
  {
   "cell_type": "code",
   "execution_count": 68,
   "metadata": {},
   "outputs": [],
   "source": [
    "import numpy as np"
   ]
  },
  {
   "cell_type": "code",
   "execution_count": 70,
   "metadata": {},
   "outputs": [],
   "source": [
    "data=object()"
   ]
  },
  {
   "cell_type": "code",
   "execution_count": 71,
   "metadata": {},
   "outputs": [],
   "source": [
    "class Data(object):\n",
    "    def __init__(self):\n",
    "        pass\n",
    "data = Data()"
   ]
  },
  {
   "cell_type": "code",
   "execution_count": 72,
   "metadata": {},
   "outputs": [
    {
     "data": {
      "text/plain": [
       "[12.002,\n",
       " 13.001,\n",
       " 14.002,\n",
       " 15.002,\n",
       " 16.003,\n",
       " 17.002,\n",
       " 18.002,\n",
       " 19.003,\n",
       " 20.002,\n",
       " 21.003,\n",
       " 22.003,\n",
       " 23.004,\n",
       " 24.003,\n",
       " 25.004,\n",
       " 26.004,\n",
       " 27.003,\n",
       " 28.004,\n",
       " 29.004,\n",
       " 30.004,\n",
       " 31.004]"
      ]
     },
     "execution_count": 72,
     "metadata": {},
     "output_type": "execute_result"
    }
   ],
   "source": [
    "data.time = [packet.timestamp for packet in can_packets]\n",
    "data.time"
   ]
  },
  {
   "cell_type": "code",
   "execution_count": 73,
   "metadata": {},
   "outputs": [],
   "source": [
    "data.value = [int.from_bytes(packet.data, 'little') for packet in can_packets]"
   ]
  },
  {
   "cell_type": "code",
   "execution_count": 74,
   "metadata": {},
   "outputs": [],
   "source": [
    "import seaborn as sns\n",
    "import matplotlib.pyplot as plt"
   ]
  },
  {
   "cell_type": "code",
   "execution_count": 75,
   "metadata": {},
   "outputs": [],
   "source": [
    "%matplotlib inline"
   ]
  },
  {
   "cell_type": "code",
   "execution_count": 78,
   "metadata": {},
   "outputs": [
    {
     "data": {
      "text/plain": [
       "[<matplotlib.lines.Line2D at 0x7f456af1add8>]"
      ]
     },
     "execution_count": 78,
     "metadata": {},
     "output_type": "execute_result"
    },
    {
     "data": {
      "image/png": "[encoded data removed]",
      "text/plain": [
       "<Figure size 432x288 with 1 Axes>"
      ]
     },
     "metadata": {},
     "output_type": "display_data"
    }
   ],
   "source": [
    "plt.xkcd()\n",
    "\n",
    "fig = plt.figure()\n",
    "ax = fig.add_subplot(1, 1, 1)\n",
    "ax.spines['right'].set_color('none')\n",
    "ax.spines['top'].set_color('none')\n",
    "plt.xticks([])\n",
    "plt.yticks([])\n",
    "plt.plot(data.time, data.value)"
   ]
  },
  {
   "cell_type": "code",
   "execution_count": null,
   "metadata": {},
   "outputs": [],
   "source": [
    "float.fromhex()"
   ]
  }
 ],
 "metadata": {
  "kernelspec": {
   "display_name": "Python 3",
   "language": "python",
   "name": "python3"
  },
  "language_info": {
   "codemirror_mode": {
    "name": "ipython",
    "version": 3
   },
   "file_extension": ".py",
   "mimetype": "text/x-python",
   "name": "python",
   "nbconvert_exporter": "python",
   "pygments_lexer": "ipython3",
   "version": "3.6.5"
  }
 },
 "nbformat": 4,
 "nbformat_minor": 2
}
