{
 "cells": [
  {
   "cell_type": "markdown",
   "metadata": {},
   "source": [
    "# python-can CAN over serial\n",
    "\n",
    "[```python-can```](https://python-can.readthedocs.io/en/2.1.0/index.html) includes a [CAN over Serial] module.\n",
    "\n",
    "This allows prototyping and testing with inexpensive Arduino devices before switching to another module with minimal code changes.\n"
   ]
  },
  {
   "cell_type": "markdown",
   "metadata": {},
   "source": [
    "The packet over serial\n",
    "\n",
    "\n",
    "\n",
    "https://python-can.readthedocs.io/en/2.1.0/interfaces/serial.html\n",
    "\n",
    "|                | Length (Byte) | Data type               | Byte order    | Description                                   |\n",
    "|----------------|---------------|-------------------------|---------------|-----------------------------------------------|\n",
    "| Start of frame | 1             | Byte                    | -             | Must be 0xAA                                  |\n",
    "| Timestamp      | 4             | Unsigned 4 byte integer | Little-Endian | Usually s, ms or µs since start of the device |\n",
    "| DLC            | 1             | Unsigned 1 byte integer | Little-Endian | Length in byte of the payload                 |\n",
    "| Arbitration ID | 4             | Unsigned 4 byte integer | Little-Endian | -                                             |\n",
    "| Payload        | 0 - 8         | Byte                    | -             | -                                             |\n",
    "| End of frame   | 1             | Byte                    | -             | Must be 0xBB                                  |"
   ]
  },
  {
   "cell_type": "code",
   "execution_count": 8,
   "metadata": {},
   "outputs": [],
   "source": [
    "import glob\n",
    "import uuid\n",
    "import jinja2\n",
    "import os\n",
    "import re"
   ]
  },
  {
   "cell_type": "code",
   "execution_count": 9,
   "metadata": {},
   "outputs": [
    {
     "data": {
      "text/plain": [
       "['32bcb173-1e12-432b-83d3-c2bebf2b9885.ino']"
      ]
     },
     "execution_count": 9,
     "metadata": {},
     "output_type": "execute_result"
    }
   ],
   "source": [
    "old_sketches = glob.glob(\"*.ino\")\n",
    "old_sketches"
   ]
  },
  {
   "cell_type": "code",
   "execution_count": 10,
   "metadata": {},
   "outputs": [
    {
     "name": "stdout",
     "output_type": "stream",
     "text": [
      "Deleting: 32bcb173-1e12-432b-83d3-c2bebf2b9885.ino\n"
     ]
    }
   ],
   "source": [
    "for old_sketch in old_sketches:\n",
    "    print(\"Deleting: {}\".format(old_sketch))\n",
    "    os.unlink(old_sketch)"
   ]
  },
  {
   "cell_type": "markdown",
   "metadata": {},
   "source": [
    "## Universally unique identifier\n",
    "\n",
    "> From Wikipedia, the free encyclopedia\n",
    "A universally unique identifier (UUID) is a 128-bit number used to identify information in computer systems. The term globally unique identifier (GUID) is also used.\n",
    "\n",
    "> When generated according to the standard methods, UUIDs are for practical purposes unique, without depending for their uniqueness on a central registration authority or coordination between the parties generating them, unlike most other numbering schemes. While the probability that a UUID will be duplicated is not zero, it is close enough to zero to be negligible.\n",
    "\n",
    "> Thus, anyone can create a UUID and use it to identify something with near certainty that the identifier does not duplicate one that has already been, or will be, created to identify something else. **Information labeled with UUIDs by independent parties can therefore be later combined into a single database, or transmitted on the same channel, without needing to resolve conflicts between identifiers**.\n",
    "\n",
    "> Adoption of UUIDs and GUIDs is widespread, with many computing platforms providing support for generating them, and for parsing their textual representation.\n",
    "\n",
    "- https://en.wikipedia.org/wiki/Universally_unique_identifier"
   ]
  },
  {
   "cell_type": "code",
   "execution_count": 11,
   "metadata": {},
   "outputs": [
    {
     "data": {
      "text/plain": [
       "'06d8aed8-877c-4bdc-83c0-9284998f05b2'"
      ]
     },
     "execution_count": 11,
     "metadata": {},
     "output_type": "execute_result"
    }
   ],
   "source": [
    "build_uuid = str(uuid.uuid4())\n",
    "build_uuid"
   ]
  },
  {
   "cell_type": "code",
   "execution_count": 104,
   "metadata": {},
   "outputs": [],
   "source": [
    "arduino_template_str = \"\"\"\n",
    "unsigned long BAUD = {{ baud }};\n",
    "unsigned long DELAY = {{ delay }};\n",
    "char BUILD_UUID[] = \"{{ build_uuid }}\";\n",
    "\n",
    "char ARBITRATION_ID = 0x0;\n",
    "unsigned long time = 0b0;\n",
    "unsigned char counter = 0;\n",
    "\n",
    "// Arduino Setup\n",
    "void setup() {\n",
    "  Serial.begin(BAUD);\n",
    "  Serial.print(\"Build UUID: \");\n",
    "  Serial.println(BUILD_UUID);\n",
    "    // Start of frame\n",
    "  Serial.write(0xAA);\n",
    "// Timestamp\n",
    "  Serial.write(0x00);\n",
    "  Serial.write(0x00);\n",
    "  Serial.write(0x00);\n",
    "  Serial.write(0x00);\n",
    "// DLC\n",
    "  Serial.write(0x00);\n",
    "// Arbitration ID\n",
    "  Serial.write(0x00);\n",
    "  Serial.write(0x00);\n",
    "  Serial.write(0x00);\n",
    "  Serial.write(0xFF);\n",
    "// End of frame\n",
    "  Serial.write(0xBB);\n",
    "  return; \n",
    "}\n",
    "\n",
    "// Arduino Main Loop\n",
    "void loop() {\n",
    "   time = millis();\n",
    "// Start of frame\n",
    "  Serial.write(0xAA);\n",
    "// Timestamp\n",
    "for(char shift=0;shift<32;shift+=8) {\n",
    "  Serial.write((unsigned long)time>>shift&0b11111111);\n",
    "}\n",
    "// DLC\n",
    "  Serial.write(0x04);\n",
    "// Arbitration ID\n",
    "ARBITRATION_ID=0xFF;\n",
    "for(char shift=0;shift<32;shift+=8) {\n",
    "  Serial.write(((unsigned long)ARBITRATION_ID>>shift)&0b11111111);\n",
    "}\n",
    "// Payload\n",
    "\n",
    "for(char shift=0;shift<32;shift+=8) {\n",
    "  Serial.write((unsigned long)time>>shift&0b11111111);\n",
    "}\n",
    "  Serial.write(0xBB);\n",
    "  \n",
    "  \n",
    "   time = millis();\n",
    "// Start of frame\n",
    "  Serial.write(0xAA);\n",
    "// Timestamp\n",
    "for(char shift=0;shift<32;shift+=8) {\n",
    "  Serial.write((unsigned long)time>>shift&0b11111111);\n",
    "}\n",
    "// DLC\n",
    "  Serial.write(0x04);\n",
    "// Arbitration ID\n",
    "ARBITRATION_ID=0xEE;\n",
    "for(char shift=0;shift<32;shift+=8) {\n",
    "  Serial.write(((unsigned long)ARBITRATION_ID>>shift)&0b11111111);\n",
    "}\n",
    "// Payload\n",
    "\n",
    "uint16_t sine_value = (float)(pow(2,15)*(sin((float)time)+1));\n",
    "\n",
    "for(char shift=0;shift<32;shift+=8) {\n",
    "  Serial.write((unsigned long)sine_value>>shift&0b11111111);\n",
    "}\n",
    "  Serial.write(0xBB);\n",
    "  \n",
    "  delay(DELAY);\n",
    "  \n",
    "  return;\n",
    "}\n",
    "\"\"\"\n",
    "arduino_template = jinja2.Template(arduino_template_str)"
   ]
  },
  {
   "cell_type": "code",
   "execution_count": 105,
   "metadata": {},
   "outputs": [
    {
     "name": "stdout",
     "output_type": "stream",
     "text": [
      "\n",
      "unsigned long BAUD = 115200;\n",
      "unsigned long DELAY = 1000;\n",
      "char BUILD_UUID[] = \"06d8aed8-877c-4bdc-83c0-9284998f05b2\";\n",
      "\n",
      "char ARBITRATION_ID = 0x0;\n",
      "unsigned long time = 0b0;\n",
      "unsigned char counter = 0;\n",
      "\n",
      "// Arduino Setup\n",
      "void setup() {\n",
      "  Serial.begin(BAUD);\n",
      "  Serial.print(\"Build UUID: \");\n",
      "  Serial.println(BUILD_UUID);\n",
      "    // Start of frame\n",
      "  Serial.write(0xAA);\n",
      "// Timestamp\n",
      "  Serial.write(0x00);\n",
      "  Serial.write(0x00);\n",
      "  Serial.write(0x00);\n",
      "  Serial.write(0x00);\n",
      "// DLC\n",
      "  Serial.write(0x00);\n",
      "// Arbitration ID\n",
      "  Serial.write(0x00);\n",
      "  Serial.write(0x00);\n",
      "  Serial.write(0x00);\n",
      "  Serial.write(0xFF);\n",
      "// End of frame\n",
      "  Serial.write(0xBB);\n",
      "  return; \n",
      "}\n",
      "\n",
      "// Arduino Main Loop\n",
      "void loop() {\n",
      "   time = millis();\n",
      "// Start of frame\n",
      "  Serial.write(0xAA);\n",
      "// Timestamp\n",
      "for(char shift=0;shift<32;shift+=8) {\n",
      "  Serial.write((unsigned long)time>>shift&0b11111111);\n",
      "}\n",
      "// DLC\n",
      "  Serial.write(0x04);\n",
      "// Arbitration ID\n",
      "ARBITRATION_ID=0xFF;\n",
      "for(char shift=0;shift<32;shift+=8) {\n",
      "  Serial.write(((unsigned long)ARBITRATION_ID>>shift)&0b11111111);\n",
      "}\n",
      "// Payload\n",
      "\n",
      "for(char shift=0;shift<32;shift+=8) {\n",
      "  Serial.write((unsigned long)time>>shift&0b11111111);\n",
      "}\n",
      "  Serial.write(0xBB);\n",
      "  \n",
      "  \n",
      "   time = millis();\n",
      "// Start of frame\n",
      "  Serial.write(0xAA);\n",
      "// Timestamp\n",
      "for(char shift=0;shift<32;shift+=8) {\n",
      "  Serial.write((unsigned long)time>>shift&0b11111111);\n",
      "}\n",
      "// DLC\n",
      "  Serial.write(0x04);\n",
      "// Arbitration ID\n",
      "ARBITRATION_ID=0xEE;\n",
      "for(char shift=0;shift<32;shift+=8) {\n",
      "  Serial.write(((unsigned long)ARBITRATION_ID>>shift)&0b11111111);\n",
      "}\n",
      "// Payload\n",
      "\n",
      "uint16_t sine_value = (float)(pow(2,15)*(sin((float)time)+1));\n",
      "\n",
      "for(char shift=0;shift<32;shift+=8) {\n",
      "  Serial.write((unsigned long)sine_value>>shift&0b11111111);\n",
      "}\n",
      "  Serial.write(0xBB);\n",
      "  \n",
      "  delay(DELAY);\n",
      "  \n",
      "  return;\n",
      "}\n"
     ]
    }
   ],
   "source": [
    "sketch_cfg=dict()\n",
    "sketch_cfg[\"baud\"] = 115200\n",
    "sketch_cfg[\"delay\"]= 1000\n",
    "sketch_cfg[\"arbitration_id\"]=12\n",
    "sketch_cfg[\"build_uuid\"]=build_uuid\n",
    "\n",
    "arduino_sketch = (arduino_template.render(**sketch_cfg))\n",
    "\n",
    "print(arduino_sketch)\n",
    "with open(build_uuid+\".ino\", \"w\") as fid:\n",
    "    fid.write(arduino_sketch)"
   ]
  },
  {
   "cell_type": "code",
   "execution_count": 106,
   "metadata": {},
   "outputs": [
    {
     "name": "stdout",
     "output_type": "stream",
     "text": [
      "-------------------------\n",
      "Arduino.mk Configuration:\n",
      "- [AUTODETECTED]       CURRENT_OS = LINUX \n",
      "- [AUTODETECTED]       ARDUINO_DIR = /usr/share/arduino \n",
      "- [COMPUTED]           ARDMK_DIR = /projects/arduino_IO/arduino_make (relative to Common.mk)\n",
      "- [AUTODETECTED]       ARDUINO_VERSION = 105 \n",
      "- [DEFAULT]            ARCHITECTURE =  \n",
      "- [DEFAULT]            ARDMK_VENDOR = arduino \n",
      "- [AUTODETECTED]       ARDUINO_PREFERENCES_PATH = /mnt/ubuntu1604_2/home/jed/.arduino/preferences.txt \n",
      "- [AUTODETECTED]       ARDUINO_SKETCHBOOK = /mnt/ubuntu1604_2/home/jed/sketchbook (from arduino preferences file)\n",
      "- [BUNDLED]            AVR_TOOLS_DIR = /usr/share/arduino/hardware/tools/avr (in Arduino distribution)\n",
      "- [COMPUTED]           ARDUINO_LIB_PATH = /usr/share/arduino/libraries (from ARDUINO_DIR)\n",
      "- [COMPUTED]           ARDUINO_VAR_PATH = /usr/share/arduino/hardware/arduino//variants (from ARDUINO_DIR)\n",
      "- [COMPUTED]           BOARDS_TXT = /usr/share/arduino/hardware/arduino//boards.txt (from ARDUINO_DIR)\n",
      "- [DEFAULT]            USER_LIB_PATH = /mnt/ubuntu1604_2/home/jed/sketchbook/libraries (in user sketchbook)\n",
      "- [DEFAULT]            PRE_BUILD_HOOK = pre-build-hook.sh \n",
      "- [USER]               BOARD_TAG = nano328 \n",
      "- [COMPUTED]           CORE = arduino (from build.core)\n",
      "- [COMPUTED]           VARIANT = eightanaloginputs (from build.variant)\n",
      "- [COMPUTED]           OBJDIR = build-nano328 (from BOARD_TAG)\n",
      "- [COMPUTED]           ARDUINO_CORE_PATH = /usr/share/arduino/hardware/arduino//cores/arduino (from ARDUINO_DIR, BOARD_TAG and boards.txt)\n",
      "- [ASSUMED]            MONITOR_BAUDRATE = 9600 \n",
      "- [DEFAULT]            OPTIMIZATION_LEVEL = s \n",
      "- [DEFAULT]            MCU_FLAG_NAME = mmcu \n",
      "- [DEFAULT]            CFLAGS_STD = -std=gnu11 -flto -fno-fat-lto-objects \n",
      "- [DEFAULT]            CXXFLAGS_STD = -std=gnu++11 -fno-threadsafe-statics -flto \n",
      "- [AUTODETECTED]       DEVICE_PATH = /dev/ttyUSB1 \n",
      "- [DEFAULT]            FORCE_MONITOR_PORT =  \n",
      "- [AUTODETECTED]       Size utility: AVR-aware for enhanced output\n",
      "- [COMPUTED]           BOOTLOADER_PARENT = /usr/share/arduino/hardware/arduino//bootloaders (from ARDUINO_DIR)\n",
      "- [COMPUTED]           ARDMK_VERSION = 1.5 \n",
      "- [COMPUTED]           CC_VERSION = 5.4.0 (avr-gcc)\n",
      "-------------------------\n",
      "mkdir -p build-nano328\n",
      "/usr/share/arduino/hardware/tools/avr/bin/avr-g++ -x c++ -include Arduino.h -MMD -c -mmcu=atmega328p -DF_CPU=16000000L -DARDUINO=105  -D__PROG_TYPES_COMPAT__ -I/usr/share/arduino/hardware/arduino//cores/arduino -I/usr/share/arduino/hardware/arduino//variants/eightanaloginputs    -Wall -ffunction-sections -fdata-sections -Os -fpermissive -fno-exceptions -std=gnu++11 -fno-threadsafe-statics -flto 06d8aed8-877c-4bdc-83c0-9284998f05b2.ino -o build-nano328/06d8aed8-877c-4bdc-83c0-9284998f05b2.ino.o\n",
      "/usr/share/arduino/hardware/tools/avr/bin/avr-gcc -mmcu=atmega328p -Wl,--gc-sections -Os -flto -fuse-linker-plugin -o build-nano328/SerialCAN.elf build-nano328/06d8aed8-877c-4bdc-83c0-9284998f05b2.ino.o build-nano328/libcore.a   -lc -lm \n",
      "/usr/share/arduino/hardware/tools/avr/bin/avr-objcopy -O ihex -R .eeprom build-nano328/SerialCAN.elf build-nano328/SerialCAN.hex\n",
      "\n",
      "/usr/share/arduino/hardware/tools/avr/bin/avr-size --mcu=atmega328p -C --format=avr build-nano328/SerialCAN.elf\n",
      "AVR Memory Usage\n",
      "----------------\n",
      "Device: atmega328p\n",
      "\n",
      "Program:    3402 bytes (10.4% Full)\n",
      "(.text + .data + .bootloader)\n",
      "\n",
      "Data:        250 bytes (12.2% Full)\n",
      "(.data + .bss + .noinit)\n",
      "\n",
      "\n",
      "make reset\n",
      "make[1]: Entering directory '/projects/arduino_IO/SerialCAN'\n",
      "/projects/arduino_IO/arduino_make/bin/ard-reset-arduino  /dev/ttyUSB1\n",
      "make[1]: Leaving directory '/projects/arduino_IO/SerialCAN'\n",
      "make do_upload\n",
      "make[1]: Entering directory '/projects/arduino_IO/SerialCAN'\n",
      "/usr/share/arduino/hardware/tools/avr/../avrdude -q -V -p atmega328p -C /usr/share/arduino/hardware/tools/avr/../avrdude.conf -D -c arduino -b 57600 -P /dev/ttyUSB1 \\\n",
      "\t\t-U flash:w:build-nano328/SerialCAN.hex:i\n",
      "make[1]: Leaving directory '/projects/arduino_IO/SerialCAN'\n",
      "\n"
     ]
    }
   ],
   "source": [
    "import subprocess\n",
    "try:\n",
    "    stdout = subprocess.check_output([\"make\", \"upload\"]).decode()\n",
    "    r = re.compile(\"(/dev/ttyUSB[\\d]+)\")\n",
    "    r.findall(stdout)\n",
    "    print(stdout)\n",
    "except subprocess.CalledProcessError as err:\n",
    "    print(\"Build Failed:\")\n",
    "    print(err)\n",
    "except:\n",
    "    raise"
   ]
  },
  {
   "cell_type": "code",
   "execution_count": 107,
   "metadata": {},
   "outputs": [
    {
     "data": {
      "text/plain": [
       "['/dev/ttyUSB1', '/dev/ttyUSB1', '/dev/ttyUSB1']"
      ]
     },
     "execution_count": 107,
     "metadata": {},
     "output_type": "execute_result"
    }
   ],
   "source": [
    "serial_ports = r.findall(stdout)\n",
    "serial_ports"
   ]
  },
  {
   "cell_type": "code",
   "execution_count": 108,
   "metadata": {},
   "outputs": [],
   "source": [
    "for i in range(len(serial_ports)-1):\n",
    "    assert (serial_ports[i] == serial_ports[i+1])"
   ]
  },
  {
   "cell_type": "code",
   "execution_count": 109,
   "metadata": {},
   "outputs": [],
   "source": [
    "import serial"
   ]
  },
  {
   "cell_type": "code",
   "execution_count": 110,
   "metadata": {},
   "outputs": [],
   "source": [
    "ser = serial.Serial(port=serial_ports[0], baudrate=115200, timeout=10)"
   ]
  },
  {
   "cell_type": "code",
   "execution_count": 111,
   "metadata": {},
   "outputs": [],
   "source": [
    "import time"
   ]
  },
  {
   "cell_type": "code",
   "execution_count": 112,
   "metadata": {},
   "outputs": [
    {
     "data": {
      "text/plain": [
       "b'Build UUID: 06d8aed8-877c-4bdc-83c0-9284998f05b2\\r\\n'"
      ]
     },
     "execution_count": 112,
     "metadata": {},
     "output_type": "execute_result"
    }
   ],
   "source": [
    "ser.setDTR(False) # Drop DTR\n",
    "time.sleep(0.5)   # Read somewhere that 22ms is what the UI does.\n",
    "ser.flushInput()\n",
    "ser.setDTR(True)  # UP the DTR back\n",
    "header = ser.readline()\n",
    "header"
   ]
  },
  {
   "cell_type": "code",
   "execution_count": 113,
   "metadata": {},
   "outputs": [],
   "source": [
    "header_uuid = header.decode(\"UTF-8\").split(\":\")[1].strip()"
   ]
  },
  {
   "cell_type": "code",
   "execution_count": 114,
   "metadata": {},
   "outputs": [],
   "source": [
    "assert build_uuid == header_uuid"
   ]
  },
  {
   "cell_type": "code",
   "execution_count": 115,
   "metadata": {},
   "outputs": [
    {
     "data": {
      "text/plain": [
       "b'Build UUID: 06d8aed8-877c-4bdc-83c0-9284998f05b2\\r\\n\\xaa\\x00\\x00\\x00\\x00\\x00\\x00\\x00\\x00\\xff\\xbb'"
      ]
     },
     "execution_count": 115,
     "metadata": {},
     "output_type": "execute_result"
    }
   ],
   "source": [
    "ser.setDTR(False) # Drop DTR\n",
    "time.sleep(0.5)   # Read somewhere that 22ms is what the UI does.\n",
    "ser.flushInput()\n",
    "ser.setDTR(True)  # UP the DTR back\n",
    "\n",
    "header_packet = ser.read_until(b\"\\xBB\")\n",
    "header_packet"
   ]
  },
  {
   "cell_type": "code",
   "execution_count": 116,
   "metadata": {},
   "outputs": [
    {
     "data": {
      "text/plain": [
       "[b'Build UUID: 06d8aed8-877c-4bdc-83c0-9284998f05b2\\r\\n',\n",
       " b'\\x00\\x00\\x00\\x00\\x00\\x00\\x00\\x00\\xff\\xbb']"
      ]
     },
     "execution_count": 116,
     "metadata": {},
     "output_type": "execute_result"
    }
   ],
   "source": [
    "header_packet.split(b\"\\xAA\")"
   ]
  },
  {
   "cell_type": "code",
   "execution_count": 117,
   "metadata": {},
   "outputs": [
    {
     "data": {
      "text/plain": [
       "b'\\xaa\\x00\\x00\\x00\\x00\\x04\\xff\\xff\\xff\\xff\\x00\\x00\\x00\\x00\\xbb'"
      ]
     },
     "execution_count": 117,
     "metadata": {},
     "output_type": "execute_result"
    }
   ],
   "source": [
    "packet = ser.read_until(b\"\\xBB\")\n",
    "packet"
   ]
  },
  {
   "cell_type": "code",
   "execution_count": 118,
   "metadata": {},
   "outputs": [
    {
     "data": {
      "text/plain": [
       "b'\\xaa\\x00\\x00\\x00\\x00\\x04\\xee\\xff\\xff\\xff\\x00\\x80\\x00\\x00\\xbb'"
      ]
     },
     "execution_count": 118,
     "metadata": {},
     "output_type": "execute_result"
    }
   ],
   "source": [
    "packet = ser.read_until(b\"\\xBB\")\n",
    "packet"
   ]
  },
  {
   "cell_type": "code",
   "execution_count": 120,
   "metadata": {},
   "outputs": [
    {
     "data": {
      "text/plain": [
       "b'\\xaa\\xe9\\x03\\x00\\x00\\x04\\xee\\xff\\xff\\xff\\xc2\\xf5\\x00\\x00\\xbb'"
      ]
     },
     "execution_count": 120,
     "metadata": {},
     "output_type": "execute_result"
    }
   ],
   "source": [
    "packet = ser.read_until(b\"\\xBB\")\n",
    "packet"
   ]
  },
  {
   "cell_type": "code",
   "execution_count": 121,
   "metadata": {},
   "outputs": [
    {
     "data": {
      "text/plain": [
       "b'\\xe9\\x03\\x00\\x00'"
      ]
     },
     "execution_count": 121,
     "metadata": {},
     "output_type": "execute_result"
    }
   ],
   "source": [
    "packet[1:5]"
   ]
  },
  {
   "cell_type": "code",
   "execution_count": 122,
   "metadata": {},
   "outputs": [
    {
     "data": {
      "text/plain": [
       "b'\\xe9\\x03\\x00\\x00'"
      ]
     },
     "execution_count": 122,
     "metadata": {},
     "output_type": "execute_result"
    }
   ],
   "source": [
    "timestamp_raw = packet[1:5]\n",
    "timestamp_raw"
   ]
  },
  {
   "cell_type": "code",
   "execution_count": 123,
   "metadata": {},
   "outputs": [
    {
     "data": {
      "text/plain": [
       "1001"
      ]
     },
     "execution_count": 123,
     "metadata": {},
     "output_type": "execute_result"
    }
   ],
   "source": [
    "int.from_bytes(timestamp_raw, 'little')"
   ]
  },
  {
   "cell_type": "code",
   "execution_count": 124,
   "metadata": {},
   "outputs": [
    {
     "data": {
      "text/plain": [
       "3909287936"
      ]
     },
     "execution_count": 124,
     "metadata": {},
     "output_type": "execute_result"
    }
   ],
   "source": [
    "int.from_bytes(timestamp_raw, 'big')"
   ]
  },
  {
   "cell_type": "code",
   "execution_count": 125,
   "metadata": {},
   "outputs": [
    {
     "data": {
      "text/plain": [
       "1001"
      ]
     },
     "execution_count": 125,
     "metadata": {},
     "output_type": "execute_result"
    }
   ],
   "source": [
    "timestamp = int.from_bytes(timestamp_raw, 'little')\n",
    "timestamp"
   ]
  },
  {
   "cell_type": "code",
   "execution_count": 126,
   "metadata": {},
   "outputs": [
    {
     "data": {
      "text/plain": [
       "170"
      ]
     },
     "execution_count": 126,
     "metadata": {},
     "output_type": "execute_result"
    }
   ],
   "source": [
    "sof = packet[0]\n",
    "sof"
   ]
  },
  {
   "cell_type": "code",
   "execution_count": 127,
   "metadata": {},
   "outputs": [
    {
     "data": {
      "text/plain": [
       "170"
      ]
     },
     "execution_count": 127,
     "metadata": {},
     "output_type": "execute_result"
    }
   ],
   "source": [
    "int.from_bytes(b'\\xAA', 'little')"
   ]
  },
  {
   "cell_type": "code",
   "execution_count": 128,
   "metadata": {},
   "outputs": [
    {
     "data": {
      "text/plain": [
       "170"
      ]
     },
     "execution_count": 128,
     "metadata": {},
     "output_type": "execute_result"
    }
   ],
   "source": [
    "int.from_bytes(b'\\xAA', 'big')"
   ]
  },
  {
   "cell_type": "code",
   "execution_count": 129,
   "metadata": {},
   "outputs": [],
   "source": [
    "assert sof == int.from_bytes(b'\\xAA', 'little')"
   ]
  },
  {
   "cell_type": "code",
   "execution_count": 130,
   "metadata": {},
   "outputs": [
    {
     "data": {
      "text/plain": [
       "4"
      ]
     },
     "execution_count": 130,
     "metadata": {},
     "output_type": "execute_result"
    }
   ],
   "source": [
    "dlc = packet[5]\n",
    "dlc"
   ]
  },
  {
   "cell_type": "code",
   "execution_count": 131,
   "metadata": {},
   "outputs": [
    {
     "data": {
      "text/plain": [
       "b'\\xee\\xff\\xff\\xff'"
      ]
     },
     "execution_count": 131,
     "metadata": {},
     "output_type": "execute_result"
    }
   ],
   "source": [
    "arbitration_id_raw = packet[6:10]\n",
    "arbitration_id_raw"
   ]
  },
  {
   "cell_type": "code",
   "execution_count": 132,
   "metadata": {},
   "outputs": [
    {
     "data": {
      "text/plain": [
       "4294967278"
      ]
     },
     "execution_count": 132,
     "metadata": {},
     "output_type": "execute_result"
    }
   ],
   "source": [
    "int.from_bytes(arbitration_id_raw, 'little')"
   ]
  },
  {
   "cell_type": "code",
   "execution_count": 133,
   "metadata": {},
   "outputs": [
    {
     "data": {
      "text/plain": [
       "4009754623"
      ]
     },
     "execution_count": 133,
     "metadata": {},
     "output_type": "execute_result"
    }
   ],
   "source": [
    "int.from_bytes(arbitration_id_raw, 'big')"
   ]
  },
  {
   "cell_type": "code",
   "execution_count": 135,
   "metadata": {},
   "outputs": [
    {
     "data": {
      "text/plain": [
       "245"
      ]
     },
     "execution_count": 135,
     "metadata": {},
     "output_type": "execute_result"
    }
   ],
   "source": [
    "data = packet[11]\n",
    "data "
   ]
  },
  {
   "cell_type": "code",
   "execution_count": 136,
   "metadata": {},
   "outputs": [
    {
     "data": {
      "text/plain": [
       "{'baud': 115200,\n",
       " 'delay': 1000,\n",
       " 'arbitration_id': 12,\n",
       " 'build_uuid': '06d8aed8-877c-4bdc-83c0-9284998f05b2'}"
      ]
     },
     "execution_count": 136,
     "metadata": {},
     "output_type": "execute_result"
    }
   ],
   "source": [
    "sketch_cfg"
   ]
  },
  {
   "cell_type": "code",
   "execution_count": 138,
   "metadata": {},
   "outputs": [
    {
     "data": {
      "text/plain": [
       "'06d8aed8-877c-4bdc-83c0-9284998f05b2'"
      ]
     },
     "execution_count": 138,
     "metadata": {},
     "output_type": "execute_result"
    }
   ],
   "source": [
    "header_uuid"
   ]
  },
  {
   "cell_type": "code",
   "execution_count": 139,
   "metadata": {},
   "outputs": [
    {
     "data": {
      "text/plain": [
       "'06d8aed8-877c-4bdc-83c0-9284998f05b2'"
      ]
     },
     "execution_count": 139,
     "metadata": {},
     "output_type": "execute_result"
    }
   ],
   "source": [
    "sketch_cfg[\"build_uuid\"]"
   ]
  },
  {
   "cell_type": "code",
   "execution_count": 140,
   "metadata": {},
   "outputs": [],
   "source": [
    "assert str(header_uuid) == header_uuid"
   ]
  },
  {
   "cell_type": "code",
   "execution_count": 141,
   "metadata": {},
   "outputs": [],
   "source": [
    "assert str(sketch_cfg[\"build_uuid\"]) == sketch_cfg[\"build_uuid\"]"
   ]
  },
  {
   "cell_type": "code",
   "execution_count": 142,
   "metadata": {},
   "outputs": [],
   "source": [
    "assert header_uuid == sketch_cfg[\"build_uuid\"]"
   ]
  },
  {
   "cell_type": "code",
   "execution_count": 143,
   "metadata": {},
   "outputs": [],
   "source": [
    "ser.close()"
   ]
  },
  {
   "cell_type": "code",
   "execution_count": 144,
   "metadata": {},
   "outputs": [
    {
     "data": {
      "text/plain": [
       "'2.1.0'"
      ]
     },
     "execution_count": 144,
     "metadata": {},
     "output_type": "execute_result"
    }
   ],
   "source": [
    "import can\n",
    "can.__version__"
   ]
  },
  {
   "cell_type": "code",
   "execution_count": 145,
   "metadata": {},
   "outputs": [],
   "source": [
    "bus_cfg = dict()\n",
    "bus_cfg[\"bustype\"] = \"serial\"\n",
    "bus_cfg[\"channel\"]=\"/dev/ttyUSB1\"\n",
    "bus_cfg[\"bitrate\"]=115200\n",
    "\n",
    "bus = can.interface.Bus(**bus_cfg)    "
   ]
  },
  {
   "cell_type": "code",
   "execution_count": 146,
   "metadata": {},
   "outputs": [
    {
     "data": {
      "text/plain": [
       "'Serial interface: /dev/ttyUSB1'"
      ]
     },
     "execution_count": 146,
     "metadata": {},
     "output_type": "execute_result"
    }
   ],
   "source": [
    "bus.channel_info"
   ]
  },
  {
   "cell_type": "code",
   "execution_count": 147,
   "metadata": {},
   "outputs": [
    {
     "data": {
      "text/plain": [
       "can.Message(timestamp=38.024, is_remote_frame=False, extended_id=True, is_error_frame=False, arbitration_id=0xffffffff, dlc=4, data=[0x88, 0x94, 0x0, 0x0])"
      ]
     },
     "execution_count": 147,
     "metadata": {},
     "output_type": "execute_result"
    }
   ],
   "source": [
    "packet = bus.recv(timeout=2)\n",
    "packet"
   ]
  },
  {
   "cell_type": "code",
   "execution_count": 148,
   "metadata": {},
   "outputs": [
    {
     "data": {
      "text/plain": [
       "4294967295"
      ]
     },
     "execution_count": 148,
     "metadata": {},
     "output_type": "execute_result"
    }
   ],
   "source": [
    "packet.arbitration_id"
   ]
  },
  {
   "cell_type": "code",
   "execution_count": 149,
   "metadata": {},
   "outputs": [
    {
     "data": {
      "text/plain": [
       "4"
      ]
     },
     "execution_count": 149,
     "metadata": {},
     "output_type": "execute_result"
    }
   ],
   "source": [
    "packet.dlc"
   ]
  },
  {
   "cell_type": "code",
   "execution_count": 150,
   "metadata": {},
   "outputs": [
    {
     "data": {
      "text/plain": [
       "bytearray(b'\\x88\\x94\\x00\\x00')"
      ]
     },
     "execution_count": 150,
     "metadata": {},
     "output_type": "execute_result"
    }
   ],
   "source": [
    "packet.data"
   ]
  },
  {
   "cell_type": "code",
   "execution_count": 151,
   "metadata": {},
   "outputs": [
    {
     "data": {
      "text/plain": [
       "38024"
      ]
     },
     "execution_count": 151,
     "metadata": {},
     "output_type": "execute_result"
    }
   ],
   "source": [
    "int.from_bytes(packet.data, 'little')"
   ]
  },
  {
   "cell_type": "code",
   "execution_count": 152,
   "metadata": {},
   "outputs": [
    {
     "data": {
      "text/plain": [
       "2291400704"
      ]
     },
     "execution_count": 152,
     "metadata": {},
     "output_type": "execute_result"
    }
   ],
   "source": [
    "int.from_bytes(packet.data, 'big')"
   ]
  },
  {
   "cell_type": "code",
   "execution_count": 153,
   "metadata": {},
   "outputs": [],
   "source": [
    "import time"
   ]
  },
  {
   "cell_type": "code",
   "execution_count": 154,
   "metadata": {},
   "outputs": [],
   "source": [
    "can_packets = list()\n",
    "while len(can_packets)<20:\n",
    "    packet = bus.recv(timeout=1000)\n",
    "    if packet is None:\n",
    "        time.sleep(0.5)\n",
    "        continue\n",
    "    can_packets.append(packet)"
   ]
  },
  {
   "cell_type": "code",
   "execution_count": 155,
   "metadata": {},
   "outputs": [
    {
     "data": {
      "text/plain": [
       "1000"
      ]
     },
     "execution_count": 155,
     "metadata": {},
     "output_type": "execute_result"
    }
   ],
   "source": [
    "sketch_cfg[\"delay\"]"
   ]
  },
  {
   "cell_type": "code",
   "execution_count": 156,
   "metadata": {},
   "outputs": [
    {
     "data": {
      "text/plain": [
       "[can.Message(timestamp=38.024, is_remote_frame=False, extended_id=True, is_error_frame=False, arbitration_id=0xffffffee, dlc=4, data=[0x86, 0x4, 0x0, 0x0]),\n",
       " can.Message(timestamp=39.024, is_remote_frame=False, extended_id=True, is_error_frame=False, arbitration_id=0xffffffff, dlc=4, data=[0x70, 0x98, 0x0, 0x0]),\n",
       " can.Message(timestamp=39.025, is_remote_frame=False, extended_id=True, is_error_frame=False, arbitration_id=0xffffffee, dlc=4, data=[0x5c, 0x91, 0x0, 0x0]),\n",
       " can.Message(timestamp=40.025, is_remote_frame=False, extended_id=True, is_error_frame=False, arbitration_id=0xffffffff, dlc=4, data=[0x59, 0x9c, 0x0, 0x0]),\n",
       " can.Message(timestamp=40.026, is_remote_frame=False, extended_id=True, is_error_frame=False, arbitration_id=0xffffffee, dlc=4, data=[0xdd, 0xed, 0x0, 0x0]),\n",
       " can.Message(timestamp=41.026, is_remote_frame=False, extended_id=True, is_error_frame=False, arbitration_id=0xffffffff, dlc=4, data=[0x42, 0xa0, 0x0, 0x0]),\n",
       " can.Message(timestamp=41.026, is_remote_frame=False, extended_id=True, is_error_frame=False, arbitration_id=0xffffffee, dlc=4, data=[0x7a, 0x87, 0x0, 0x0]),\n",
       " can.Message(timestamp=42.027, is_remote_frame=False, extended_id=True, is_error_frame=False, arbitration_id=0xffffffff, dlc=4, data=[0x2b, 0xa4, 0x0, 0x0]),\n",
       " can.Message(timestamp=42.027, is_remote_frame=False, extended_id=True, is_error_frame=False, arbitration_id=0xffffffee, dlc=4, data=[0x82, 0x7, 0x0, 0x0]),\n",
       " can.Message(timestamp=43.027, is_remote_frame=False, extended_id=True, is_error_frame=False, arbitration_id=0xffffffff, dlc=4, data=[0x13, 0xa8, 0x0, 0x0]),\n",
       " can.Message(timestamp=43.027, is_remote_frame=False, extended_id=True, is_error_frame=False, arbitration_id=0xffffffee, dlc=4, data=[0xf6, 0x5f, 0x0, 0x0]),\n",
       " can.Message(timestamp=44.027, is_remote_frame=False, extended_id=True, is_error_frame=False, arbitration_id=0xffffffff, dlc=4, data=[0xfb, 0xab, 0x0, 0x0]),\n",
       " can.Message(timestamp=44.027, is_remote_frame=False, extended_id=True, is_error_frame=False, arbitration_id=0xffffffee, dlc=4, data=[0x74, 0xd4, 0x0, 0x0]),\n",
       " can.Message(timestamp=45.028, is_remote_frame=False, extended_id=True, is_error_frame=False, arbitration_id=0xffffffff, dlc=4, data=[0xe4, 0xaf, 0x0, 0x0]),\n",
       " can.Message(timestamp=45.029, is_remote_frame=False, extended_id=True, is_error_frame=False, arbitration_id=0xffffffee, dlc=4, data=[0xd2, 0x3c, 0x0, 0x0]),\n",
       " can.Message(timestamp=46.028, is_remote_frame=False, extended_id=True, is_error_frame=False, arbitration_id=0xffffffff, dlc=4, data=[0xcc, 0xb3, 0x0, 0x0]),\n",
       " can.Message(timestamp=46.029, is_remote_frame=False, extended_id=True, is_error_frame=False, arbitration_id=0xffffffee, dlc=4, data=[0x20, 0x0, 0x0, 0x0]),\n",
       " can.Message(timestamp=47.03, is_remote_frame=False, extended_id=True, is_error_frame=False, arbitration_id=0xffffffff, dlc=4, data=[0xb6, 0xb7, 0x0, 0x0]),\n",
       " can.Message(timestamp=47.03, is_remote_frame=False, extended_id=True, is_error_frame=False, arbitration_id=0xffffffee, dlc=4, data=[0xd9, 0xac, 0x0, 0x0]),\n",
       " can.Message(timestamp=48.03, is_remote_frame=False, extended_id=True, is_error_frame=False, arbitration_id=0xffffffff, dlc=4, data=[0x9e, 0xbb, 0x0, 0x0])]"
      ]
     },
     "execution_count": 156,
     "metadata": {},
     "output_type": "execute_result"
    }
   ],
   "source": [
    "can_packets"
   ]
  },
  {
   "cell_type": "code",
   "execution_count": 157,
   "metadata": {},
   "outputs": [],
   "source": [
    "import numpy as np"
   ]
  },
  {
   "cell_type": "code",
   "execution_count": 158,
   "metadata": {},
   "outputs": [],
   "source": [
    "data=object()"
   ]
  },
  {
   "cell_type": "code",
   "execution_count": 159,
   "metadata": {},
   "outputs": [],
   "source": [
    "class Data(object):\n",
    "    def __init__(self):\n",
    "        pass\n",
    "data = Data()"
   ]
  },
  {
   "cell_type": "code",
   "execution_count": 160,
   "metadata": {},
   "outputs": [
    {
     "data": {
      "text/plain": [
       "[can.Message(timestamp=38.024, is_remote_frame=False, extended_id=True, is_error_frame=False, arbitration_id=0xffffffee, dlc=4, data=[0x86, 0x4, 0x0, 0x0]),\n",
       " can.Message(timestamp=39.024, is_remote_frame=False, extended_id=True, is_error_frame=False, arbitration_id=0xffffffff, dlc=4, data=[0x70, 0x98, 0x0, 0x0]),\n",
       " can.Message(timestamp=39.025, is_remote_frame=False, extended_id=True, is_error_frame=False, arbitration_id=0xffffffee, dlc=4, data=[0x5c, 0x91, 0x0, 0x0]),\n",
       " can.Message(timestamp=40.025, is_remote_frame=False, extended_id=True, is_error_frame=False, arbitration_id=0xffffffff, dlc=4, data=[0x59, 0x9c, 0x0, 0x0]),\n",
       " can.Message(timestamp=40.026, is_remote_frame=False, extended_id=True, is_error_frame=False, arbitration_id=0xffffffee, dlc=4, data=[0xdd, 0xed, 0x0, 0x0]),\n",
       " can.Message(timestamp=41.026, is_remote_frame=False, extended_id=True, is_error_frame=False, arbitration_id=0xffffffff, dlc=4, data=[0x42, 0xa0, 0x0, 0x0]),\n",
       " can.Message(timestamp=41.026, is_remote_frame=False, extended_id=True, is_error_frame=False, arbitration_id=0xffffffee, dlc=4, data=[0x7a, 0x87, 0x0, 0x0]),\n",
       " can.Message(timestamp=42.027, is_remote_frame=False, extended_id=True, is_error_frame=False, arbitration_id=0xffffffff, dlc=4, data=[0x2b, 0xa4, 0x0, 0x0]),\n",
       " can.Message(timestamp=42.027, is_remote_frame=False, extended_id=True, is_error_frame=False, arbitration_id=0xffffffee, dlc=4, data=[0x82, 0x7, 0x0, 0x0]),\n",
       " can.Message(timestamp=43.027, is_remote_frame=False, extended_id=True, is_error_frame=False, arbitration_id=0xffffffff, dlc=4, data=[0x13, 0xa8, 0x0, 0x0]),\n",
       " can.Message(timestamp=43.027, is_remote_frame=False, extended_id=True, is_error_frame=False, arbitration_id=0xffffffee, dlc=4, data=[0xf6, 0x5f, 0x0, 0x0]),\n",
       " can.Message(timestamp=44.027, is_remote_frame=False, extended_id=True, is_error_frame=False, arbitration_id=0xffffffff, dlc=4, data=[0xfb, 0xab, 0x0, 0x0]),\n",
       " can.Message(timestamp=44.027, is_remote_frame=False, extended_id=True, is_error_frame=False, arbitration_id=0xffffffee, dlc=4, data=[0x74, 0xd4, 0x0, 0x0]),\n",
       " can.Message(timestamp=45.028, is_remote_frame=False, extended_id=True, is_error_frame=False, arbitration_id=0xffffffff, dlc=4, data=[0xe4, 0xaf, 0x0, 0x0]),\n",
       " can.Message(timestamp=45.029, is_remote_frame=False, extended_id=True, is_error_frame=False, arbitration_id=0xffffffee, dlc=4, data=[0xd2, 0x3c, 0x0, 0x0]),\n",
       " can.Message(timestamp=46.028, is_remote_frame=False, extended_id=True, is_error_frame=False, arbitration_id=0xffffffff, dlc=4, data=[0xcc, 0xb3, 0x0, 0x0]),\n",
       " can.Message(timestamp=46.029, is_remote_frame=False, extended_id=True, is_error_frame=False, arbitration_id=0xffffffee, dlc=4, data=[0x20, 0x0, 0x0, 0x0]),\n",
       " can.Message(timestamp=47.03, is_remote_frame=False, extended_id=True, is_error_frame=False, arbitration_id=0xffffffff, dlc=4, data=[0xb6, 0xb7, 0x0, 0x0]),\n",
       " can.Message(timestamp=47.03, is_remote_frame=False, extended_id=True, is_error_frame=False, arbitration_id=0xffffffee, dlc=4, data=[0xd9, 0xac, 0x0, 0x0]),\n",
       " can.Message(timestamp=48.03, is_remote_frame=False, extended_id=True, is_error_frame=False, arbitration_id=0xffffffff, dlc=4, data=[0x9e, 0xbb, 0x0, 0x0])]"
      ]
     },
     "execution_count": 160,
     "metadata": {},
     "output_type": "execute_result"
    }
   ],
   "source": [
    "can_packets"
   ]
  },
  {
   "cell_type": "code",
   "execution_count": 161,
   "metadata": {},
   "outputs": [
    {
     "data": {
      "text/plain": [
       "[38.024,\n",
       " 39.024,\n",
       " 39.025,\n",
       " 40.025,\n",
       " 40.026,\n",
       " 41.026,\n",
       " 41.026,\n",
       " 42.027,\n",
       " 42.027,\n",
       " 43.027,\n",
       " 43.027,\n",
       " 44.027,\n",
       " 44.027,\n",
       " 45.028,\n",
       " 45.029,\n",
       " 46.028,\n",
       " 46.029,\n",
       " 47.03,\n",
       " 47.03,\n",
       " 48.03]"
      ]
     },
     "execution_count": 161,
     "metadata": {},
     "output_type": "execute_result"
    }
   ],
   "source": [
    "data.time = [packet.timestamp for packet in can_packets]\n",
    "data.time"
   ]
  },
  {
   "cell_type": "code",
   "execution_count": 166,
   "metadata": {},
   "outputs": [
    {
     "data": {
      "text/plain": [
       "[1158,\n",
       " 39024,\n",
       " 37212,\n",
       " 40025,\n",
       " 60893,\n",
       " 41026,\n",
       " 34682,\n",
       " 42027,\n",
       " 1922,\n",
       " 43027,\n",
       " 24566,\n",
       " 44027,\n",
       " 54388,\n",
       " 45028,\n",
       " 15570,\n",
       " 46028,\n",
       " 32,\n",
       " 47030,\n",
       " 44249,\n",
       " 48030]"
      ]
     },
     "execution_count": 166,
     "metadata": {},
     "output_type": "execute_result"
    }
   ],
   "source": [
    "data.value = [int.from_bytes(packet.data, 'little') for packet in can_packets]\n",
    "data.value"
   ]
  },
  {
   "cell_type": "code",
   "execution_count": 163,
   "metadata": {},
   "outputs": [],
   "source": [
    "import seaborn as sns\n",
    "import matplotlib.pyplot as plt"
   ]
  },
  {
   "cell_type": "code",
   "execution_count": 164,
   "metadata": {},
   "outputs": [],
   "source": [
    "%matplotlib inline"
   ]
  },
  {
   "cell_type": "code",
   "execution_count": 165,
   "metadata": {},
   "outputs": [
    {
     "data": {
      "text/plain": [
       "[<matplotlib.lines.Line2D at 0x7f51c9eaaf98>]"
      ]
     },
     "execution_count": 165,
     "metadata": {},
     "output_type": "execute_result"
    },
    {
     "data": {
      "image/png": "[encoded data removed]",
      "text/plain": [
       "<Figure size 432x288 with 1 Axes>"
      ]
     },
     "metadata": {},
     "output_type": "display_data"
    }
   ],
   "source": [
    "plt.xkcd()\n",
    "\n",
    "fig = plt.figure()\n",
    "ax = fig.add_subplot(1, 1, 1)\n",
    "ax.spines['right'].set_color('none')\n",
    "ax.spines['top'].set_color('none')\n",
    "plt.xticks([])\n",
    "plt.yticks([])\n",
    "plt.plot(data.time, data.value)"
   ]
  },
  {
   "cell_type": "code",
   "execution_count": null,
   "metadata": {},
   "outputs": [],
   "source": []
  }
 ],
 "metadata": {
  "kernelspec": {
   "display_name": "Python 3",
   "language": "python",
   "name": "python3"
  },
  "language_info": {
   "codemirror_mode": {
    "name": "ipython",
    "version": 3
   },
   "file_extension": ".py",
   "mimetype": "text/x-python",
   "name": "python",
   "nbconvert_exporter": "python",
   "pygments_lexer": "ipython3",
   "version": "3.6.5"
  }
 },
 "nbformat": 4,
 "nbformat_minor": 2
}
