{
 "cells": [
  {
   "cell_type": "markdown",
   "metadata": {},
   "source": [
    "# python-can CAN over serial\n",
    "\n",
    "[```python-can```](https://python-can.readthedocs.io/en/2.1.0/index.html) includes a [CAN over Serial](\n",
    "https://python-can.readthedocs.io/en/2.1.0/interfaces/serial.html\n",
    ") module.\n",
    "\n",
    "This allows prototyping and testing with inexpensive Arduino devices before switching to another module with minimal code changes."
   ]
  },
  {
   "cell_type": "markdown",
   "metadata": {},
   "source": [
    "The packet over serial\n",
    "\n",
    "\n",
    "\n",
    "|                | Length (Byte) | Data type               | Byte order    | Description                                   |\n",
    "|----------------|---------------|-------------------------|---------------|-----------------------------------------------|\n",
    "| Start of frame | 1             | Byte                    | -             | Must be 0xAA                                  |\n",
    "| Timestamp      | 4             | Unsigned 4 byte integer | Little-Endian | Usually s, ms or µs since start of the device |\n",
    "| DLC            | 1             | Unsigned 1 byte integer | Little-Endian | Length in byte of the payload                 |\n",
    "| Arbitration ID | 4             | Unsigned 4 byte integer | Little-Endian | -                                             |\n",
    "| Payload        | 0 - 8         | Byte                    | -             | -                                             |\n",
    "| End of frame   | 1             | Byte                    | -             | Must be 0xBB                                  |"
   ]
  },
  {
   "cell_type": "code",
   "execution_count": 356,
   "metadata": {},
   "outputs": [],
   "source": [
    "import glob\n",
    "import uuid\n",
    "import jinja2\n",
    "import os\n",
    "import re"
   ]
  },
  {
   "cell_type": "code",
   "execution_count": 357,
   "metadata": {},
   "outputs": [
    {
     "data": {
      "text/plain": [
       "['06d8aed8-877c-4bdc-83c0-9284998f05b2.ino']"
      ]
     },
     "execution_count": 357,
     "metadata": {},
     "output_type": "execute_result"
    }
   ],
   "source": [
    "old_sketches = glob.glob(\"*.ino\")\n",
    "old_sketches"
   ]
  },
  {
   "cell_type": "code",
   "execution_count": 358,
   "metadata": {},
   "outputs": [
    {
     "name": "stdout",
     "output_type": "stream",
     "text": [
      "Deleting: 06d8aed8-877c-4bdc-83c0-9284998f05b2.ino\n"
     ]
    }
   ],
   "source": [
    "for old_sketch in old_sketches:\n",
    "    print(\"Deleting: {}\".format(old_sketch))\n",
    "    os.unlink(old_sketch)"
   ]
  },
  {
   "cell_type": "markdown",
   "metadata": {},
   "source": [
    "## Universally unique identifier\n",
    "\n",
    "> From Wikipedia, the free encyclopedia\n",
    "A universally unique identifier (UUID) is a 128-bit number used to identify information in computer systems. The term globally unique identifier (GUID) is also used.\n",
    "\n",
    "> When generated according to the standard methods, UUIDs are for practical purposes unique, without depending for their uniqueness on a central registration authority or coordination between the parties generating them, unlike most other numbering schemes. While the probability that a UUID will be duplicated is not zero, it is close enough to zero to be negligible.\n",
    "\n",
    "> Thus, anyone can create a UUID and use it to identify something with near certainty that the identifier does not duplicate one that has already been, or will be, created to identify something else. **Information labeled with UUIDs by independent parties can therefore be later combined into a single database, or transmitted on the same channel, without needing to resolve conflicts between identifiers**.\n",
    "\n",
    "> Adoption of UUIDs and GUIDs is widespread, with many computing platforms providing support for generating them, and for parsing their textual representation.\n",
    "\n",
    "- https://en.wikipedia.org/wiki/Universally_unique_identifier"
   ]
  },
  {
   "cell_type": "code",
   "execution_count": 359,
   "metadata": {},
   "outputs": [
    {
     "data": {
      "text/plain": [
       "'4ef725f2-0beb-4755-b3ab-5af50dc810f2'"
      ]
     },
     "execution_count": 359,
     "metadata": {},
     "output_type": "execute_result"
    }
   ],
   "source": [
    "build_uuid = str(uuid.uuid4())\n",
    "build_uuid"
   ]
  },
  {
   "cell_type": "code",
   "execution_count": 369,
   "metadata": {},
   "outputs": [],
   "source": [
    "arduino_template_str = \"\"\"\n",
    "unsigned long BAUD = {{ baud }};\n",
    "unsigned long DELAY = {{ delay }};\n",
    "char BUILD_UUID[] = \"{{ build_uuid }}\";\n",
    "\n",
    "unsigned long arbitration_id = 0x0;\n",
    "unsigned long time_millis = 0b0;\n",
    "unsigned long timestamp = 0x0;\n",
    "\n",
    "uint8_t counter8 = 0x00;\n",
    "uint16_t counter16 = 0x0000;\n",
    "uint32_t counter32 = 0x00000000;\n",
    "\n",
    "// Arduino Setup\n",
    "void setup() {\n",
    "Serial.begin(BAUD);\n",
    "Serial.print(\"Build UUID: \");\n",
    "Serial.println(BUILD_UUID);\n",
    "\n",
    "// Start of frame\n",
    "Serial.write(0xAA);\n",
    "\n",
    "// Timestamp\n",
    "Serial.write(0x00);\n",
    "Serial.write(0x00);\n",
    "Serial.write(0x00);\n",
    "Serial.write(0x00);\n",
    "\n",
    "// DLC\n",
    "Serial.write(0x00);\n",
    "\n",
    "// Arbitration ID\n",
    "Serial.write(0x00);\n",
    "Serial.write(0x00);\n",
    "Serial.write(0x00);\n",
    "Serial.write(0x00);\n",
    "\n",
    "// End of frame\n",
    "Serial.write(0xBB);\n",
    "return; \n",
    "}\n",
    "\n",
    "// Arduino Main Loop\n",
    "void loop() {\n",
    "time_millis = millis();\n",
    "// Start of frame\n",
    "Serial.write(0xAA);\n",
    "\n",
    "// Timestamp\n",
    "timestamp = time_millis/10;\n",
    "for(char shift=0;shift<32;shift+=8) {\n",
    "Serial.write((char)(((unsigned long)timestamp>>shift)&0b11111111));\n",
    "}\n",
    "\n",
    "// DLC\n",
    "Serial.write(0x04);\n",
    "\n",
    "// Arbitration ID\n",
    "arbitration_id=1;\n",
    "for(char shift=0;shift<32;shift+=8) {\n",
    "Serial.write((char)(((unsigned long)arbitration_id>>shift)&0xFF));\n",
    "}\n",
    "\n",
    "// Payload\n",
    "for(char shift=0;shift<32;shift+=8) {\n",
    "Serial.write((unsigned long)time_millis>>shift&0b11111111);\n",
    "}\n",
    "Serial.write(0xBB);\n",
    "}\n",
    "\"\"\"\n",
    "arduino_template = jinja2.Template(arduino_template_str)"
   ]
  },
  {
   "cell_type": "code",
   "execution_count": 370,
   "metadata": {},
   "outputs": [
    {
     "name": "stdout",
     "output_type": "stream",
     "text": [
      "\n",
      "unsigned long BAUD = 115200;\n",
      "unsigned long DELAY = 1000;\n",
      "char BUILD_UUID[] = \"4ef725f2-0beb-4755-b3ab-5af50dc810f2\";\n",
      "\n",
      "unsigned long arbitration_id = 0x0;\n",
      "unsigned long time_millis = 0b0;\n",
      "unsigned long timestamp = 0x0;\n",
      "\n",
      "uint8_t counter8 = 0x00;\n",
      "uint16_t counter16 = 0x0000;\n",
      "uint32_t counter32 = 0x00000000;\n",
      "\n",
      "// Arduino Setup\n",
      "void setup() {\n",
      "Serial.begin(BAUD);\n",
      "Serial.print(\"Build UUID: \");\n",
      "Serial.println(BUILD_UUID);\n",
      "\n",
      "// Start of frame\n",
      "Serial.write(0xAA);\n",
      "\n",
      "// Timestamp\n",
      "Serial.write(0x00);\n",
      "Serial.write(0x00);\n",
      "Serial.write(0x00);\n",
      "Serial.write(0x00);\n",
      "\n",
      "// DLC\n",
      "Serial.write(0x00);\n",
      "\n",
      "// Arbitration ID\n",
      "Serial.write(0x00);\n",
      "Serial.write(0x00);\n",
      "Serial.write(0x00);\n",
      "Serial.write(0x00);\n",
      "\n",
      "// End of frame\n",
      "Serial.write(0xBB);\n",
      "return; \n",
      "}\n",
      "\n",
      "// Arduino Main Loop\n",
      "void loop() {\n",
      "time_millis = millis();\n",
      "// Start of frame\n",
      "Serial.write(0xAA);\n",
      "\n",
      "// Timestamp\n",
      "timestamp = time_millis/10;\n",
      "for(char shift=0;shift<32;shift+=8) {\n",
      "Serial.write((char)(((unsigned long)timestamp>>shift)&0b11111111));\n",
      "}\n",
      "\n",
      "// DLC\n",
      "Serial.write(0x04);\n",
      "\n",
      "// Arbitration ID\n",
      "arbitration_id=1;\n",
      "for(char shift=0;shift<32;shift+=8) {\n",
      "Serial.write((char)(((unsigned long)arbitration_id>>shift)&0xFF));\n",
      "}\n",
      "\n",
      "// Payload\n",
      "for(char shift=0;shift<32;shift+=8) {\n",
      "Serial.write((unsigned long)time_millis>>shift&0b11111111);\n",
      "}\n",
      "Serial.write(0xBB);\n",
      "}\n"
     ]
    }
   ],
   "source": [
    "sketch_cfg=dict()\n",
    "sketch_cfg[\"baud\"] = 115200\n",
    "sketch_cfg[\"delay\"]= 1000\n",
    "sketch_cfg[\"arbitration_id\"]=12\n",
    "sketch_cfg[\"build_uuid\"]=build_uuid\n",
    "\n",
    "arduino_sketch = (arduino_template.render(**sketch_cfg))\n",
    "print(arduino_sketch)\n",
    "\n",
    "sketch_file = \"{}.ino\".format(build_uuid)\n",
    "with open(sketch_file, \"w\") as fid:\n",
    "    fid.write(arduino_sketch)"
   ]
  },
  {
   "cell_type": "code",
   "execution_count": 371,
   "metadata": {},
   "outputs": [
    {
     "data": {
      "text/plain": [
       "b''"
      ]
     },
     "execution_count": 371,
     "metadata": {},
     "output_type": "execute_result"
    }
   ],
   "source": [
    "import subprocess\n",
    "subprocess.check_output([\"clang-format-6.0\", \"-style=LLVM\", \"-i\", sketch_file])"
   ]
  },
  {
   "cell_type": "code",
   "execution_count": 372,
   "metadata": {},
   "outputs": [
    {
     "name": "stdout",
     "output_type": "stream",
     "text": [
      "-------------------------\n",
      "Arduino.mk Configuration:\n",
      "- [AUTODETECTED]       CURRENT_OS = LINUX \n",
      "- [AUTODETECTED]       ARDUINO_DIR = /usr/share/arduino \n",
      "- [COMPUTED]           ARDMK_DIR = /projects/arduino_IO/arduino_make (relative to Common.mk)\n",
      "- [AUTODETECTED]       ARDUINO_VERSION = 105 \n",
      "- [DEFAULT]            ARCHITECTURE =  \n",
      "- [DEFAULT]            ARDMK_VENDOR = arduino \n",
      "- [AUTODETECTED]       ARDUINO_PREFERENCES_PATH = /mnt/ubuntu1604_2/home/jed/.arduino/preferences.txt \n",
      "- [AUTODETECTED]       ARDUINO_SKETCHBOOK = /mnt/ubuntu1604_2/home/jed/sketchbook (from arduino preferences file)\n",
      "- [BUNDLED]            AVR_TOOLS_DIR = /usr/share/arduino/hardware/tools/avr (in Arduino distribution)\n",
      "- [COMPUTED]           ARDUINO_LIB_PATH = /usr/share/arduino/libraries (from ARDUINO_DIR)\n",
      "- [COMPUTED]           ARDUINO_VAR_PATH = /usr/share/arduino/hardware/arduino//variants (from ARDUINO_DIR)\n",
      "- [COMPUTED]           BOARDS_TXT = /usr/share/arduino/hardware/arduino//boards.txt (from ARDUINO_DIR)\n",
      "- [DEFAULT]            USER_LIB_PATH = /mnt/ubuntu1604_2/home/jed/sketchbook/libraries (in user sketchbook)\n",
      "- [DEFAULT]            PRE_BUILD_HOOK = pre-build-hook.sh \n",
      "- [USER]               BOARD_TAG = nano328 \n",
      "- [COMPUTED]           CORE = arduino (from build.core)\n",
      "- [COMPUTED]           VARIANT = eightanaloginputs (from build.variant)\n",
      "- [COMPUTED]           OBJDIR = build-nano328 (from BOARD_TAG)\n",
      "- [COMPUTED]           ARDUINO_CORE_PATH = /usr/share/arduino/hardware/arduino//cores/arduino (from ARDUINO_DIR, BOARD_TAG and boards.txt)\n",
      "- [ASSUMED]            MONITOR_BAUDRATE = 9600 \n",
      "- [DEFAULT]            OPTIMIZATION_LEVEL = s \n",
      "- [DEFAULT]            MCU_FLAG_NAME = mmcu \n",
      "- [DEFAULT]            CFLAGS_STD = -std=gnu11 -flto -fno-fat-lto-objects \n",
      "- [DEFAULT]            CXXFLAGS_STD = -std=gnu++11 -fno-threadsafe-statics -flto \n",
      "- [AUTODETECTED]       DEVICE_PATH = /dev/ttyUSB2 \n",
      "- [DEFAULT]            FORCE_MONITOR_PORT =  \n",
      "- [AUTODETECTED]       Size utility: AVR-aware for enhanced output\n",
      "- [COMPUTED]           BOOTLOADER_PARENT = /usr/share/arduino/hardware/arduino//bootloaders (from ARDUINO_DIR)\n",
      "- [COMPUTED]           ARDMK_VERSION = 1.5 \n",
      "- [COMPUTED]           CC_VERSION = 5.4.0 (avr-gcc)\n",
      "-------------------------\n",
      "mkdir -p build-nano328\n",
      "/usr/share/arduino/hardware/tools/avr/bin/avr-g++ -x c++ -include Arduino.h -MMD -c -mmcu=atmega328p -DF_CPU=16000000L -DARDUINO=105  -D__PROG_TYPES_COMPAT__ -I/usr/share/arduino/hardware/arduino//cores/arduino -I/usr/share/arduino/hardware/arduino//variants/eightanaloginputs    -Wall -ffunction-sections -fdata-sections -Os -fpermissive -fno-exceptions -std=gnu++11 -fno-threadsafe-statics -flto 4ef725f2-0beb-4755-b3ab-5af50dc810f2.ino -o build-nano328/4ef725f2-0beb-4755-b3ab-5af50dc810f2.ino.o\n",
      "/usr/share/arduino/hardware/tools/avr/bin/avr-gcc -mmcu=atmega328p -Wl,--gc-sections -Os -flto -fuse-linker-plugin -o build-nano328/SerialCAN.elf build-nano328/4ef725f2-0beb-4755-b3ab-5af50dc810f2.ino.o build-nano328/libcore.a   -lc -lm \n",
      "/usr/share/arduino/hardware/tools/avr/bin/avr-objcopy -O ihex -R .eeprom build-nano328/SerialCAN.elf build-nano328/SerialCAN.hex\n",
      "\n",
      "/usr/share/arduino/hardware/tools/avr/bin/avr-size --mcu=atmega328p -C --format=avr build-nano328/SerialCAN.elf\n",
      "AVR Memory Usage\n",
      "----------------\n",
      "Device: atmega328p\n",
      "\n",
      "Program:    1964 bytes (6.0% Full)\n",
      "(.text + .data + .bootloader)\n",
      "\n",
      "Data:        257 bytes (12.5% Full)\n",
      "(.data + .bss + .noinit)\n",
      "\n",
      "\n",
      "make reset\n",
      "make[1]: Entering directory '/projects/arduino_IO/SerialCAN'\n",
      "/projects/arduino_IO/arduino_make/bin/ard-reset-arduino  /dev/ttyUSB2\n",
      "make[1]: Leaving directory '/projects/arduino_IO/SerialCAN'\n",
      "make do_upload\n",
      "make[1]: Entering directory '/projects/arduino_IO/SerialCAN'\n",
      "/usr/share/arduino/hardware/tools/avr/../avrdude -q -V -p atmega328p -C /usr/share/arduino/hardware/tools/avr/../avrdude.conf -D -c arduino -b 57600 -P /dev/ttyUSB2 \\\n",
      "\t\t-U flash:w:build-nano328/SerialCAN.hex:i\n",
      "make[1]: Leaving directory '/projects/arduino_IO/SerialCAN'\n",
      "\n"
     ]
    }
   ],
   "source": [
    "try:\n",
    "    stdout = subprocess.check_output([\"make\", \"upload\"]).decode()\n",
    "    print(stdout)\n",
    "except subprocess.CalledProcessError as err:\n",
    "    print(\"Build Failed:\")\n",
    "    print(err)\n",
    "except:\n",
    "    raise"
   ]
  },
  {
   "cell_type": "code",
   "execution_count": 373,
   "metadata": {},
   "outputs": [
    {
     "data": {
      "text/plain": [
       "['/dev/ttyUSB2', '/dev/ttyUSB2', '/dev/ttyUSB2']"
      ]
     },
     "execution_count": 373,
     "metadata": {},
     "output_type": "execute_result"
    }
   ],
   "source": [
    "serial_ports = re.compile(\"(/dev/ttyUSB[\\d]+)\").findall(stdout)\n",
    "serial_ports"
   ]
  },
  {
   "cell_type": "code",
   "execution_count": 374,
   "metadata": {},
   "outputs": [],
   "source": [
    "for i in range(len(serial_ports)-1):\n",
    "    assert (serial_ports[i] == serial_ports[i+1])"
   ]
  },
  {
   "cell_type": "code",
   "execution_count": 375,
   "metadata": {},
   "outputs": [],
   "source": [
    "import serial\n",
    "import time"
   ]
  },
  {
   "cell_type": "code",
   "execution_count": 386,
   "metadata": {},
   "outputs": [],
   "source": [
    "ser = serial.Serial(port=serial_ports[0], baudrate=115200,\n",
    "                     bytesize=serial.EIGHTBITS,\n",
    "                     parity=serial.PARITY_NONE,\n",
    "                     stopbits=serial.STOPBITS_ONE,\n",
    "                     timeout=10,\n",
    "                     xonxoff=0,\n",
    "                     rtscts=0\n",
    "                   )"
   ]
  },
  {
   "cell_type": "code",
   "execution_count": 388,
   "metadata": {},
   "outputs": [
    {
     "data": {
      "text/plain": [
       "b'\\x00\\x00\\x00fV\\x00\\x00\\xbb\\xaa\\xa3\\x08\\x00\\x00\\x04\\x01\\x00\\x00\\x00\\xe7Build UUID: 4ef725f2-0beb-4755-b3ab-5af50dc810f2\\r\\n'"
      ]
     },
     "execution_count": 388,
     "metadata": {},
     "output_type": "execute_result"
    }
   ],
   "source": [
    "ser.setDTR(False) # Drop DTR\n",
    "time.sleep(1)   # Read somewhere that 22ms is what the UI does.\n",
    "ser.flushInput()\n",
    "ser.flushOutput()\n",
    "ser.flush()\n",
    "ser.setDTR(True)  # UP the DTR back\n",
    "header = ser.readline()\n",
    "header"
   ]
  },
  {
   "cell_type": "code",
   "execution_count": 392,
   "metadata": {},
   "outputs": [],
   "source": [
    "header_uuid = header.split(b\":\")[1].strip().decode(\"UTF-8\")"
   ]
  },
  {
   "cell_type": "code",
   "execution_count": 393,
   "metadata": {},
   "outputs": [],
   "source": [
    "assert build_uuid == header_uuid"
   ]
  },
  {
   "cell_type": "code",
   "execution_count": 396,
   "metadata": {},
   "outputs": [
    {
     "data": {
      "text/plain": [
       "b'\\x01\\x00\\x00\\x00)\\x02\\x00\\x00\\xbb'"
      ]
     },
     "execution_count": 396,
     "metadata": {},
     "output_type": "execute_result"
    }
   ],
   "source": [
    "ser.setDTR(False) # Drop DTR\n",
    "time.sleep(1)   # Read somewhere that 22ms is what the UI does.\n",
    "ser.flushInput()\n",
    "ser.flushOutput()\n",
    "ser.flush()\n",
    "ser.setDTR(True)  # UP the DTR back\n",
    "\n",
    "header_packet = ser.read_until(b\"\\xBB\")\n",
    "header_packet"
   ]
  },
  {
   "cell_type": "code",
   "execution_count": 317,
   "metadata": {},
   "outputs": [
    {
     "data": {
      "text/plain": [
       "[b'Build UUID: 06d8aed8-877c-4bdc-83c0-9284998f05b2\\r\\n',\n",
       " b'\\x00\\x00\\x00\\x00\\x00\\x00\\x00\\x00\\xff\\xbb']"
      ]
     },
     "execution_count": 317,
     "metadata": {},
     "output_type": "execute_result"
    }
   ],
   "source": [
    "header_packet.split(b\"\\xAA\")"
   ]
  },
  {
   "cell_type": "code",
   "execution_count": 322,
   "metadata": {},
   "outputs": [
    {
     "name": "stdout",
     "output_type": "stream",
     "text": [
      "b'\\xe8.\\x00\\x00\\x01\\x01\\x00\\x00\\x00\\x0c\\xbb'\n",
      "b'\\xe8.\\x00\\x00\\x02\\x02\\x00\\x00\\x00\\xbb'\n",
      "b'\\xd02\\x00\\x00\\x04\\x00\\x00\\x00\\x00\\xd02\\x00\\x00\\xbb'\n",
      "b'\\xd02\\x00\\x00\\x01\\x01\\x00\\x00\\x00\\r\\xbb'\n",
      "b'\\xd02\\x00\\x00\\x02\\x02\\x00\\x00\\x00\\xbb'\n",
      "b'\\xb96\\x00\\x00\\x04\\x00\\x00\\x00\\x00\\xb96\\x00\\x00\\xbb'\n",
      "b'\\xb96\\x00\\x00\\x01\\x01\\x00\\x00\\x00\\x0e\\xbb'\n",
      "b'\\xb96\\x00\\x00\\x02\\x02\\x00\\x00\\x00\\xbb'\n",
      "b'\\xa1:\\x00\\x00\\x04\\x00\\x00\\x00\\x00\\xa1:\\x00\\x00\\xbb'\n",
      "b'\\xa1:\\x00\\x00\\x01\\x01\\x00\\x00\\x00\\x0f\\xbb'\n"
     ]
    }
   ],
   "source": [
    "for x in range(10):\n",
    "    ser.read_until(b\"\\xAA\")\n",
    "    packet = ser.read_until(b\"\\xBB\")\n",
    "    print(packet)"
   ]
  },
  {
   "cell_type": "code",
   "execution_count": 305,
   "metadata": {},
   "outputs": [
    {
     "data": {
      "text/plain": [
       "b'\\xaa\\xbb'"
      ]
     },
     "execution_count": 305,
     "metadata": {},
     "output_type": "execute_result"
    }
   ],
   "source": [
    ")packet = ser.read_until(b\"\\xBB\")\n",
    "packet"
   ]
  },
  {
   "cell_type": "code",
   "execution_count": 309,
   "metadata": {},
   "outputs": [
    {
     "data": {
      "text/plain": [
       "b'\\xaa\\xa3\\x0f\\x00\\x00\\x01\\x01\\x00\\x00\\x00\\x04\\xbb'"
      ]
     },
     "execution_count": 309,
     "metadata": {},
     "output_type": "execute_result"
    }
   ],
   "source": [
    "packet = ser.read_until(b\"\\xBB\")\n",
    "packet"
   ]
  },
  {
   "cell_type": "code",
   "execution_count": 209,
   "metadata": {},
   "outputs": [
    {
     "data": {
      "text/plain": [
       "b'\\xe9\\x03\\x00\\x00'"
      ]
     },
     "execution_count": 209,
     "metadata": {},
     "output_type": "execute_result"
    }
   ],
   "source": [
    "packet[1:5]"
   ]
  },
  {
   "cell_type": "code",
   "execution_count": 210,
   "metadata": {},
   "outputs": [
    {
     "data": {
      "text/plain": [
       "b'\\xe9\\x03\\x00\\x00'"
      ]
     },
     "execution_count": 210,
     "metadata": {},
     "output_type": "execute_result"
    }
   ],
   "source": [
    "timestamp_raw = packet[1:5]\n",
    "timestamp_raw"
   ]
  },
  {
   "cell_type": "code",
   "execution_count": 211,
   "metadata": {},
   "outputs": [
    {
     "data": {
      "text/plain": [
       "1001"
      ]
     },
     "execution_count": 211,
     "metadata": {},
     "output_type": "execute_result"
    }
   ],
   "source": [
    "int.from_bytes(timestamp_raw, 'little')"
   ]
  },
  {
   "cell_type": "code",
   "execution_count": 212,
   "metadata": {},
   "outputs": [
    {
     "data": {
      "text/plain": [
       "3909287936"
      ]
     },
     "execution_count": 212,
     "metadata": {},
     "output_type": "execute_result"
    }
   ],
   "source": [
    "int.from_bytes(timestamp_raw, 'big')"
   ]
  },
  {
   "cell_type": "code",
   "execution_count": 213,
   "metadata": {},
   "outputs": [
    {
     "data": {
      "text/plain": [
       "1001"
      ]
     },
     "execution_count": 213,
     "metadata": {},
     "output_type": "execute_result"
    }
   ],
   "source": [
    "timestamp = int.from_bytes(timestamp_raw, 'little')\n",
    "timestamp"
   ]
  },
  {
   "cell_type": "code",
   "execution_count": 214,
   "metadata": {},
   "outputs": [
    {
     "data": {
      "text/plain": [
       "170"
      ]
     },
     "execution_count": 214,
     "metadata": {},
     "output_type": "execute_result"
    }
   ],
   "source": [
    "sof = packet[0]\n",
    "sof"
   ]
  },
  {
   "cell_type": "code",
   "execution_count": 215,
   "metadata": {},
   "outputs": [
    {
     "data": {
      "text/plain": [
       "170"
      ]
     },
     "execution_count": 215,
     "metadata": {},
     "output_type": "execute_result"
    }
   ],
   "source": [
    "int.from_bytes(b'\\xAA', 'little')"
   ]
  },
  {
   "cell_type": "code",
   "execution_count": 216,
   "metadata": {},
   "outputs": [
    {
     "data": {
      "text/plain": [
       "170"
      ]
     },
     "execution_count": 216,
     "metadata": {},
     "output_type": "execute_result"
    }
   ],
   "source": [
    "int.from_bytes(b'\\xAA', 'big')"
   ]
  },
  {
   "cell_type": "code",
   "execution_count": 217,
   "metadata": {},
   "outputs": [],
   "source": [
    "assert sof == int.from_bytes(b'\\xAA', 'little')"
   ]
  },
  {
   "cell_type": "code",
   "execution_count": 218,
   "metadata": {},
   "outputs": [
    {
     "data": {
      "text/plain": [
       "4"
      ]
     },
     "execution_count": 218,
     "metadata": {},
     "output_type": "execute_result"
    }
   ],
   "source": [
    "dlc = packet[5]\n",
    "dlc"
   ]
  },
  {
   "cell_type": "code",
   "execution_count": 219,
   "metadata": {},
   "outputs": [
    {
     "data": {
      "text/plain": [
       "b'\\x00\\x00\\x00\\x00'"
      ]
     },
     "execution_count": 219,
     "metadata": {},
     "output_type": "execute_result"
    }
   ],
   "source": [
    "arbitration_id_raw = packet[6:10]\n",
    "arbitration_id_raw"
   ]
  },
  {
   "cell_type": "code",
   "execution_count": 220,
   "metadata": {},
   "outputs": [
    {
     "data": {
      "text/plain": [
       "0"
      ]
     },
     "execution_count": 220,
     "metadata": {},
     "output_type": "execute_result"
    }
   ],
   "source": [
    "int.from_bytes(arbitration_id_raw, 'little')"
   ]
  },
  {
   "cell_type": "code",
   "execution_count": 221,
   "metadata": {},
   "outputs": [
    {
     "data": {
      "text/plain": [
       "0"
      ]
     },
     "execution_count": 221,
     "metadata": {},
     "output_type": "execute_result"
    }
   ],
   "source": [
    "int.from_bytes(arbitration_id_raw, 'big')"
   ]
  },
  {
   "cell_type": "code",
   "execution_count": 222,
   "metadata": {},
   "outputs": [
    {
     "data": {
      "text/plain": [
       "3"
      ]
     },
     "execution_count": 222,
     "metadata": {},
     "output_type": "execute_result"
    }
   ],
   "source": [
    "data = packet[11]\n",
    "data "
   ]
  },
  {
   "cell_type": "code",
   "execution_count": 223,
   "metadata": {},
   "outputs": [
    {
     "data": {
      "text/plain": [
       "{'baud': 115200,\n",
       " 'delay': 1000,\n",
       " 'arbitration_id': 12,\n",
       " 'build_uuid': '06d8aed8-877c-4bdc-83c0-9284998f05b2'}"
      ]
     },
     "execution_count": 223,
     "metadata": {},
     "output_type": "execute_result"
    }
   ],
   "source": [
    "sketch_cfg"
   ]
  },
  {
   "cell_type": "code",
   "execution_count": 224,
   "metadata": {},
   "outputs": [
    {
     "data": {
      "text/plain": [
       "'06d8aed8-877c-4bdc-83c0-9284998f05b2'"
      ]
     },
     "execution_count": 224,
     "metadata": {},
     "output_type": "execute_result"
    }
   ],
   "source": [
    "header_uuid"
   ]
  },
  {
   "cell_type": "code",
   "execution_count": 225,
   "metadata": {},
   "outputs": [
    {
     "data": {
      "text/plain": [
       "'06d8aed8-877c-4bdc-83c0-9284998f05b2'"
      ]
     },
     "execution_count": 225,
     "metadata": {},
     "output_type": "execute_result"
    }
   ],
   "source": [
    "sketch_cfg[\"build_uuid\"]"
   ]
  },
  {
   "cell_type": "code",
   "execution_count": 226,
   "metadata": {},
   "outputs": [],
   "source": [
    "assert str(header_uuid) == header_uuid"
   ]
  },
  {
   "cell_type": "code",
   "execution_count": 227,
   "metadata": {},
   "outputs": [],
   "source": [
    "assert str(sketch_cfg[\"build_uuid\"]) == sketch_cfg[\"build_uuid\"]"
   ]
  },
  {
   "cell_type": "code",
   "execution_count": 241,
   "metadata": {},
   "outputs": [],
   "source": [
    "assert header_uuid == sketch_cfg[\"build_uuid\"]"
   ]
  },
  {
   "cell_type": "code",
   "execution_count": 242,
   "metadata": {},
   "outputs": [],
   "source": [
    "ser.close()"
   ]
  },
  {
   "cell_type": "code",
   "execution_count": 243,
   "metadata": {},
   "outputs": [
    {
     "data": {
      "text/plain": [
       "'2.1.0'"
      ]
     },
     "execution_count": 243,
     "metadata": {},
     "output_type": "execute_result"
    }
   ],
   "source": [
    "import can\n",
    "can.__version__"
   ]
  },
  {
   "cell_type": "code",
   "execution_count": 244,
   "metadata": {},
   "outputs": [],
   "source": [
    "bus_cfg = dict()\n",
    "bus_cfg[\"bustype\"] = \"serial\"\n",
    "bus_cfg[\"channel\"]=serial_ports[0]\n",
    "bus_cfg[\"bitrate\"]=115200\n",
    "\n",
    "bus = can.interface.Bus(**bus_cfg)    "
   ]
  },
  {
   "cell_type": "code",
   "execution_count": 245,
   "metadata": {},
   "outputs": [
    {
     "data": {
      "text/plain": [
       "'Serial interface: /dev/ttyUSB0'"
      ]
     },
     "execution_count": 245,
     "metadata": {},
     "output_type": "execute_result"
    }
   ],
   "source": [
    "bus.channel_info"
   ]
  },
  {
   "cell_type": "code",
   "execution_count": 246,
   "metadata": {},
   "outputs": [
    {
     "data": {
      "text/plain": [
       "can.Message(timestamp=22.013, is_remote_frame=False, extended_id=True, is_error_frame=False, arbitration_id=0x0, dlc=4, data=[0xfd, 0x55, 0x0, 0x0])"
      ]
     },
     "execution_count": 246,
     "metadata": {},
     "output_type": "execute_result"
    }
   ],
   "source": [
    "packet = bus.recv(timeout=2)\n",
    "packet"
   ]
  },
  {
   "cell_type": "code",
   "execution_count": 254,
   "metadata": {},
   "outputs": [
    {
     "data": {
      "text/plain": [
       "32.019"
      ]
     },
     "execution_count": 254,
     "metadata": {},
     "output_type": "execute_result"
    }
   ],
   "source": [
    "packet.timestamp"
   ]
  },
  {
   "cell_type": "code",
   "execution_count": 255,
   "metadata": {},
   "outputs": [
    {
     "data": {
      "text/plain": [
       "0"
      ]
     },
     "execution_count": 255,
     "metadata": {},
     "output_type": "execute_result"
    }
   ],
   "source": [
    "packet.arbitration_id"
   ]
  },
  {
   "cell_type": "code",
   "execution_count": 256,
   "metadata": {},
   "outputs": [
    {
     "data": {
      "text/plain": [
       "4"
      ]
     },
     "execution_count": 256,
     "metadata": {},
     "output_type": "execute_result"
    }
   ],
   "source": [
    "packet.dlc"
   ]
  },
  {
   "cell_type": "code",
   "execution_count": 257,
   "metadata": {},
   "outputs": [
    {
     "data": {
      "text/plain": [
       "bytearray(b'\\x13}\\x00\\x00')"
      ]
     },
     "execution_count": 257,
     "metadata": {},
     "output_type": "execute_result"
    }
   ],
   "source": [
    "packet.data"
   ]
  },
  {
   "cell_type": "code",
   "execution_count": 258,
   "metadata": {},
   "outputs": [
    {
     "data": {
      "text/plain": [
       "32019"
      ]
     },
     "execution_count": 258,
     "metadata": {},
     "output_type": "execute_result"
    }
   ],
   "source": [
    "int.from_bytes(packet.data, 'little')"
   ]
  },
  {
   "cell_type": "code",
   "execution_count": 259,
   "metadata": {},
   "outputs": [
    {
     "data": {
      "text/plain": [
       "326959104"
      ]
     },
     "execution_count": 259,
     "metadata": {},
     "output_type": "execute_result"
    }
   ],
   "source": [
    "int.from_bytes(packet.data, 'big')"
   ]
  },
  {
   "cell_type": "code",
   "execution_count": 260,
   "metadata": {},
   "outputs": [],
   "source": [
    "import time"
   ]
  },
  {
   "cell_type": "code",
   "execution_count": 271,
   "metadata": {},
   "outputs": [],
   "source": [
    "can_packets_time = list()\n",
    "can_packets_sine = list()\n",
    "\n",
    "while len(can_packets_time)<20 & len(can_packets_sine)<20:\n",
    "    packet = bus.recv(timeout=1000)\n",
    "    if packet is None:\n",
    "        time.sleep(0.5)\n",
    "        continue\n",
    "    if (packet.arbitration_id == 0):\n",
    "        can_packets_time.append(packet)\n",
    "    elif (packet.arbitration_id == 1):\n",
    "        can_packets_sine.append(packet)\n",
    "    else:\n",
    "        raise Exception(packet.arbitration_id)"
   ]
  },
  {
   "cell_type": "code",
   "execution_count": 272,
   "metadata": {},
   "outputs": [
    {
     "data": {
      "text/plain": [
       "1000"
      ]
     },
     "execution_count": 272,
     "metadata": {},
     "output_type": "execute_result"
    }
   ],
   "source": [
    "sketch_cfg[\"delay\"]"
   ]
  },
  {
   "cell_type": "code",
   "execution_count": 273,
   "metadata": {},
   "outputs": [
    {
     "data": {
      "text/plain": [
       "[]"
      ]
     },
     "execution_count": 273,
     "metadata": {},
     "output_type": "execute_result"
    }
   ],
   "source": [
    "can_packets_time"
   ]
  },
  {
   "cell_type": "code",
   "execution_count": 274,
   "metadata": {},
   "outputs": [],
   "source": [
    "import numpy as np"
   ]
  },
  {
   "cell_type": "code",
   "execution_count": 275,
   "metadata": {},
   "outputs": [],
   "source": [
    "data=object()"
   ]
  },
  {
   "cell_type": "code",
   "execution_count": 169,
   "metadata": {},
   "outputs": [],
   "source": [
    "class Data(object):\n",
    "    def __init__(self):\n",
    "        pass\n",
    "data = Data()"
   ]
  }
 ],
 "metadata": {
  "kernelspec": {
   "display_name": "Python 3",
   "language": "python",
   "name": "python3"
  },
  "language_info": {
   "codemirror_mode": {
    "name": "ipython",
    "version": 3
   },
   "file_extension": ".py",
   "mimetype": "text/x-python",
   "name": "python",
   "nbconvert_exporter": "python",
   "pygments_lexer": "ipython3",
   "version": "3.6.5"
  }
 },
 "nbformat": 4,
 "nbformat_minor": 2
}
