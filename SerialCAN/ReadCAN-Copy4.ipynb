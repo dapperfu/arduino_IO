{
 "cells": [
  {
   "cell_type": "markdown",
   "metadata": {},
   "source": [
    "# python-can CAN over serial\n",
    "\n",
    "[```python-can```](https://python-can.readthedocs.io/en/2.1.0/index.html) includes a [CAN over Serial](\n",
    "https://python-can.readthedocs.io/en/2.1.0/interfaces/serial.html\n",
    ") module.\n",
    "\n",
    "This allows prototyping and testing with inexpensive Arduino devices before switching to another module with minimal code changes."
   ]
  },
  {
   "cell_type": "markdown",
   "metadata": {},
   "source": [
    "The packet over serial\n",
    "\n",
    "\n",
    "\n",
    "|                | Length (Byte) | Data type               | Byte order    | Description                                   |\n",
    "|----------------|---------------|-------------------------|---------------|-----------------------------------------------|\n",
    "| Start of frame | 1             | Byte                    | -             | Must be 0xAA                                  |\n",
    "| Timestamp      | 4             | Unsigned 4 byte integer | Little-Endian | Usually s, ms or µs since start of the device |\n",
    "| DLC            | 1             | Unsigned 1 byte integer | Little-Endian | Length in byte of the payload                 |\n",
    "| Arbitration ID | 4             | Unsigned 4 byte integer | Little-Endian | -                                             |\n",
    "| Payload        | 0 - 8         | Byte                    | -             | -                                             |\n",
    "| End of frame   | 1             | Byte                    | -             | Must be 0xBB                                  |"
   ]
  },
  {
   "cell_type": "code",
   "execution_count": 11,
   "metadata": {},
   "outputs": [],
   "source": [
    "# Imports for build.\n",
    "import glob\n",
    "import uuid\n",
    "import jinja2\n",
    "import os\n",
    "import re\n",
    "import time\n",
    "import datetime"
   ]
  },
  {
   "cell_type": "code",
   "execution_count": 12,
   "metadata": {},
   "outputs": [],
   "source": [
    "checkpoints=list()"
   ]
  },
  {
   "cell_type": "code",
   "execution_count": 14,
   "metadata": {},
   "outputs": [
    {
     "name": "stdout",
     "output_type": "stream",
     "text": [
      "2018-05-16T20:38:38.706772+00:00\n"
     ]
    }
   ],
   "source": [
    "now=datetime.datetime.utcnow().replace(tzinfo=datetime.timezone.utc).isoformat()\n",
    "checkpoints.append(now)\n",
    "print(now)"
   ]
  },
  {
   "cell_type": "code",
   "execution_count": 15,
   "metadata": {},
   "outputs": [
    {
     "data": {
      "text/plain": [
       "[]"
      ]
     },
     "execution_count": 15,
     "metadata": {},
     "output_type": "execute_result"
    }
   ],
   "source": [
    "old_sketches = glob.glob(\"*.ino\")\n",
    "old_sketches"
   ]
  },
  {
   "cell_type": "code",
   "execution_count": 16,
   "metadata": {},
   "outputs": [],
   "source": [
    "for old_sketch in old_sketches:\n",
    "    print(\"Deleting: {}\".format(old_sketch))\n",
    "    os.unlink(old_sketch)"
   ]
  },
  {
   "cell_type": "markdown",
   "metadata": {},
   "source": [
    "## Universally unique identifier\n",
    "\n",
    "> From Wikipedia, the free encyclopedia\n",
    "A universally unique identifier (UUID) is a 128-bit number used to identify information in computer systems. The term globally unique identifier (GUID) is also used.\n",
    "\n",
    "> When generated according to the standard methods, UUIDs are for practical purposes unique, without depending for their uniqueness on a central registration authority or coordination between the parties generating them, unlike most other numbering schemes. While the probability that a UUID will be duplicated is not zero, it is close enough to zero to be negligible.\n",
    "\n",
    "> Thus, anyone can create a UUID and use it to identify something with near certainty that the identifier does not duplicate one that has already been, or will be, created to identify something else. **Information labeled with UUIDs by independent parties can therefore be later combined into a single database, or transmitted on the same channel, without needing to resolve conflicts between identifiers**.\n",
    "\n",
    "> Adoption of UUIDs and GUIDs is widespread, with many computing platforms providing support for generating them, and for parsing their textual representation.\n",
    "\n",
    "- https://en.wikipedia.org/wiki/Universally_unique_identifier"
   ]
  },
  {
   "cell_type": "code",
   "execution_count": 88,
   "metadata": {},
   "outputs": [],
   "source": [
    "build_uuid = str(uuid.uuid4())"
   ]
  },
  {
   "cell_type": "code",
   "execution_count": 89,
   "metadata": {},
   "outputs": [],
   "source": [
    "arduino_template_str = \"\"\"\n",
    "unsigned long BAUD = {{ baud }};\n",
    "unsigned long DELAY = {{ delay }};\n",
    "char BUILD_UUID[] = \"{{ build_uuid }}\";\n",
    "\n",
    "unsigned long arbitration_id = 0x0;\n",
    "unsigned long time_millis = 0b0;\n",
    "unsigned long timestamp = 0x0;\n",
    "\n",
    "uint8_t counter8 = 0x00;\n",
    "uint16_t counter16 = 0x0000;\n",
    "uint32_t counter32 = 0x00000000;\n",
    "\n",
    "// Arduino Setup\n",
    "void setup() {\n",
    "Serial.begin(BAUD);\n",
    "Serial.print(\"Build UUID: \");\n",
    "Serial.println(BUILD_UUID);\n",
    "\n",
    "// Start of frame\n",
    "Serial.write(0xAA);\n",
    "\n",
    "// Timestamp\n",
    "Serial.write(0x00);\n",
    "Serial.write(0x00);\n",
    "Serial.write(0x00);\n",
    "Serial.write(0x00);\n",
    "\n",
    "// DLC\n",
    "Serial.write(0x00);\n",
    "\n",
    "// Arbitration ID\n",
    "Serial.write(0x00);\n",
    "Serial.write(0x00);\n",
    "Serial.write(0x00);\n",
    "Serial.write(0x00);\n",
    "\n",
    "// End of frame\n",
    "Serial.write(0xBB);\n",
    "return; \n",
    "}\n",
    "\n",
    "// Arduino Main Loop\n",
    "void loop() {\n",
    "\n",
    "/* Begin timestamp data packet */\n",
    "time_millis = millis();\n",
    "// Start of frame\n",
    "Serial.write(0xAA);\n",
    "\n",
    "// Timestamp\n",
    "timestamp = time_millis;\n",
    "for(char shift=0;shift<32;shift+=8) {\n",
    "Serial.write((unsigned long)timestamp>>shift&0b11111111);\n",
    "}\n",
    "\n",
    "// DLC\n",
    "Serial.write(0x04);\n",
    "// Arbitration ID\n",
    "arbitration_id=1;\n",
    "for(char shift=0;shift<32;shift+=8) {\n",
    "Serial.write((unsigned long)arbitration_id>>shift&0xFF);\n",
    "}\n",
    "\n",
    "// Payload\n",
    "for(char shift=0;shift<32;shift+=8) {\n",
    "Serial.write((unsigned long)time_millis>>shift&0b11111111);\n",
    "}\n",
    "\n",
    "// End of Frame\n",
    "Serial.write(0xBB);\n",
    "/* End timestamp data packet */\n",
    "}\n",
    "\"\"\"\n",
    "arduino_template = jinja2.Template(arduino_template_str)"
   ]
  },
  {
   "cell_type": "code",
   "execution_count": 90,
   "metadata": {},
   "outputs": [
    {
     "name": "stdout",
     "output_type": "stream",
     "text": [
      "2018-05-16T21:39:51.676242+00:00\n"
     ]
    }
   ],
   "source": [
    "now=datetime.datetime.utcnow().replace(tzinfo=datetime.timezone.utc).isoformat()\n",
    "checkpoints.append(now)\n",
    "print(now)"
   ]
  },
  {
   "cell_type": "code",
   "execution_count": 49,
   "metadata": {},
   "outputs": [
    {
     "name": "stdout",
     "output_type": "stream",
     "text": [
      "\n",
      "unsigned long BAUD = 115200;\n",
      "unsigned long DELAY = 1000;\n",
      "char BUILD_UUID[] = \"b042c137-95d3-4935-b1a1-15d12e992d1c\";\n",
      "\n",
      "unsigned long arbitration_id = 0x0;\n",
      "unsigned long time_millis = 0b0;\n",
      "unsigned long timestamp = 0x0;\n",
      "\n",
      "uint8_t counter8 = 0x00;\n",
      "uint16_t counter16 = 0x0000;\n",
      "uint32_t counter32 = 0x00000000;\n",
      "\n",
      "// Arduino Setup\n",
      "void setup() {\n",
      "Serial.begin(BAUD);\n",
      "Serial.print(\"Build UUID: \");\n",
      "Serial.println(BUILD_UUID);\n",
      "\n",
      "// Start of frame\n",
      "Serial.write(0xAA);\n",
      "\n",
      "// Timestamp\n",
      "Serial.write(0x00);\n",
      "Serial.write(0x00);\n",
      "Serial.write(0x00);\n",
      "Serial.write(0x00);\n",
      "\n",
      "// DLC\n",
      "Serial.write(0x00);\n",
      "\n",
      "// Arbitration ID\n",
      "Serial.write(0x00);\n",
      "Serial.write(0x00);\n",
      "Serial.write(0x00);\n",
      "Serial.write(0x00);\n",
      "\n",
      "// End of frame\n",
      "Serial.write(0xBB);\n",
      "return; \n",
      "}\n",
      "\n",
      "// Arduino Main Loop\n",
      "void loop() {\n",
      "\n",
      "/* Begin timestamp data packet */\n",
      "time_millis = millis();\n",
      "// Start of frame\n",
      "Serial.write(0xAA);\n",
      "\n",
      "// Timestamp\n",
      "timestamp = time_millis;\n",
      "for(char shift=0;shift<32;shift+=8) {\n",
      "Serial.write((unsigned long)timestamp>>shift&0b11111111);\n",
      "}\n",
      "\n",
      "// DLC\n",
      "Serial.write(0x04);\n",
      "// Arbitration ID\n",
      "arbitration_id=1;\n",
      "for(char shift=0;shift<32;shift+=8) {\n",
      "Serial.write((unsigned long)arbitration_id>>shift&0xFF);\n",
      "}\n",
      "\n",
      "// Payload\n",
      "for(char shift=0;shift<32;shift+=8) {\n",
      "Serial.write((unsigned long)time_millis>>shift&0b11111111);\n",
      "}\n",
      "\n",
      "// End of Frame\n",
      "Serial.write(0xBB);\n",
      "/* End timestamp data packet */\n",
      "}\n"
     ]
    }
   ],
   "source": [
    "sketch_cfg=dict()\n",
    "sketch_cfg[\"baud\"] = 115200\n",
    "sketch_cfg[\"delay\"]= 1000\n",
    "sketch_cfg[\"arbitration_id\"]=12\n",
    "sketch_cfg[\"build_uuid\"]=build_uuid\n",
    "\n",
    "arduino_sketch = (arduino_template.render(**sketch_cfg))\n",
    "print(arduino_sketch)\n",
    "sketch_file = \"{}.ino\".format(build_uuid)\n",
    "with open(sketch_file, \"w\") as fid:\n",
    "    fid.write(arduino_sketch)"
   ]
  },
  {
   "cell_type": "markdown",
   "metadata": {},
   "source": [
    "## Traceability"
   ]
  },
  {
   "cell_type": "code",
   "execution_count": 52,
   "metadata": {},
   "outputs": [],
   "source": [
    "import hashlib"
   ]
  },
  {
   "cell_type": "markdown",
   "metadata": {},
   "source": [
    "Hash of the source code, add to blockchains for proof-of-existence.\n",
    "\n",
    "Immutable store if investigators want to find exactly when a flash file was built."
   ]
  },
  {
   "cell_type": "code",
   "execution_count": 82,
   "metadata": {},
   "outputs": [
    {
     "name": "stdout",
     "output_type": "stream",
     "text": [
      "sha1: 6497a50ddaa294434d678e4dfd6a07a4fc88c1c4\n",
      "sha3_384: cab792aa40fda66fef0a6248ce592fa0e5106a6ca832668a88ada8b7073ad897c420e93ede96f5823a00b3bb510556f0\n",
      "sha3_512: b4c30bf92779fee855d084a97d50ec0ccacd3822dd1c2ee81d14c9387f8b2b5a1e7386076f5729c0de3fdac8cda9338f00b555f806d80201bb3c0c515b2a8a27\n",
      "sha3_256: 7219b8737c492a9c6a45fc8ca720bb7b3a59629510b484add82842f992d28175\n",
      "blake2b: 38cb52fa1f50561aa181ea5222ee2f3b84db27ddc9f87817c6dc9b6f8191e8315cb558b5f0b85ebcab90ea121e52d13e88ea56508d295138f1871014a7cded5d\n",
      "sha384: e3918f0aa0b2014a69b21b2c2004f9df03cde4e0c831084dcbb1781fe58531e47f1f2896bfa26782f14a60a45bf3b2c4\n",
      "sha224: 4228c36febd8cf740383e729812da9407a3ce90efb1d06ab383d4088\n",
      "sha256: 286ffc985581e4ca3976ee581569bb1196985a57d139e717ace65bbda2dca4ce\n",
      "sha512: 4b8e69e6160a9f5c56ea3aa77d7ec08cae47635206dca96b5e71de302b9dbd93835e59e70a9225d9047bdc6896f67278484df4929af94a2317af7c8083be340a\n",
      "sha3_224: 09c7b0088deb5b77b7e0db3c42cd8e2d28ecb85faaad15b266bcbd25\n",
      "blake2s: eb2c3a1b9d575c66f851e45ceb99aecee966a61618cd25348f9dc92e5ea4f0c3\n",
      "md5: 3ef09c052bcb7ff780acc9c6c60e37c1\n"
     ]
    }
   ],
   "source": [
    "for algo in hashlib.algorithms_guaranteed:\n",
    "    sketch_hash = getattr(hashlib, algo)(arduino_sketch.encode(\"UTF-8\"))\n",
    "    try:\n",
    "        print(\"{}: {}\".format(algo, sketch_hash.hexdigest()))\n",
    "    except:\n",
    "        pass"
   ]
  },
  {
   "cell_type": "code",
   "execution_count": 84,
   "metadata": {},
   "outputs": [
    {
     "name": "stdout",
     "output_type": "stream",
     "text": [
      "2018-05-16T21:03:21.222163+00:00\n"
     ]
    }
   ],
   "source": [
    "now=datetime.datetime.utcnow().replace(tzinfo=datetime.timezone.utc).isoformat()\n",
    "checkpoints.append(now)\n",
    "print(now)"
   ]
  },
  {
   "cell_type": "markdown",
   "metadata": {},
   "source": [
    "## Formatting.\n",
    "\n",
    "Format the sketch to adhere to LLVM style guidelines."
   ]
  },
  {
   "cell_type": "code",
   "execution_count": 87,
   "metadata": {},
   "outputs": [
    {
     "data": {
      "text/plain": [
       "b''"
      ]
     },
     "execution_count": 87,
     "metadata": {},
     "output_type": "execute_result"
    }
   ],
   "source": [
    "import subprocess\n",
    "subprocess.check_output([\"clang-format-6.0\", \"-style=LLVM\", \"-i\", sketch_file])"
   ]
  },
  {
   "cell_type": "code",
   "execution_count": 86,
   "metadata": {},
   "outputs": [
    {
     "name": "stdout",
     "output_type": "stream",
     "text": [
      "2018-05-16T21:03:23.010261+00:00\n"
     ]
    }
   ],
   "source": [
    "now=datetime.datetime.utcnow().replace(tzinfo=datetime.timezone.utc).isoformat()\n",
    "checkpoints.append(now)\n",
    "print(now)"
   ]
  },
  {
   "cell_type": "markdown",
   "metadata": {},
   "source": [
    "# Build Process\n",
    "\n",
    "## Build & Upload Flash File"
   ]
  },
  {
   "cell_type": "code",
   "execution_count": 33,
   "metadata": {},
   "outputs": [],
   "source": [
    "import serial\n",
    "import time"
   ]
  },
  {
   "cell_type": "code",
   "execution_count": 34,
   "metadata": {},
   "outputs": [
    {
     "name": "stdout",
     "output_type": "stream",
     "text": [
      "-------------------------\n",
      "Arduino.mk Configuration:\n",
      "- [AUTODETECTED]       CURRENT_OS = LINUX \n",
      "- [AUTODETECTED]       ARDUINO_DIR = /usr/share/arduino \n",
      "- [COMPUTED]           ARDMK_DIR = /projects/arduino_IO/arduino_make (relative to Common.mk)\n",
      "- [AUTODETECTED]       ARDUINO_VERSION = 105 \n",
      "- [DEFAULT]            ARCHITECTURE =  \n",
      "- [DEFAULT]            ARDMK_VENDOR = arduino \n",
      "- [AUTODETECTED]       ARDUINO_PREFERENCES_PATH = /mnt/ubuntu1604_2/home/jed/.arduino/preferences.txt \n",
      "- [AUTODETECTED]       ARDUINO_SKETCHBOOK = /mnt/ubuntu1604_2/home/jed/sketchbook (from arduino preferences file)\n",
      "- [BUNDLED]            AVR_TOOLS_DIR = /usr/share/arduino/hardware/tools/avr (in Arduino distribution)\n",
      "- [COMPUTED]           ARDUINO_LIB_PATH = /usr/share/arduino/libraries (from ARDUINO_DIR)\n",
      "- [COMPUTED]           ARDUINO_VAR_PATH = /usr/share/arduino/hardware/arduino//variants (from ARDUINO_DIR)\n",
      "- [COMPUTED]           BOARDS_TXT = /usr/share/arduino/hardware/arduino//boards.txt (from ARDUINO_DIR)\n",
      "- [DEFAULT]            USER_LIB_PATH = /mnt/ubuntu1604_2/home/jed/sketchbook/libraries (in user sketchbook)\n",
      "- [DEFAULT]            PRE_BUILD_HOOK = pre-build-hook.sh \n",
      "- [USER]               BOARD_TAG = nano328 \n",
      "- [COMPUTED]           CORE = arduino (from build.core)\n",
      "- [COMPUTED]           VARIANT = eightanaloginputs (from build.variant)\n",
      "- [COMPUTED]           OBJDIR = build-nano328 (from BOARD_TAG)\n",
      "- [COMPUTED]           ARDUINO_CORE_PATH = /usr/share/arduino/hardware/arduino//cores/arduino (from ARDUINO_DIR, BOARD_TAG and boards.txt)\n",
      "- [ASSUMED]            MONITOR_BAUDRATE = 9600 \n",
      "- [USER]               OPTIMIZATION_LEVEL = 0 \n",
      "- [DEFAULT]            MCU_FLAG_NAME = mmcu \n",
      "- [DEFAULT]            CFLAGS_STD = -std=gnu11 -flto -fno-fat-lto-objects \n",
      "- [DEFAULT]            CXXFLAGS_STD = -std=gnu++11 -fno-threadsafe-statics -flto \n",
      "- [AUTODETECTED]       DEVICE_PATH = /dev/ttyUSB2 \n",
      "- [DEFAULT]            FORCE_MONITOR_PORT =  \n",
      "- [AUTODETECTED]       Size utility: AVR-aware for enhanced output\n",
      "- [COMPUTED]           BOOTLOADER_PARENT = /usr/share/arduino/hardware/arduino//bootloaders (from ARDUINO_DIR)\n",
      "- [COMPUTED]           ARDMK_VERSION = 1.5 \n",
      "- [COMPUTED]           CC_VERSION = 5.4.0 (avr-gcc)\n",
      "-------------------------\n",
      "mkdir -p build-nano328\n",
      "make reset\n",
      "make[1]: Entering directory '/projects/arduino_IO/SerialCAN'\n",
      "/projects/arduino_IO/arduino_make/bin/ard-reset-arduino  /dev/ttyUSB2\n",
      "make[1]: Leaving directory '/projects/arduino_IO/SerialCAN'\n",
      "make do_upload\n",
      "make[1]: Entering directory '/projects/arduino_IO/SerialCAN'\n",
      "/usr/share/arduino/hardware/tools/avr/../avrdude -q -V -p atmega328p -C /usr/share/arduino/hardware/tools/avr/../avrdude.conf -D -c arduino -b 57600 -P /dev/ttyUSB2 \\\n",
      "\t\t-U flash:w:build-nano328/SerialCAN.hex:i\n",
      "make[1]: Leaving directory '/projects/arduino_IO/SerialCAN'\n",
      "\n"
     ]
    }
   ],
   "source": [
    "try:\n",
    "    stdout = subprocess.check_output([\"make\", \"upload\"]).decode()\n",
    "    print(stdout)\n",
    "except subprocess.CalledProcessError as err:\n",
    "    print(\"Build Failed:\")\n",
    "    print(err)\n",
    "except:\n",
    "    raise"
   ]
  },
  {
   "cell_type": "code",
   "execution_count": 35,
   "metadata": {},
   "outputs": [
    {
     "name": "stdout",
     "output_type": "stream",
     "text": [
      "2018-05-16T20:41:34.977254+00:00\n"
     ]
    }
   ],
   "source": [
    "now=datetime.datetime.utcnow().replace(tzinfo=datetime.timezone.utc).isoformat()\n",
    "checkpoints.append(now)\n",
    "print(now)"
   ]
  },
  {
   "cell_type": "markdown",
   "metadata": {},
   "source": [
    "## Build Process Tests\n",
    "\n",
    "Make sure that all serial ports from the build and upload process are the same."
   ]
  },
  {
   "cell_type": "code",
   "execution_count": 36,
   "metadata": {},
   "outputs": [
    {
     "data": {
      "text/plain": [
       "['/dev/ttyUSB2', '/dev/ttyUSB2', '/dev/ttyUSB2']"
      ]
     },
     "execution_count": 36,
     "metadata": {},
     "output_type": "execute_result"
    }
   ],
   "source": [
    "serial_ports = re.compile(\"(/dev/ttyUSB[\\d]+)\").findall(stdout)\n",
    "serial_ports"
   ]
  },
  {
   "cell_type": "code",
   "execution_count": 38,
   "metadata": {},
   "outputs": [],
   "source": [
    "for i in range(len(serial_ports)-1):\n",
    "    assert (serial_ports[i] == serial_ports[i+1])"
   ]
  },
  {
   "cell_type": "code",
   "execution_count": 39,
   "metadata": {},
   "outputs": [
    {
     "name": "stdout",
     "output_type": "stream",
     "text": [
      "2018-05-16T20:42:11.011021+00:00\n"
     ]
    }
   ],
   "source": [
    "now=datetime.datetime.utcnow().replace(tzinfo=datetime.timezone.utc).isoformat()\n",
    "checkpoints.append(now)\n",
    "print(now)"
   ]
  },
  {
   "cell_type": "markdown",
   "metadata": {},
   "source": [
    "# Serial V&V Testing"
   ]
  },
  {
   "cell_type": "code",
   "execution_count": 40,
   "metadata": {},
   "outputs": [],
   "source": [
    "import serial\n",
    "import time"
   ]
  },
  {
   "cell_type": "code",
   "execution_count": 41,
   "metadata": {},
   "outputs": [],
   "source": [
    "ser = serial.Serial(\n",
    "    port=serial_ports[0], baudrate=sketch_cfg[\"baud\"],\n",
    "    bytesize=serial.EIGHTBITS,\n",
    "    parity=serial.PARITY_NONE,\n",
    "    stopbits=serial.STOPBITS_ONE,\n",
    "    timeout=10,\n",
    "    xonxoff=0,\n",
    "    rtscts=0\n",
    ")"
   ]
  },
  {
   "cell_type": "code",
   "execution_count": 43,
   "metadata": {},
   "outputs": [
    {
     "name": "stdout",
     "output_type": "stream",
     "text": [
      "2018-05-16T20:43:32.487003+00:00\n"
     ]
    }
   ],
   "source": [
    "now=datetime.datetime.utcnow().replace(tzinfo=datetime.timezone.utc).isoformat()\n",
    "checkpoints.append(now)\n",
    "print(now)"
   ]
  },
  {
   "cell_type": "markdown",
   "metadata": {},
   "source": [
    "### Build & Flash UUID verification\n",
    "\n",
    "Assert that the UUID generated from the build script is the same one that is in the flash file."
   ]
  },
  {
   "cell_type": "code",
   "execution_count": 44,
   "metadata": {},
   "outputs": [
    {
     "data": {
      "text/plain": [
       "b'\\xcaE\\x00\\x00\\x04\\x01\\x00\\x00\\x00\\xcaE\\x00\\x00\\xfbBuild UUID: b042c137-95d3-4935-b1a1-15d12e992d1c\\r\\n'"
      ]
     },
     "execution_count": 44,
     "metadata": {},
     "output_type": "execute_result"
    }
   ],
   "source": [
    "ser.setDTR(False) # Drop DTR\n",
    "time.sleep(1)   # Read somewhere that 22ms is what the UI does.\n",
    "ser.flushInput()\n",
    "ser.flushOutput()\n",
    "ser.flush()\n",
    "ser.setDTR(True)  # UP the DTR back\n",
    "header = ser.readline()\n",
    "header"
   ]
  },
  {
   "cell_type": "code",
   "execution_count": 45,
   "metadata": {},
   "outputs": [],
   "source": [
    "header_uuid = header.split(b\"UUID:\")[1].strip().decode(\"UTF-8\")"
   ]
  },
  {
   "cell_type": "code",
   "execution_count": 46,
   "metadata": {},
   "outputs": [
    {
     "data": {
      "text/plain": [
       "'b042c137-95d3-4935-b1a1-15d12e992d1c'"
      ]
     },
     "execution_count": 46,
     "metadata": {},
     "output_type": "execute_result"
    }
   ],
   "source": [
    "build_uuid"
   ]
  },
  {
   "cell_type": "code",
   "execution_count": 47,
   "metadata": {},
   "outputs": [
    {
     "data": {
      "text/plain": [
       "'b042c137-95d3-4935-b1a1-15d12e992d1c'"
      ]
     },
     "execution_count": 47,
     "metadata": {},
     "output_type": "execute_result"
    }
   ],
   "source": [
    "header_uuid"
   ]
  },
  {
   "cell_type": "code",
   "execution_count": 48,
   "metadata": {},
   "outputs": [],
   "source": [
    "assert build_uuid == header_uuid"
   ]
  },
  {
   "cell_type": "code",
   "execution_count": null,
   "metadata": {},
   "outputs": [],
   "source": [
    "now=datetime.datetime.utcnow().replace(tzinfo=datetime.timezone.utc).isoformat()\n",
    "checkpoints.append(now)\n",
    "print(now)"
   ]
  },
  {
   "cell_type": "code",
   "execution_count": null,
   "metadata": {},
   "outputs": [],
   "source": [
    "ser.setDTR(False) # Drop DTR\n",
    "time.sleep(.25)   # Read somewhere that 22ms is what the UI does.\n",
    "ser.flushInput()\n",
    "ser.flushOutput()\n",
    "ser.flush()\n",
    "ser.setDTR(True)  # UP the DTR back\n",
    "time.sleep(2.5)\n",
    "header_packet = ser.readline()\n",
    "header_packet"
   ]
  },
  {
   "cell_type": "code",
   "execution_count": null,
   "metadata": {},
   "outputs": [],
   "source": [
    "ser.read_until(b\"\\xAA\")\n",
    "for x in range(10):\n",
    "    packet = ser.read_until(b\"\\xBB\")\n",
    "    print(packet)"
   ]
  },
  {
   "cell_type": "code",
   "execution_count": null,
   "metadata": {},
   "outputs": [],
   "source": [
    "packet = ser.read_until(b\"\\xBB\")\n",
    "packet"
   ]
  },
  {
   "cell_type": "code",
   "execution_count": null,
   "metadata": {},
   "outputs": [],
   "source": [
    "packet = ser.read_until(b\"\\xBB\")\n",
    "packet"
   ]
  },
  {
   "cell_type": "code",
   "execution_count": null,
   "metadata": {},
   "outputs": [],
   "source": [
    "packet[1:5]"
   ]
  },
  {
   "cell_type": "code",
   "execution_count": null,
   "metadata": {},
   "outputs": [],
   "source": [
    "timestamp_raw = packet[1:5]\n",
    "timestamp_raw"
   ]
  },
  {
   "cell_type": "code",
   "execution_count": null,
   "metadata": {},
   "outputs": [],
   "source": [
    "int.from_bytes(timestamp_raw, 'little')"
   ]
  },
  {
   "cell_type": "code",
   "execution_count": null,
   "metadata": {},
   "outputs": [],
   "source": [
    "int.from_bytes(timestamp_raw, 'big')"
   ]
  },
  {
   "cell_type": "code",
   "execution_count": null,
   "metadata": {},
   "outputs": [],
   "source": [
    "timestamp = int.from_bytes(timestamp_raw, 'little')\n",
    "timestamp"
   ]
  },
  {
   "cell_type": "code",
   "execution_count": null,
   "metadata": {},
   "outputs": [],
   "source": [
    "sof = packet[0]\n",
    "sof"
   ]
  },
  {
   "cell_type": "code",
   "execution_count": null,
   "metadata": {},
   "outputs": [],
   "source": [
    "int.from_bytes(b'\\xAA', 'little')"
   ]
  },
  {
   "cell_type": "code",
   "execution_count": null,
   "metadata": {},
   "outputs": [],
   "source": [
    "int.from_bytes(b'\\xAA', 'big')"
   ]
  },
  {
   "cell_type": "code",
   "execution_count": null,
   "metadata": {},
   "outputs": [],
   "source": [
    "assert sof == int.from_bytes(b'\\xAA', 'little')"
   ]
  },
  {
   "cell_type": "code",
   "execution_count": null,
   "metadata": {},
   "outputs": [],
   "source": [
    "dlc = packet[5]\n",
    "dlc"
   ]
  },
  {
   "cell_type": "code",
   "execution_count": null,
   "metadata": {},
   "outputs": [],
   "source": [
    "arbitration_id_raw = packet[6:10]\n",
    "arbitration_id_raw"
   ]
  },
  {
   "cell_type": "code",
   "execution_count": null,
   "metadata": {},
   "outputs": [],
   "source": [
    "int.from_bytes(arbitration_id_raw, 'little')"
   ]
  },
  {
   "cell_type": "code",
   "execution_count": null,
   "metadata": {},
   "outputs": [],
   "source": [
    "int.from_bytes(arbitration_id_raw, 'big')"
   ]
  },
  {
   "cell_type": "code",
   "execution_count": null,
   "metadata": {},
   "outputs": [],
   "source": [
    "data = packet[11]\n",
    "data "
   ]
  },
  {
   "cell_type": "code",
   "execution_count": null,
   "metadata": {},
   "outputs": [],
   "source": [
    "sketch_cfg"
   ]
  },
  {
   "cell_type": "code",
   "execution_count": null,
   "metadata": {},
   "outputs": [],
   "source": [
    "header_uuid"
   ]
  },
  {
   "cell_type": "code",
   "execution_count": null,
   "metadata": {},
   "outputs": [],
   "source": [
    "sketch_cfg[\"build_uuid\"]"
   ]
  },
  {
   "cell_type": "code",
   "execution_count": null,
   "metadata": {},
   "outputs": [],
   "source": [
    "assert str(header_uuid) == header_uuid"
   ]
  },
  {
   "cell_type": "code",
   "execution_count": null,
   "metadata": {},
   "outputs": [],
   "source": [
    "assert str(sketch_cfg[\"build_uuid\"]) == sketch_cfg[\"build_uuid\"]"
   ]
  },
  {
   "cell_type": "code",
   "execution_count": null,
   "metadata": {},
   "outputs": [],
   "source": [
    "assert header_uuid == sketch_cfg[\"build_uuid\"]"
   ]
  },
  {
   "cell_type": "code",
   "execution_count": null,
   "metadata": {},
   "outputs": [],
   "source": [
    "ser.close()"
   ]
  },
  {
   "cell_type": "code",
   "execution_count": null,
   "metadata": {},
   "outputs": [],
   "source": [
    "import can\n",
    "can.__version__"
   ]
  },
  {
   "cell_type": "code",
   "execution_count": null,
   "metadata": {},
   "outputs": [],
   "source": [
    "bus_cfg = dict()\n",
    "bus_cfg[\"bustype\"] = \"serial\"\n",
    "bus_cfg[\"channel\"]=serial_ports[0]\n",
    "bus_cfg[\"bitrate\"]=115200\n",
    "\n",
    "bus = can.interface.Bus(**bus_cfg)   \n",
    "bus.ser.read_until(b\"\\xBB\")"
   ]
  },
  {
   "cell_type": "code",
   "execution_count": null,
   "metadata": {},
   "outputs": [],
   "source": [
    "packet = bus.recv()\n",
    "packet"
   ]
  },
  {
   "cell_type": "code",
   "execution_count": null,
   "metadata": {},
   "outputs": [],
   "source": [
    "packet.timestamp"
   ]
  },
  {
   "cell_type": "code",
   "execution_count": null,
   "metadata": {},
   "outputs": [],
   "source": [
    "packet.arbitration_id"
   ]
  },
  {
   "cell_type": "code",
   "execution_count": null,
   "metadata": {},
   "outputs": [],
   "source": [
    "packet.dlc"
   ]
  },
  {
   "cell_type": "code",
   "execution_count": null,
   "metadata": {},
   "outputs": [],
   "source": [
    "packet.data"
   ]
  },
  {
   "cell_type": "code",
   "execution_count": null,
   "metadata": {},
   "outputs": [],
   "source": [
    "int.from_bytes(packet.data, 'little')"
   ]
  },
  {
   "cell_type": "code",
   "execution_count": null,
   "metadata": {},
   "outputs": [],
   "source": [
    "int.from_bytes(packet.data, 'big')"
   ]
  },
  {
   "cell_type": "code",
   "execution_count": null,
   "metadata": {},
   "outputs": [],
   "source": [
    "packet.timestamp"
   ]
  },
  {
   "cell_type": "code",
   "execution_count": null,
   "metadata": {},
   "outputs": [],
   "source": [
    "packets = list()\n",
    "while len(packets)<100:\n",
    "    packet = bus.recv()\n",
    "    if packet is None:\n",
    "        time.sleep(sketch_cfg[\"delay\"])\n",
    "    packets.append(packet)"
   ]
  },
  {
   "cell_type": "code",
   "execution_count": null,
   "metadata": {},
   "outputs": [],
   "source": [
    "packets"
   ]
  },
  {
   "cell_type": "code",
   "execution_count": null,
   "metadata": {},
   "outputs": [],
   "source": [
    "class Data(object):\n",
    "    def __init__(self):\n",
    "        pass\n",
    "data = Data()"
   ]
  },
  {
   "cell_type": "code",
   "execution_count": null,
   "metadata": {},
   "outputs": [],
   "source": [
    "data.time = [packet.timestamp for packet in packets]\n",
    "data.time[:10]"
   ]
  },
  {
   "cell_type": "code",
   "execution_count": null,
   "metadata": {},
   "outputs": [],
   "source": [
    "data.values = [int.from_bytes(packet.data, 'little') for packet in packets]\n",
    "data.values[:10]"
   ]
  }
 ],
 "metadata": {
  "kernelspec": {
   "display_name": "Python 3",
   "language": "python",
   "name": "python3"
  },
  "language_info": {
   "codemirror_mode": {
    "name": "ipython",
    "version": 3
   },
   "file_extension": ".py",
   "mimetype": "text/x-python",
   "name": "python",
   "nbconvert_exporter": "python",
   "pygments_lexer": "ipython3",
   "version": "3.6.5"
  }
 },
 "nbformat": 4,
 "nbformat_minor": 2
}
