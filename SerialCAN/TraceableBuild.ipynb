{
 "cells": [
  {
   "cell_type": "markdown",
   "metadata": {},
   "source": [
    "# Traceable Build\n",
    "\n",
    "Embedded flash file build script, documentation, & tests."
   ]
  },
  {
   "cell_type": "markdown",
   "metadata": {},
   "source": [
    "## Generate universally unique identifier\n",
    "\n",
    "Generate a UUID for this instance of the documentation, build, and tests.\n",
    "\n",
    "> From Wikipedia, the free encyclopedia\n",
    "A universally unique identifier (UUID) is a 128-bit number used to identify information in computer systems. The term globally unique identifier (GUID) is also used.\n",
    "\n",
    "> When generated according to the standard methods, UUIDs are for practical purposes unique, without depending for their uniqueness on a central registration authority or coordination between the parties generating them, unlike most other numbering schemes. While the probability that a UUID will be duplicated is not zero, it is close enough to zero to be negligible.\n",
    "\n",
    "> Thus, anyone can create a UUID and use it to identify something with near certainty that the identifier does not duplicate one that has already been, or will be, created to identify something else. **Information labeled with UUIDs by independent parties can therefore be later combined into a single database, or transmitted on the same channel, without needing to resolve conflicts between identifiers**.\n",
    "\n",
    "> Adoption of UUIDs and GUIDs is widespread, with many computing platforms providing support for generating them, and for parsing their textual representation.\n",
    "\n",
    "- https://en.wikipedia.org/wiki/Universally_unique_identifier"
   ]
  },
  {
   "cell_type": "code",
   "execution_count": 27,
   "metadata": {},
   "outputs": [],
   "source": [
    "# Imports for build.\n",
    "import glob\n",
    "import uuid\n",
    "import jinja2\n",
    "import os\n",
    "import re\n",
    "import time\n",
    "import datetime"
   ]
  },
  {
   "cell_type": "code",
   "execution_count": 28,
   "metadata": {},
   "outputs": [
    {
     "data": {
      "text/plain": [
       "'b9194007-953a-4fdb-b7ba-f368a0322d79'"
      ]
     },
     "execution_count": 28,
     "metadata": {},
     "output_type": "execute_result"
    }
   ],
   "source": [
    "build_uuid = str(uuid.uuid4())\n",
    "build_uuid"
   ]
  },
  {
   "cell_type": "code",
   "execution_count": 19,
   "metadata": {
    "scrolled": true
   },
   "outputs": [
    {
     "name": "stdout",
     "output_type": "stream",
     "text": [
      "2018-05-16T21:13:12.887542+00:00\n"
     ]
    }
   ],
   "source": [
    "# Checkpoints. Timestamps of what occured when.\n",
    "checkpoints=list()\n",
    "def checkpoint():\n",
    "    now=datetime.datetime.utcnow().replace(tzinfo=datetime.timezone.utc).isoformat()\n",
    "    checkpoints.append(now)\n",
    "    print(now)\n",
    "checkpoint()"
   ]
  },
  {
   "cell_type": "markdown",
   "metadata": {},
   "source": [
    "### Build Environment\n",
    "\n",
    "Build environment, for tracability. "
   ]
  },
  {
   "cell_type": "code",
   "execution_count": 20,
   "metadata": {},
   "outputs": [
    {
     "name": "stdout",
     "output_type": "stream",
     "text": [
      "Linux m6700 4.15.0-13-generic #14-Ubuntu SMP Sat Mar 17 13:44:27 UTC 2018 x86_64 x86_64 x86_64 GNU/Linux\r\n"
     ]
    }
   ],
   "source": [
    "!uname -a"
   ]
  },
  {
   "cell_type": "code",
   "execution_count": 21,
   "metadata": {},
   "outputs": [
    {
     "name": "stdout",
     "output_type": "stream",
     "text": [
      "No LSB modules are available.\r\n",
      "Distributor ID:\tUbuntu\r\n",
      "Description:\tUbuntu 18.04 LTS\r\n",
      "Release:\t18.04\r\n",
      "Codename:\tbionic\r\n"
     ]
    }
   ],
   "source": [
    "!lsb_release -a"
   ]
  },
  {
   "cell_type": "code",
   "execution_count": 22,
   "metadata": {},
   "outputs": [
    {
     "name": "stdout",
     "output_type": "stream",
     "text": [
      "m6700\r\n"
     ]
    }
   ],
   "source": [
    "!hostname"
   ]
  },
  {
   "cell_type": "code",
   "execution_count": 23,
   "metadata": {},
   "outputs": [
    {
     "name": "stdout",
     "output_type": "stream",
     "text": [
      "jed\r\n"
     ]
    }
   ],
   "source": [
    "!whoami"
   ]
  },
  {
   "cell_type": "markdown",
   "metadata": {},
   "source": [
    "#### Cleanup\n",
    "\n",
    "Remove all previous sketches."
   ]
  },
  {
   "cell_type": "code",
   "execution_count": 24,
   "metadata": {
    "scrolled": true
   },
   "outputs": [],
   "source": [
    "old_sketches = glob.glob(\"*.ino\")\n",
    "for old_sketch in old_sketches:\n",
    "    print(\"Deleting: {}\".format(old_sketch))\n",
    "    os.unlink(old_sketch)"
   ]
  },
  {
   "cell_type": "markdown",
   "metadata": {},
   "source": [
    "## Source Code\n",
    "\n",
    "Source code template for the flash file."
   ]
  },
  {
   "cell_type": "code",
   "execution_count": 32,
   "metadata": {},
   "outputs": [],
   "source": [
    "arduino_template_str = \"\"\"\n",
    "unsigned long BAUD = {{ baud }};\n",
    "unsigned long DELAY = {{ delay }};\n",
    "char BUILD_UUID[] = \"{{ build_uuid }}\";\n",
    "\n",
    "unsigned long arbitration_id = 0x0;\n",
    "unsigned long time_millis = 0b0;\n",
    "unsigned long timestamp = 0x0;\n",
    "\n",
    "uint8_t counter8 = 0x00;\n",
    "uint16_t counter16 = 0x0000;\n",
    "uint32_t counter32 = 0x00000000;\n",
    "\n",
    "// Arduino Setup\n",
    "void setup() {\n",
    "Serial.begin(BAUD);\n",
    "Serial.print(\"Build UUID: \");\n",
    "Serial.println(BUILD_UUID);\n",
    "\n",
    "// Start of frame\n",
    "Serial.write(0xAA);\n",
    "\n",
    "// Timestamp\n",
    "Serial.write(0x00);\n",
    "Serial.write(0x00);\n",
    "Serial.write(0x00);\n",
    "Serial.write(0x00);\n",
    "\n",
    "// DLC\n",
    "Serial.write(0x00);\n",
    "\n",
    "// Arbitration ID\n",
    "Serial.write(0x00);\n",
    "Serial.write(0x00);\n",
    "Serial.write(0x00);\n",
    "Serial.write(0x00);\n",
    "\n",
    "// End of frame\n",
    "Serial.write(0xBB);\n",
    "return; \n",
    "}\n",
    "\n",
    "// Arduino Main Loop\n",
    "void loop() {\n",
    "\n",
    "/* Begin timestamp data packet */\n",
    "time_millis = millis();\n",
    "// Start of frame\n",
    "Serial.write(0xAA);\n",
    "\n",
    "// Timestamp\n",
    "timestamp = time_millis;\n",
    "for(char shift=0;shift<32;shift+=8) {\n",
    "Serial.write((unsigned long)timestamp>>shift&0b11111111);\n",
    "}\n",
    "\n",
    "// DLC\n",
    "Serial.write(0x04);\n",
    "// Arbitration ID\n",
    "arbitration_id=1;\n",
    "for(char shift=0;shift<32;shift+=8) {\n",
    "Serial.write((unsigned long)arbitration_id>>shift&0xFF);\n",
    "}\n",
    "\n",
    "// Payload\n",
    "for(char shift=0;shift<32;shift+=8) {\n",
    "Serial.write((unsigned long)time_millis>>shift&0b11111111);\n",
    "}\n",
    "\n",
    "// End of Frame\n",
    "Serial.write(0xBB);\n",
    "/* End timestamp data packet */\n",
    "}\n",
    "\"\"\"\n",
    "arduino_template = jinja2.Template(arduino_template_str)"
   ]
  },
  {
   "cell_type": "code",
   "execution_count": 34,
   "metadata": {},
   "outputs": [
    {
     "name": "stdout",
     "output_type": "stream",
     "text": [
      "2018-05-16T21:15:34.163106+00:00\n"
     ]
    }
   ],
   "source": [
    "checkpoint()"
   ]
  },
  {
   "cell_type": "markdown",
   "metadata": {},
   "source": [
    "### Source Configuration\n",
    "\n",
    "Configuration options for the flash file.\n",
    "\n",
    "Can be read from ConfigParser, JSON, XML, Databases, etc."
   ]
  },
  {
   "cell_type": "code",
   "execution_count": 133,
   "metadata": {},
   "outputs": [],
   "source": [
    "sketch_cfg=dict()\n",
    "sketch_cfg[\"baud\"] = 115200\n",
    "sketch_cfg[\"delay\"]= 1000\n",
    "sketch_cfg[\"build_uuid\"]=build_uuid"
   ]
  },
  {
   "cell_type": "markdown",
   "metadata": {},
   "source": [
    "## Generated Source Code\n",
    "\n",
    "Source code for the build:"
   ]
  },
  {
   "cell_type": "code",
   "execution_count": 134,
   "metadata": {},
   "outputs": [
    {
     "name": "stdout",
     "output_type": "stream",
     "text": [
      "\n",
      "unsigned long BAUD = 115200;\n",
      "unsigned long DELAY = 1000;\n",
      "char BUILD_UUID[] = \"b9194007-953a-4fdb-b7ba-f368a0322d79\";\n",
      "\n",
      "unsigned long arbitration_id = 0x0;\n",
      "unsigned long time_millis = 0b0;\n",
      "unsigned long timestamp = 0x0;\n",
      "\n",
      "uint8_t counter8 = 0x00;\n",
      "uint16_t counter16 = 0x0000;\n",
      "uint32_t counter32 = 0x00000000;\n",
      "\n",
      "// Arduino Setup\n",
      "void setup() {\n",
      "Serial.begin(BAUD);\n",
      "Serial.print(\"Build UUID: \");\n",
      "Serial.println(BUILD_UUID);\n",
      "\n",
      "// Start of frame\n",
      "Serial.write(0xAA);\n",
      "\n",
      "// Timestamp\n",
      "Serial.write(0x00);\n",
      "Serial.write(0x00);\n",
      "Serial.write(0x00);\n",
      "Serial.write(0x00);\n",
      "\n",
      "// DLC\n",
      "Serial.write(0x00);\n",
      "\n",
      "// Arbitration ID\n",
      "Serial.write(0x00);\n",
      "Serial.write(0x00);\n",
      "Serial.write(0x00);\n",
      "Serial.write(0x00);\n",
      "\n",
      "// End of frame\n",
      "Serial.write(0xBB);\n",
      "return; \n",
      "}\n",
      "\n",
      "// Arduino Main Loop\n",
      "void loop() {\n",
      "\n",
      "/* Begin timestamp data packet */\n",
      "time_millis = millis();\n",
      "// Start of frame\n",
      "Serial.write(0xAA);\n",
      "\n",
      "// Timestamp\n",
      "timestamp = time_millis;\n",
      "for(char shift=0;shift<32;shift+=8) {\n",
      "Serial.write((unsigned long)timestamp>>shift&0b11111111);\n",
      "}\n",
      "\n",
      "// DLC\n",
      "Serial.write(0x04);\n",
      "// Arbitration ID\n",
      "arbitration_id=1;\n",
      "for(char shift=0;shift<32;shift+=8) {\n",
      "Serial.write((unsigned long)arbitration_id>>shift&0xFF);\n",
      "}\n",
      "\n",
      "// Payload\n",
      "for(char shift=0;shift<32;shift+=8) {\n",
      "Serial.write((unsigned long)time_millis>>shift&0b11111111);\n",
      "}\n",
      "\n",
      "// End of Frame\n",
      "Serial.write(0xBB);\n",
      "/* End timestamp data packet */\n",
      "}\n"
     ]
    }
   ],
   "source": [
    "arduino_sketch = (arduino_template.render(**sketch_cfg))\n",
    "print(arduino_sketch)\n",
    "sketch_file = \"{}.ino\".format(build_uuid)\n",
    "with open(sketch_file, \"w\") as fid:\n",
    "    fid.write(arduino_sketch)"
   ]
  },
  {
   "cell_type": "markdown",
   "metadata": {},
   "source": [
    "## Formatting.\n",
    "\n",
    "Format the sketch to adhere to LLVM style guidelines."
   ]
  },
  {
   "cell_type": "code",
   "execution_count": 135,
   "metadata": {},
   "outputs": [
    {
     "data": {
      "text/plain": [
       "b''"
      ]
     },
     "execution_count": 135,
     "metadata": {},
     "output_type": "execute_result"
    }
   ],
   "source": [
    "import subprocess\n",
    "subprocess.check_output([\"clang-format-6.0\", \"-style=LLVM\", \"-i\", sketch_file])"
   ]
  },
  {
   "cell_type": "markdown",
   "metadata": {},
   "source": [
    "Cleaned source code, formated with LLVM style guidelines."
   ]
  },
  {
   "cell_type": "code",
   "execution_count": 136,
   "metadata": {},
   "outputs": [
    {
     "name": "stdout",
     "output_type": "stream",
     "text": [
      "\n",
      "unsigned long BAUD = 115200;\n",
      "unsigned long DELAY = 1000;\n",
      "char BUILD_UUID[] = \"b9194007-953a-4fdb-b7ba-f368a0322d79\";\n",
      "\n",
      "unsigned long arbitration_id = 0x0;\n",
      "unsigned long time_millis = 0b0;\n",
      "unsigned long timestamp = 0x0;\n",
      "\n",
      "uint8_t counter8 = 0x00;\n",
      "uint16_t counter16 = 0x0000;\n",
      "uint32_t counter32 = 0x00000000;\n",
      "\n",
      "// Arduino Setup\n",
      "void setup() {\n",
      "  Serial.begin(BAUD);\n",
      "  Serial.print(\"Build UUID: \");\n",
      "  Serial.println(BUILD_UUID);\n",
      "\n",
      "  // Start of frame\n",
      "  Serial.write(0xAA);\n",
      "\n",
      "  // Timestamp\n",
      "  Serial.write(0x00);\n",
      "  Serial.write(0x00);\n",
      "  Serial.write(0x00);\n",
      "  Serial.write(0x00);\n",
      "\n",
      "  // DLC\n",
      "  Serial.write(0x00);\n",
      "\n",
      "  // Arbitration ID\n",
      "  Serial.write(0x00);\n",
      "  Serial.write(0x00);\n",
      "  Serial.write(0x00);\n",
      "  Serial.write(0x00);\n",
      "\n",
      "  // End of frame\n",
      "  Serial.write(0xBB);\n",
      "  return;\n",
      "}\n",
      "\n",
      "// Arduino Main Loop\n",
      "void loop() {\n",
      "\n",
      "  /* Begin timestamp data packet */\n",
      "  time_millis = millis();\n",
      "  // Start of frame\n",
      "  Serial.write(0xAA);\n",
      "\n",
      "  // Timestamp\n",
      "  timestamp = time_millis;\n",
      "  for (char shift = 0; shift < 32; shift += 8) {\n",
      "    Serial.write((unsigned long)timestamp >> shift & 0b11111111);\n",
      "  }\n",
      "\n",
      "  // DLC\n",
      "  Serial.write(0x04);\n",
      "  // Arbitration ID\n",
      "  arbitration_id = 1;\n",
      "  for (char shift = 0; shift < 32; shift += 8) {\n",
      "    Serial.write((unsigned long)arbitration_id >> shift & 0xFF);\n",
      "  }\n",
      "\n",
      "  // Payload\n",
      "  for (char shift = 0; shift < 32; shift += 8) {\n",
      "    Serial.write((unsigned long)time_millis >> shift & 0b11111111);\n",
      "  }\n",
      "\n",
      "  // End of Frame\n",
      "  Serial.write(0xBB);\n",
      "  /* End timestamp data packet */\n",
      "}\n"
     ]
    }
   ],
   "source": [
    "with open(sketch_file, \"rb\") as fid:\n",
    "    arduino_sketch_formatted = fid.read()    \n",
    "print(arduino_sketch_formatted.decode(\"UTF-8\"))"
   ]
  },
  {
   "cell_type": "markdown",
   "metadata": {},
   "source": [
    "## Traceability"
   ]
  },
  {
   "cell_type": "markdown",
   "metadata": {},
   "source": [
    "Checksum of the formatted source code, before compilation. Add to blockchain for an immutable proof of existence when it was generated, for tracability."
   ]
  },
  {
   "cell_type": "code",
   "execution_count": 137,
   "metadata": {},
   "outputs": [
    {
     "name": "stdout",
     "output_type": "stream",
     "text": [
      "sha384: 3ef6fa5db7f6831af1988f2c320fb08cf99668021ebf781c1f1c63dcbe6c15815ad13c66c083e635bfd4a76f467aabc4\n",
      "sha3_256: fdd84a10a856f81d5f65d9974fa4adad4700ae33dd2fd05dabc2eee505137e06\n",
      "sha512: f58ac69b1efa71de1cff473eca5f139d0cdf073d36d8204719c3e4f6b86187774a67d44ffacc148a95f1843026591b0c6a15c86c2f9f659d69e48da8cfd6f103\n",
      "blake2s: 7aaa23baebd00d2bad44f6eb2b1706efb035aca5962b930505c078063145ef75\n",
      "sha3_512: 62a50aade1a2cdb617ec695bb10ea9aa9ae6567d6af10b30aaae4633e6f307cc79442c758cea00b7cc395a217a918012bcfcf0a1a72935e0bb2b928dbda06912\n",
      "blake2b: bee1bd140f19869416994e9c662a63e81e50999c65df8c2894413b7f1a2722529b33b4b354e6588eea4e0f2ec6e061b6f888805de370a607b717a187d61c1515\n",
      "sha3_384: 3e6da7c22e68adfcb4e28542950064d5d0063e96eccb1636df2ed445a6c7ae62fa06b71a212d8457a3eeb7f1863e2f88\n",
      "sha1: 85867debcf83db58fa71cd950871ed20fa3800cd\n",
      "sha224: 34e6f34fba59dc61a6fd7fd3b16151ef87af9a80c21d3473c3957b60\n",
      "sha3_224: 1ffb4931cfca2a3f2ed20ad758c089506aeca98f027b0872ed096486\n",
      "sha256: 161066086288cc01c5169e50ad17a388981b4646e58d8aa67a6613283974f9b5\n",
      "md5: f4eef64cbe33541e4d3504901a2a60a6\n"
     ]
    }
   ],
   "source": [
    "import hashlib\n",
    "for algo in hashlib.algorithms_guaranteed:\n",
    "    sketch_hash = getattr(hashlib, algo)(arduino_sketch_formatted)\n",
    "    try:\n",
    "        print(\"{}: {}\".format(algo, sketch_hash.hexdigest()))\n",
    "    except:\n",
    "        pass"
   ]
  },
  {
   "cell_type": "code",
   "execution_count": 138,
   "metadata": {},
   "outputs": [
    {
     "name": "stdout",
     "output_type": "stream",
     "text": [
      "2018-05-16T21:32:42.973561+00:00\n"
     ]
    }
   ],
   "source": [
    "checkpoint()"
   ]
  },
  {
   "cell_type": "markdown",
   "metadata": {},
   "source": [
    "# Build Process\n",
    "\n",
    "## Build & Upload Flash File"
   ]
  },
  {
   "cell_type": "code",
   "execution_count": 139,
   "metadata": {},
   "outputs": [],
   "source": [
    "import serial\n",
    "import time"
   ]
  },
  {
   "cell_type": "code",
   "execution_count": 140,
   "metadata": {},
   "outputs": [
    {
     "name": "stdout",
     "output_type": "stream",
     "text": [
      "-------------------------\n",
      "Arduino.mk Configuration:\n",
      "- [AUTODETECTED]       CURRENT_OS = LINUX \n",
      "- [AUTODETECTED]       ARDUINO_DIR = /usr/share/arduino \n",
      "- [COMPUTED]           ARDMK_DIR = /projects/arduino_IO/arduino_make (relative to Common.mk)\n",
      "- [AUTODETECTED]       ARDUINO_VERSION = 105 \n",
      "- [DEFAULT]            ARCHITECTURE =  \n",
      "- [DEFAULT]            ARDMK_VENDOR = arduino \n",
      "- [AUTODETECTED]       ARDUINO_PREFERENCES_PATH = /mnt/ubuntu1604_2/home/jed/.arduino/preferences.txt \n",
      "- [AUTODETECTED]       ARDUINO_SKETCHBOOK = /mnt/ubuntu1604_2/home/jed/sketchbook (from arduino preferences file)\n",
      "- [BUNDLED]            AVR_TOOLS_DIR = /usr/share/arduino/hardware/tools/avr (in Arduino distribution)\n",
      "- [COMPUTED]           ARDUINO_LIB_PATH = /usr/share/arduino/libraries (from ARDUINO_DIR)\n",
      "- [COMPUTED]           ARDUINO_VAR_PATH = /usr/share/arduino/hardware/arduino//variants (from ARDUINO_DIR)\n",
      "- [COMPUTED]           BOARDS_TXT = /usr/share/arduino/hardware/arduino//boards.txt (from ARDUINO_DIR)\n",
      "- [DEFAULT]            USER_LIB_PATH = /mnt/ubuntu1604_2/home/jed/sketchbook/libraries (in user sketchbook)\n",
      "- [DEFAULT]            PRE_BUILD_HOOK = pre-build-hook.sh \n",
      "- [USER]               BOARD_TAG = nano328 \n",
      "- [COMPUTED]           CORE = arduino (from build.core)\n",
      "- [COMPUTED]           VARIANT = eightanaloginputs (from build.variant)\n",
      "- [COMPUTED]           OBJDIR = build-nano328 (from BOARD_TAG)\n",
      "- [COMPUTED]           ARDUINO_CORE_PATH = /usr/share/arduino/hardware/arduino//cores/arduino (from ARDUINO_DIR, BOARD_TAG and boards.txt)\n",
      "- [ASSUMED]            MONITOR_BAUDRATE = 9600 \n",
      "- [USER]               OPTIMIZATION_LEVEL = 0 \n",
      "- [DEFAULT]            MCU_FLAG_NAME = mmcu \n",
      "- [DEFAULT]            CFLAGS_STD = -std=gnu11 -flto -fno-fat-lto-objects \n",
      "- [DEFAULT]            CXXFLAGS_STD = -std=gnu++11 -fno-threadsafe-statics -flto \n",
      "- [AUTODETECTED]       DEVICE_PATH = /dev/ttyUSB2 \n",
      "- [DEFAULT]            FORCE_MONITOR_PORT =  \n",
      "- [AUTODETECTED]       Size utility: AVR-aware for enhanced output\n",
      "- [COMPUTED]           BOOTLOADER_PARENT = /usr/share/arduino/hardware/arduino//bootloaders (from ARDUINO_DIR)\n",
      "- [COMPUTED]           ARDMK_VERSION = 1.5 \n",
      "- [COMPUTED]           CC_VERSION = 5.4.0 (avr-gcc)\n",
      "-------------------------\n",
      "mkdir -p build-nano328\n",
      "/usr/share/arduino/hardware/tools/avr/bin/avr-g++ -x c++ -include Arduino.h -MMD -c -mmcu=atmega328p -DF_CPU=16000000L -DARDUINO=105  -D__PROG_TYPES_COMPAT__ -I/usr/share/arduino/hardware/arduino//cores/arduino -I/usr/share/arduino/hardware/arduino//variants/eightanaloginputs    -Wall -ffunction-sections -fdata-sections -O0 -fpermissive -fno-exceptions -std=gnu++11 -fno-threadsafe-statics -flto b9194007-953a-4fdb-b7ba-f368a0322d79.ino -o build-nano328/b9194007-953a-4fdb-b7ba-f368a0322d79.ino.o\n",
      "/usr/share/arduino/hardware/tools/avr/bin/avr-gcc -mmcu=atmega328p -Wl,--gc-sections -O0 -flto -fuse-linker-plugin -o build-nano328/SerialCAN.elf build-nano328/b9194007-953a-4fdb-b7ba-f368a0322d79.ino.o build-nano328/libcore.a   -lc -lm \n",
      "/usr/share/arduino/hardware/tools/avr/bin/avr-objcopy -O ihex -R .eeprom build-nano328/SerialCAN.elf build-nano328/SerialCAN.hex\n",
      "\n",
      "/usr/share/arduino/hardware/tools/avr/bin/avr-size --mcu=atmega328p -C --format=avr build-nano328/SerialCAN.elf\n",
      "AVR Memory Usage\n",
      "----------------\n",
      "Device: atmega328p\n",
      "\n",
      "Program:   20542 bytes (62.7% Full)\n",
      "(.text + .data + .bootloader)\n",
      "\n",
      "Data:        397 bytes (19.4% Full)\n",
      "(.data + .bss + .noinit)\n",
      "\n",
      "\n",
      "make reset\n",
      "make[1]: Entering directory '/projects/arduino_IO/SerialCAN'\n",
      "/projects/arduino_IO/arduino_make/bin/ard-reset-arduino  /dev/ttyUSB2\n",
      "make[1]: Leaving directory '/projects/arduino_IO/SerialCAN'\n",
      "make do_upload\n",
      "make[1]: Entering directory '/projects/arduino_IO/SerialCAN'\n",
      "/usr/share/arduino/hardware/tools/avr/../avrdude -q -V -p atmega328p -C /usr/share/arduino/hardware/tools/avr/../avrdude.conf -D -c arduino -b 57600 -P /dev/ttyUSB2 \\\n",
      "\t\t-U flash:w:build-nano328/SerialCAN.hex:i\n",
      "make[1]: Leaving directory '/projects/arduino_IO/SerialCAN'\n",
      "\n"
     ]
    }
   ],
   "source": [
    "try:\n",
    "    stdout = subprocess.check_output([\"make\", \"upload\"]).decode()\n",
    "    print(stdout)\n",
    "except subprocess.CalledProcessError as err:\n",
    "    print(\"Build Failed:\")\n",
    "    print(err)\n",
    "except:\n",
    "    raise"
   ]
  },
  {
   "cell_type": "code",
   "execution_count": 141,
   "metadata": {},
   "outputs": [
    {
     "name": "stdout",
     "output_type": "stream",
     "text": [
      "2018-05-16T21:32:52.742076+00:00\n"
     ]
    }
   ],
   "source": [
    "checkpoint()"
   ]
  },
  {
   "cell_type": "markdown",
   "metadata": {},
   "source": [
    "## Build Process Tests\n",
    "\n",
    "Make sure that all serial ports from the build and upload process are the same."
   ]
  },
  {
   "cell_type": "code",
   "execution_count": 142,
   "metadata": {},
   "outputs": [
    {
     "data": {
      "text/plain": [
       "['/dev/ttyUSB2', '/dev/ttyUSB2', '/dev/ttyUSB2']"
      ]
     },
     "execution_count": 142,
     "metadata": {},
     "output_type": "execute_result"
    }
   ],
   "source": [
    "serial_ports = re.compile(\"(/dev/ttyUSB[\\d]+)\").findall(stdout)\n",
    "serial_ports"
   ]
  },
  {
   "cell_type": "code",
   "execution_count": 143,
   "metadata": {},
   "outputs": [],
   "source": [
    "for i in range(len(serial_ports)-1):\n",
    "    assert (serial_ports[i] == serial_ports[i+1])"
   ]
  },
  {
   "cell_type": "code",
   "execution_count": 144,
   "metadata": {},
   "outputs": [
    {
     "name": "stdout",
     "output_type": "stream",
     "text": [
      "2018-05-16T21:32:52.760841+00:00\n"
     ]
    }
   ],
   "source": [
    "checkpoint()"
   ]
  },
  {
   "cell_type": "markdown",
   "metadata": {},
   "source": [
    "# Flashfile Testing \n",
    "\n",
    "V&V on the flashfile that was just built."
   ]
  },
  {
   "cell_type": "code",
   "execution_count": 145,
   "metadata": {},
   "outputs": [],
   "source": [
    "import serial\n",
    "import time"
   ]
  },
  {
   "cell_type": "code",
   "execution_count": 146,
   "metadata": {},
   "outputs": [],
   "source": [
    "ser = serial.Serial(\n",
    "    port=serial_ports[0], baudrate=sketch_cfg[\"baud\"],\n",
    "    bytesize=serial.EIGHTBITS,\n",
    "    parity=serial.PARITY_NONE,\n",
    "    stopbits=serial.STOPBITS_ONE,\n",
    "    timeout=10,\n",
    "    xonxoff=0,\n",
    "    rtscts=0\n",
    ")"
   ]
  },
  {
   "cell_type": "code",
   "execution_count": 147,
   "metadata": {},
   "outputs": [
    {
     "name": "stdout",
     "output_type": "stream",
     "text": [
      "2018-05-16T21:32:52.776335+00:00\n"
     ]
    }
   ],
   "source": [
    "checkpoint()"
   ]
  },
  {
   "cell_type": "markdown",
   "metadata": {},
   "source": [
    "### Build & Flash UUID verification\n",
    "\n",
    "Assert that the UUID generated from the build script is the same one that is being reported back from the HIL flash file."
   ]
  },
  {
   "cell_type": "code",
   "execution_count": 148,
   "metadata": {},
   "outputs": [
    {
     "data": {
      "text/plain": [
       "b'Build UUID: b9194007-953a-4fdb-b7ba-f368a0322d79\\r\\n'"
      ]
     },
     "execution_count": 148,
     "metadata": {},
     "output_type": "execute_result"
    }
   ],
   "source": [
    "ser.setDTR(False) # Drop DTR\n",
    "time.sleep(1)   # Read somewhere that 22ms is what the UI does.\n",
    "ser.flushInput()\n",
    "ser.flushOutput()\n",
    "ser.flush()\n",
    "ser.setDTR(True)  # UP the DTR back\n",
    "header = ser.readline()\n",
    "header"
   ]
  },
  {
   "cell_type": "code",
   "execution_count": 149,
   "metadata": {},
   "outputs": [],
   "source": [
    "header_uuid = header.split(b\"UUID:\")[1].strip().decode(\"UTF-8\")"
   ]
  },
  {
   "cell_type": "code",
   "execution_count": 150,
   "metadata": {},
   "outputs": [
    {
     "data": {
      "text/plain": [
       "'b9194007-953a-4fdb-b7ba-f368a0322d79'"
      ]
     },
     "execution_count": 150,
     "metadata": {},
     "output_type": "execute_result"
    }
   ],
   "source": [
    "build_uuid"
   ]
  },
  {
   "cell_type": "code",
   "execution_count": 151,
   "metadata": {},
   "outputs": [
    {
     "data": {
      "text/plain": [
       "'b9194007-953a-4fdb-b7ba-f368a0322d79'"
      ]
     },
     "execution_count": 151,
     "metadata": {},
     "output_type": "execute_result"
    }
   ],
   "source": [
    "header_uuid"
   ]
  },
  {
   "cell_type": "code",
   "execution_count": 152,
   "metadata": {},
   "outputs": [],
   "source": [
    "assert build_uuid == header_uuid"
   ]
  },
  {
   "cell_type": "code",
   "execution_count": 153,
   "metadata": {},
   "outputs": [
    {
     "name": "stdout",
     "output_type": "stream",
     "text": [
      "2018-05-16T21:32:55.276842+00:00\n"
     ]
    }
   ],
   "source": [
    "checkpoint()"
   ]
  },
  {
   "cell_type": "markdown",
   "metadata": {},
   "source": [
    "## Packet validation.\n",
    "\n",
    "Test that the CAN over Serial packets are being sent correctly.\n",
    "\n",
    "Check that the configuration values also match."
   ]
  },
  {
   "cell_type": "code",
   "execution_count": 154,
   "metadata": {},
   "outputs": [
    {
     "name": "stdout",
     "output_type": "stream",
     "text": [
      "b'\\x00\\x00\\x00\\x00\\x00\\x00\\x00\\x00\\x00\\xbb'\n",
      "b'\\xaa\\x01\\x00\\x00\\x00\\x04\\x01\\x00\\x00\\x00\\x01\\x00\\x00\\x00\\xbb'\n",
      "b'\\xaa\\x01\\x00\\x00\\x00\\x04\\x01\\x00\\x00\\x00\\x01\\x00\\x00\\x00\\xbb'\n",
      "b'\\xaa\\x02\\x00\\x00\\x00\\x04\\x01\\x00\\x00\\x00\\x02\\x00\\x00\\x00\\xbb'\n",
      "b'\\xaa\\x03\\x00\\x00\\x00\\x04\\x01\\x00\\x00\\x00\\x03\\x00\\x00\\x00\\xbb'\n",
      "b'\\xaa\\x04\\x00\\x00\\x00\\x04\\x01\\x00\\x00\\x00\\x04\\x00\\x00\\x00\\xbb'\n",
      "b'\\xaa\\x06\\x00\\x00\\x00\\x04\\x01\\x00\\x00\\x00\\x06\\x00\\x00\\x00\\xbb'\n",
      "b'\\xaa\\x07\\x00\\x00\\x00\\x04\\x01\\x00\\x00\\x00\\x07\\x00\\x00\\x00\\xbb'\n",
      "b'\\xaa\\x08\\x00\\x00\\x00\\x04\\x01\\x00\\x00\\x00\\x08\\x00\\x00\\x00\\xbb'\n",
      "b'\\xaa\\t\\x00\\x00\\x00\\x04\\x01\\x00\\x00\\x00\\t\\x00\\x00\\x00\\xbb'\n"
     ]
    }
   ],
   "source": [
    "ser.read_until(b\"\\xAA\")\n",
    "for x in range(10):\n",
    "    packet = ser.read_until(b\"\\xBB\")\n",
    "    print(packet)"
   ]
  },
  {
   "cell_type": "code",
   "execution_count": 155,
   "metadata": {},
   "outputs": [
    {
     "data": {
      "text/plain": [
       "b'\\xaa\\x0b\\x00\\x00\\x00\\x04\\x01\\x00\\x00\\x00\\x0b\\x00\\x00\\x00\\xbb'"
      ]
     },
     "execution_count": 155,
     "metadata": {},
     "output_type": "execute_result"
    }
   ],
   "source": [
    "packet = ser.read_until(b\"\\xBB\")\n",
    "packet"
   ]
  },
  {
   "cell_type": "code",
   "execution_count": 156,
   "metadata": {},
   "outputs": [
    {
     "data": {
      "text/plain": [
       "b'\\xaa\\x0c\\x00\\x00\\x00\\x04\\x01\\x00\\x00\\x00\\x0c\\x00\\x00\\x00\\xbb'"
      ]
     },
     "execution_count": 156,
     "metadata": {},
     "output_type": "execute_result"
    }
   ],
   "source": [
    "packet = ser.read_until(b\"\\xBB\")\n",
    "packet"
   ]
  },
  {
   "cell_type": "code",
   "execution_count": 157,
   "metadata": {},
   "outputs": [
    {
     "data": {
      "text/plain": [
       "b'\\x0c\\x00\\x00\\x00'"
      ]
     },
     "execution_count": 157,
     "metadata": {},
     "output_type": "execute_result"
    }
   ],
   "source": [
    "packet[1:5]"
   ]
  },
  {
   "cell_type": "code",
   "execution_count": 158,
   "metadata": {},
   "outputs": [
    {
     "data": {
      "text/plain": [
       "b'\\x0c\\x00\\x00\\x00'"
      ]
     },
     "execution_count": 158,
     "metadata": {},
     "output_type": "execute_result"
    }
   ],
   "source": [
    "timestamp_raw = packet[1:5]\n",
    "timestamp_raw"
   ]
  },
  {
   "cell_type": "code",
   "execution_count": 159,
   "metadata": {},
   "outputs": [
    {
     "data": {
      "text/plain": [
       "12"
      ]
     },
     "execution_count": 159,
     "metadata": {},
     "output_type": "execute_result"
    }
   ],
   "source": [
    "int.from_bytes(timestamp_raw, 'little')"
   ]
  },
  {
   "cell_type": "code",
   "execution_count": 160,
   "metadata": {},
   "outputs": [
    {
     "data": {
      "text/plain": [
       "201326592"
      ]
     },
     "execution_count": 160,
     "metadata": {},
     "output_type": "execute_result"
    }
   ],
   "source": [
    "int.from_bytes(timestamp_raw, 'big')"
   ]
  },
  {
   "cell_type": "code",
   "execution_count": 161,
   "metadata": {},
   "outputs": [
    {
     "data": {
      "text/plain": [
       "12"
      ]
     },
     "execution_count": 161,
     "metadata": {},
     "output_type": "execute_result"
    }
   ],
   "source": [
    "timestamp = int.from_bytes(timestamp_raw, 'little')\n",
    "timestamp"
   ]
  },
  {
   "cell_type": "code",
   "execution_count": 162,
   "metadata": {},
   "outputs": [
    {
     "data": {
      "text/plain": [
       "170"
      ]
     },
     "execution_count": 162,
     "metadata": {},
     "output_type": "execute_result"
    }
   ],
   "source": [
    "sof = packet[0]\n",
    "sof"
   ]
  },
  {
   "cell_type": "code",
   "execution_count": 163,
   "metadata": {},
   "outputs": [
    {
     "data": {
      "text/plain": [
       "170"
      ]
     },
     "execution_count": 163,
     "metadata": {},
     "output_type": "execute_result"
    }
   ],
   "source": [
    "int.from_bytes(b'\\xAA', 'little')"
   ]
  },
  {
   "cell_type": "code",
   "execution_count": 164,
   "metadata": {},
   "outputs": [
    {
     "data": {
      "text/plain": [
       "170"
      ]
     },
     "execution_count": 164,
     "metadata": {},
     "output_type": "execute_result"
    }
   ],
   "source": [
    "int.from_bytes(b'\\xAA', 'big')"
   ]
  },
  {
   "cell_type": "code",
   "execution_count": 165,
   "metadata": {},
   "outputs": [],
   "source": [
    "assert sof == int.from_bytes(b'\\xAA', 'little')"
   ]
  },
  {
   "cell_type": "code",
   "execution_count": 166,
   "metadata": {},
   "outputs": [
    {
     "data": {
      "text/plain": [
       "4"
      ]
     },
     "execution_count": 166,
     "metadata": {},
     "output_type": "execute_result"
    }
   ],
   "source": [
    "dlc = packet[5]\n",
    "dlc"
   ]
  },
  {
   "cell_type": "code",
   "execution_count": 167,
   "metadata": {},
   "outputs": [
    {
     "data": {
      "text/plain": [
       "b'\\x01\\x00\\x00\\x00'"
      ]
     },
     "execution_count": 167,
     "metadata": {},
     "output_type": "execute_result"
    }
   ],
   "source": [
    "arbitration_id_raw = packet[6:10]\n",
    "arbitration_id_raw"
   ]
  },
  {
   "cell_type": "code",
   "execution_count": 168,
   "metadata": {},
   "outputs": [
    {
     "data": {
      "text/plain": [
       "1"
      ]
     },
     "execution_count": 168,
     "metadata": {},
     "output_type": "execute_result"
    }
   ],
   "source": [
    "int.from_bytes(arbitration_id_raw, 'little')"
   ]
  },
  {
   "cell_type": "code",
   "execution_count": 169,
   "metadata": {},
   "outputs": [
    {
     "data": {
      "text/plain": [
       "16777216"
      ]
     },
     "execution_count": 169,
     "metadata": {},
     "output_type": "execute_result"
    }
   ],
   "source": [
    "int.from_bytes(arbitration_id_raw, 'big')"
   ]
  },
  {
   "cell_type": "code",
   "execution_count": 170,
   "metadata": {},
   "outputs": [
    {
     "data": {
      "text/plain": [
       "0"
      ]
     },
     "execution_count": 170,
     "metadata": {},
     "output_type": "execute_result"
    }
   ],
   "source": [
    "data = packet[11]\n",
    "data "
   ]
  },
  {
   "cell_type": "code",
   "execution_count": 171,
   "metadata": {},
   "outputs": [
    {
     "data": {
      "text/plain": [
       "{'baud': 115200,\n",
       " 'delay': 1000,\n",
       " 'build_uuid': 'b9194007-953a-4fdb-b7ba-f368a0322d79'}"
      ]
     },
     "execution_count": 171,
     "metadata": {},
     "output_type": "execute_result"
    }
   ],
   "source": [
    "sketch_cfg"
   ]
  },
  {
   "cell_type": "code",
   "execution_count": 172,
   "metadata": {},
   "outputs": [
    {
     "data": {
      "text/plain": [
       "'b9194007-953a-4fdb-b7ba-f368a0322d79'"
      ]
     },
     "execution_count": 172,
     "metadata": {},
     "output_type": "execute_result"
    }
   ],
   "source": [
    "header_uuid"
   ]
  },
  {
   "cell_type": "code",
   "execution_count": 173,
   "metadata": {},
   "outputs": [
    {
     "data": {
      "text/plain": [
       "'b9194007-953a-4fdb-b7ba-f368a0322d79'"
      ]
     },
     "execution_count": 173,
     "metadata": {},
     "output_type": "execute_result"
    }
   ],
   "source": [
    "sketch_cfg[\"build_uuid\"]"
   ]
  },
  {
   "cell_type": "code",
   "execution_count": 174,
   "metadata": {},
   "outputs": [],
   "source": [
    "assert str(header_uuid) == header_uuid"
   ]
  },
  {
   "cell_type": "code",
   "execution_count": 175,
   "metadata": {},
   "outputs": [],
   "source": [
    "assert str(sketch_cfg[\"build_uuid\"]) == sketch_cfg[\"build_uuid\"]"
   ]
  },
  {
   "cell_type": "code",
   "execution_count": 176,
   "metadata": {},
   "outputs": [],
   "source": [
    "assert header_uuid == sketch_cfg[\"build_uuid\"]"
   ]
  },
  {
   "cell_type": "code",
   "execution_count": 177,
   "metadata": {},
   "outputs": [],
   "source": [
    "ser.close()"
   ]
  },
  {
   "cell_type": "markdown",
   "metadata": {},
   "source": [
    "# python-can testing\n",
    "\n",
    "Validate and verify that ``python-can`` is decoding the packets correctly."
   ]
  },
  {
   "cell_type": "code",
   "execution_count": 178,
   "metadata": {},
   "outputs": [
    {
     "data": {
      "text/plain": [
       "'2.1.0'"
      ]
     },
     "execution_count": 178,
     "metadata": {},
     "output_type": "execute_result"
    }
   ],
   "source": [
    "import can\n",
    "can.__version__"
   ]
  },
  {
   "cell_type": "code",
   "execution_count": 179,
   "metadata": {},
   "outputs": [
    {
     "data": {
      "text/plain": [
       "b'\\x00\\x00\\x04\\x01\\x00\\x00\\x00\\x8f\\t\\x00\\x00\\xbb'"
      ]
     },
     "execution_count": 179,
     "metadata": {},
     "output_type": "execute_result"
    }
   ],
   "source": [
    "bus_cfg = dict()\n",
    "bus_cfg[\"bustype\"] = \"serial\"\n",
    "bus_cfg[\"channel\"]=serial_ports[0]\n",
    "bus_cfg[\"bitrate\"]=115200\n",
    "\n",
    "bus = can.interface.Bus(**bus_cfg)   \n",
    "bus.ser.read_until(b\"\\xBB\")"
   ]
  },
  {
   "cell_type": "code",
   "execution_count": 180,
   "metadata": {},
   "outputs": [
    {
     "data": {
      "text/plain": [
       "can.Message(timestamp=2.448, is_remote_frame=False, extended_id=True, is_error_frame=False, arbitration_id=0x1, dlc=4, data=[0x90, 0x9, 0x0, 0x0])"
      ]
     },
     "execution_count": 180,
     "metadata": {},
     "output_type": "execute_result"
    }
   ],
   "source": [
    "packet = bus.recv()\n",
    "packet"
   ]
  },
  {
   "cell_type": "code",
   "execution_count": 181,
   "metadata": {},
   "outputs": [
    {
     "data": {
      "text/plain": [
       "2.448"
      ]
     },
     "execution_count": 181,
     "metadata": {},
     "output_type": "execute_result"
    }
   ],
   "source": [
    "packet.timestamp"
   ]
  },
  {
   "cell_type": "code",
   "execution_count": 182,
   "metadata": {},
   "outputs": [
    {
     "data": {
      "text/plain": [
       "1"
      ]
     },
     "execution_count": 182,
     "metadata": {},
     "output_type": "execute_result"
    }
   ],
   "source": [
    "packet.arbitration_id"
   ]
  },
  {
   "cell_type": "code",
   "execution_count": 183,
   "metadata": {},
   "outputs": [
    {
     "data": {
      "text/plain": [
       "4"
      ]
     },
     "execution_count": 183,
     "metadata": {},
     "output_type": "execute_result"
    }
   ],
   "source": [
    "packet.dlc"
   ]
  },
  {
   "cell_type": "code",
   "execution_count": 184,
   "metadata": {},
   "outputs": [
    {
     "data": {
      "text/plain": [
       "bytearray(b'\\x90\\t\\x00\\x00')"
      ]
     },
     "execution_count": 184,
     "metadata": {},
     "output_type": "execute_result"
    }
   ],
   "source": [
    "packet.data"
   ]
  },
  {
   "cell_type": "code",
   "execution_count": 185,
   "metadata": {},
   "outputs": [
    {
     "data": {
      "text/plain": [
       "2448"
      ]
     },
     "execution_count": 185,
     "metadata": {},
     "output_type": "execute_result"
    }
   ],
   "source": [
    "int.from_bytes(packet.data, 'little')"
   ]
  },
  {
   "cell_type": "code",
   "execution_count": 186,
   "metadata": {},
   "outputs": [
    {
     "data": {
      "text/plain": [
       "2416508928"
      ]
     },
     "execution_count": 186,
     "metadata": {},
     "output_type": "execute_result"
    }
   ],
   "source": [
    "int.from_bytes(packet.data, 'big')"
   ]
  },
  {
   "cell_type": "code",
   "execution_count": 187,
   "metadata": {},
   "outputs": [
    {
     "data": {
      "text/plain": [
       "2.448"
      ]
     },
     "execution_count": 187,
     "metadata": {},
     "output_type": "execute_result"
    }
   ],
   "source": [
    "packet.timestamp"
   ]
  },
  {
   "cell_type": "code",
   "execution_count": 188,
   "metadata": {},
   "outputs": [],
   "source": [
    "packets = list()\n",
    "while len(packets)<100:\n",
    "    packet = bus.recv()\n",
    "    if packet is None:\n",
    "        time.sleep(sketch_cfg[\"delay\"])\n",
    "    packets.append(packet)"
   ]
  },
  {
   "cell_type": "code",
   "execution_count": 189,
   "metadata": {},
   "outputs": [
    {
     "data": {
      "text/plain": [
       "[can.Message(timestamp=2.449, is_remote_frame=False, extended_id=True, is_error_frame=False, arbitration_id=0x1, dlc=4, data=[0x91, 0x9, 0x0, 0x0]),\n",
       " can.Message(timestamp=2.451, is_remote_frame=False, extended_id=True, is_error_frame=False, arbitration_id=0x1, dlc=4, data=[0x93, 0x9, 0x0, 0x0]),\n",
       " can.Message(timestamp=2.452, is_remote_frame=False, extended_id=True, is_error_frame=False, arbitration_id=0x1, dlc=4, data=[0x94, 0x9, 0x0, 0x0]),\n",
       " can.Message(timestamp=2.453, is_remote_frame=False, extended_id=True, is_error_frame=False, arbitration_id=0x1, dlc=4, data=[0x95, 0x9, 0x0, 0x0]),\n",
       " can.Message(timestamp=2.454, is_remote_frame=False, extended_id=True, is_error_frame=False, arbitration_id=0x1, dlc=4, data=[0x96, 0x9, 0x0, 0x0]),\n",
       " can.Message(timestamp=2.456, is_remote_frame=False, extended_id=True, is_error_frame=False, arbitration_id=0x1, dlc=4, data=[0x98, 0x9, 0x0, 0x0]),\n",
       " can.Message(timestamp=2.457, is_remote_frame=False, extended_id=True, is_error_frame=False, arbitration_id=0x1, dlc=4, data=[0x99, 0x9, 0x0, 0x0]),\n",
       " can.Message(timestamp=2.458, is_remote_frame=False, extended_id=True, is_error_frame=False, arbitration_id=0x1, dlc=4, data=[0x9a, 0x9, 0x0, 0x0]),\n",
       " can.Message(timestamp=2.459, is_remote_frame=False, extended_id=True, is_error_frame=False, arbitration_id=0x1, dlc=4, data=[0x9b, 0x9, 0x0, 0x0]),\n",
       " can.Message(timestamp=2.461, is_remote_frame=False, extended_id=True, is_error_frame=False, arbitration_id=0x1, dlc=4, data=[0x9d, 0x9, 0x0, 0x0]),\n",
       " can.Message(timestamp=2.462, is_remote_frame=False, extended_id=True, is_error_frame=False, arbitration_id=0x1, dlc=4, data=[0x9e, 0x9, 0x0, 0x0]),\n",
       " can.Message(timestamp=2.463, is_remote_frame=False, extended_id=True, is_error_frame=False, arbitration_id=0x1, dlc=4, data=[0x9f, 0x9, 0x0, 0x0]),\n",
       " can.Message(timestamp=2.464, is_remote_frame=False, extended_id=True, is_error_frame=False, arbitration_id=0x1, dlc=4, data=[0xa0, 0x9, 0x0, 0x0]),\n",
       " can.Message(timestamp=2.466, is_remote_frame=False, extended_id=True, is_error_frame=False, arbitration_id=0x1, dlc=4, data=[0xa2, 0x9, 0x0, 0x0]),\n",
       " can.Message(timestamp=2.467, is_remote_frame=False, extended_id=True, is_error_frame=False, arbitration_id=0x1, dlc=4, data=[0xa3, 0x9, 0x0, 0x0]),\n",
       " can.Message(timestamp=2.468, is_remote_frame=False, extended_id=True, is_error_frame=False, arbitration_id=0x1, dlc=4, data=[0xa4, 0x9, 0x0, 0x0]),\n",
       " can.Message(timestamp=2.469, is_remote_frame=False, extended_id=True, is_error_frame=False, arbitration_id=0x1, dlc=4, data=[0xa5, 0x9, 0x0, 0x0]),\n",
       " can.Message(timestamp=2.471, is_remote_frame=False, extended_id=True, is_error_frame=False, arbitration_id=0x1, dlc=4, data=[0xa7, 0x9, 0x0, 0x0]),\n",
       " can.Message(timestamp=2.472, is_remote_frame=False, extended_id=True, is_error_frame=False, arbitration_id=0x1, dlc=4, data=[0xa8, 0x9, 0x0, 0x0]),\n",
       " can.Message(timestamp=2.473, is_remote_frame=False, extended_id=True, is_error_frame=False, arbitration_id=0x1, dlc=4, data=[0xa9, 0x9, 0x0, 0x0]),\n",
       " can.Message(timestamp=2.475, is_remote_frame=False, extended_id=True, is_error_frame=False, arbitration_id=0x1, dlc=4, data=[0xab, 0x9, 0x0, 0x0]),\n",
       " can.Message(timestamp=2.477, is_remote_frame=False, extended_id=True, is_error_frame=False, arbitration_id=0x1, dlc=4, data=[0xad, 0x9, 0x0, 0x0]),\n",
       " can.Message(timestamp=2.478, is_remote_frame=False, extended_id=True, is_error_frame=False, arbitration_id=0x1, dlc=4, data=[0xae, 0x9, 0x0, 0x0]),\n",
       " can.Message(timestamp=2.479, is_remote_frame=False, extended_id=True, is_error_frame=False, arbitration_id=0x1, dlc=4, data=[0xaf, 0x9, 0x0, 0x0]),\n",
       " can.Message(timestamp=2.48, is_remote_frame=False, extended_id=True, is_error_frame=False, arbitration_id=0x1, dlc=4, data=[0xb0, 0x9, 0x0, 0x0]),\n",
       " can.Message(timestamp=2.482, is_remote_frame=False, extended_id=True, is_error_frame=False, arbitration_id=0x1, dlc=4, data=[0xb2, 0x9, 0x0, 0x0]),\n",
       " can.Message(timestamp=2.483, is_remote_frame=False, extended_id=True, is_error_frame=False, arbitration_id=0x1, dlc=4, data=[0xb3, 0x9, 0x0, 0x0]),\n",
       " can.Message(timestamp=2.484, is_remote_frame=False, extended_id=True, is_error_frame=False, arbitration_id=0x1, dlc=4, data=[0xb4, 0x9, 0x0, 0x0]),\n",
       " can.Message(timestamp=2.485, is_remote_frame=False, extended_id=True, is_error_frame=False, arbitration_id=0x1, dlc=4, data=[0xb5, 0x9, 0x0, 0x0]),\n",
       " can.Message(timestamp=2.487, is_remote_frame=False, extended_id=True, is_error_frame=False, arbitration_id=0x1, dlc=4, data=[0xb7, 0x9, 0x0, 0x0]),\n",
       " can.Message(timestamp=2.488, is_remote_frame=False, extended_id=True, is_error_frame=False, arbitration_id=0x1, dlc=4, data=[0xb8, 0x9, 0x0, 0x0]),\n",
       " can.Message(timestamp=2.489, is_remote_frame=False, extended_id=True, is_error_frame=False, arbitration_id=0x1, dlc=4, data=[0xb9, 0x9, 0x0, 0x0]),\n",
       " can.Message(timestamp=2.49, is_remote_frame=False, extended_id=True, is_error_frame=False, arbitration_id=0x1, dlc=4, data=[0xba, 0x9, 0x0, 0x0]),\n",
       " can.Message(timestamp=2.492, is_remote_frame=False, extended_id=True, is_error_frame=False, arbitration_id=0x1, dlc=4, data=[0xbc, 0x9, 0x0, 0x0]),\n",
       " can.Message(timestamp=2.493, is_remote_frame=False, extended_id=True, is_error_frame=False, arbitration_id=0x1, dlc=4, data=[0xbd, 0x9, 0x0, 0x0]),\n",
       " can.Message(timestamp=2.494, is_remote_frame=False, extended_id=True, is_error_frame=False, arbitration_id=0x1, dlc=4, data=[0xbe, 0x9, 0x0, 0x0]),\n",
       " can.Message(timestamp=2.495, is_remote_frame=False, extended_id=True, is_error_frame=False, arbitration_id=0x1, dlc=4, data=[0xbf, 0x9, 0x0, 0x0]),\n",
       " can.Message(timestamp=2.496, is_remote_frame=False, extended_id=True, is_error_frame=False, arbitration_id=0x1, dlc=4, data=[0xc0, 0x9, 0x0, 0x0]),\n",
       " can.Message(timestamp=2.498, is_remote_frame=False, extended_id=True, is_error_frame=False, arbitration_id=0x1, dlc=4, data=[0xc2, 0x9, 0x0, 0x0]),\n",
       " can.Message(timestamp=2.499, is_remote_frame=False, extended_id=True, is_error_frame=False, arbitration_id=0x1, dlc=4, data=[0xc3, 0x9, 0x0, 0x0]),\n",
       " can.Message(timestamp=2.5, is_remote_frame=False, extended_id=True, is_error_frame=False, arbitration_id=0x1, dlc=4, data=[0xc4, 0x9, 0x0, 0x0]),\n",
       " can.Message(timestamp=2.501, is_remote_frame=False, extended_id=True, is_error_frame=False, arbitration_id=0x1, dlc=4, data=[0xc5, 0x9, 0x0, 0x0]),\n",
       " can.Message(timestamp=2.503, is_remote_frame=False, extended_id=True, is_error_frame=False, arbitration_id=0x1, dlc=4, data=[0xc7, 0x9, 0x0, 0x0]),\n",
       " can.Message(timestamp=2.504, is_remote_frame=False, extended_id=True, is_error_frame=False, arbitration_id=0x1, dlc=4, data=[0xc8, 0x9, 0x0, 0x0]),\n",
       " can.Message(timestamp=2.505, is_remote_frame=False, extended_id=True, is_error_frame=False, arbitration_id=0x1, dlc=4, data=[0xc9, 0x9, 0x0, 0x0]),\n",
       " can.Message(timestamp=2.506, is_remote_frame=False, extended_id=True, is_error_frame=False, arbitration_id=0x1, dlc=4, data=[0xca, 0x9, 0x0, 0x0]),\n",
       " can.Message(timestamp=2.508, is_remote_frame=False, extended_id=True, is_error_frame=False, arbitration_id=0x1, dlc=4, data=[0xcc, 0x9, 0x0, 0x0]),\n",
       " can.Message(timestamp=2.509, is_remote_frame=False, extended_id=True, is_error_frame=False, arbitration_id=0x1, dlc=4, data=[0xcd, 0x9, 0x0, 0x0]),\n",
       " can.Message(timestamp=2.51, is_remote_frame=False, extended_id=True, is_error_frame=False, arbitration_id=0x1, dlc=4, data=[0xce, 0x9, 0x0, 0x0]),\n",
       " can.Message(timestamp=2.511, is_remote_frame=False, extended_id=True, is_error_frame=False, arbitration_id=0x1, dlc=4, data=[0xcf, 0x9, 0x0, 0x0]),\n",
       " can.Message(timestamp=2.513, is_remote_frame=False, extended_id=True, is_error_frame=False, arbitration_id=0x1, dlc=4, data=[0xd1, 0x9, 0x0, 0x0]),\n",
       " can.Message(timestamp=2.514, is_remote_frame=False, extended_id=True, is_error_frame=False, arbitration_id=0x1, dlc=4, data=[0xd2, 0x9, 0x0, 0x0]),\n",
       " can.Message(timestamp=2.515, is_remote_frame=False, extended_id=True, is_error_frame=False, arbitration_id=0x1, dlc=4, data=[0xd3, 0x9, 0x0, 0x0]),\n",
       " can.Message(timestamp=2.516, is_remote_frame=False, extended_id=True, is_error_frame=False, arbitration_id=0x1, dlc=4, data=[0xd4, 0x9, 0x0, 0x0]),\n",
       " can.Message(timestamp=2.519, is_remote_frame=False, extended_id=True, is_error_frame=False, arbitration_id=0x1, dlc=4, data=[0xd7, 0x9, 0x0, 0x0]),\n",
       " can.Message(timestamp=2.52, is_remote_frame=False, extended_id=True, is_error_frame=False, arbitration_id=0x1, dlc=4, data=[0xd8, 0x9, 0x0, 0x0]),\n",
       " can.Message(timestamp=2.521, is_remote_frame=False, extended_id=True, is_error_frame=False, arbitration_id=0x1, dlc=4, data=[0xd9, 0x9, 0x0, 0x0]),\n",
       " can.Message(timestamp=2.522, is_remote_frame=False, extended_id=True, is_error_frame=False, arbitration_id=0x1, dlc=4, data=[0xda, 0x9, 0x0, 0x0]),\n",
       " can.Message(timestamp=2.524, is_remote_frame=False, extended_id=True, is_error_frame=False, arbitration_id=0x1, dlc=4, data=[0xdc, 0x9, 0x0, 0x0]),\n",
       " can.Message(timestamp=2.525, is_remote_frame=False, extended_id=True, is_error_frame=False, arbitration_id=0x1, dlc=4, data=[0xdd, 0x9, 0x0, 0x0]),\n",
       " can.Message(timestamp=2.526, is_remote_frame=False, extended_id=True, is_error_frame=False, arbitration_id=0x1, dlc=4, data=[0xde, 0x9, 0x0, 0x0]),\n",
       " can.Message(timestamp=2.527, is_remote_frame=False, extended_id=True, is_error_frame=False, arbitration_id=0x1, dlc=4, data=[0xdf, 0x9, 0x0, 0x0]),\n",
       " can.Message(timestamp=2.529, is_remote_frame=False, extended_id=True, is_error_frame=False, arbitration_id=0x1, dlc=4, data=[0xe1, 0x9, 0x0, 0x0]),\n",
       " can.Message(timestamp=2.53, is_remote_frame=False, extended_id=True, is_error_frame=False, arbitration_id=0x1, dlc=4, data=[0xe2, 0x9, 0x0, 0x0]),\n",
       " can.Message(timestamp=2.531, is_remote_frame=False, extended_id=True, is_error_frame=False, arbitration_id=0x1, dlc=4, data=[0xe3, 0x9, 0x0, 0x0]),\n",
       " can.Message(timestamp=2.532, is_remote_frame=False, extended_id=True, is_error_frame=False, arbitration_id=0x1, dlc=4, data=[0xe4, 0x9, 0x0, 0x0]),\n",
       " can.Message(timestamp=2.534, is_remote_frame=False, extended_id=True, is_error_frame=False, arbitration_id=0x1, dlc=4, data=[0xe6, 0x9, 0x0, 0x0]),\n",
       " can.Message(timestamp=2.535, is_remote_frame=False, extended_id=True, is_error_frame=False, arbitration_id=0x1, dlc=4, data=[0xe7, 0x9, 0x0, 0x0]),\n",
       " can.Message(timestamp=2.536, is_remote_frame=False, extended_id=True, is_error_frame=False, arbitration_id=0x1, dlc=4, data=[0xe8, 0x9, 0x0, 0x0]),\n",
       " can.Message(timestamp=2.537, is_remote_frame=False, extended_id=True, is_error_frame=False, arbitration_id=0x1, dlc=4, data=[0xe9, 0x9, 0x0, 0x0]),\n",
       " can.Message(timestamp=2.539, is_remote_frame=False, extended_id=True, is_error_frame=False, arbitration_id=0x1, dlc=4, data=[0xeb, 0x9, 0x0, 0x0]),\n",
       " can.Message(timestamp=2.54, is_remote_frame=False, extended_id=True, is_error_frame=False, arbitration_id=0x1, dlc=4, data=[0xec, 0x9, 0x0, 0x0]),\n",
       " can.Message(timestamp=2.541, is_remote_frame=False, extended_id=True, is_error_frame=False, arbitration_id=0x1, dlc=4, data=[0xed, 0x9, 0x0, 0x0]),\n",
       " can.Message(timestamp=2.542, is_remote_frame=False, extended_id=True, is_error_frame=False, arbitration_id=0x1, dlc=4, data=[0xee, 0x9, 0x0, 0x0]),\n",
       " can.Message(timestamp=2.544, is_remote_frame=False, extended_id=True, is_error_frame=False, arbitration_id=0x1, dlc=4, data=[0xf0, 0x9, 0x0, 0x0]),\n",
       " can.Message(timestamp=2.545, is_remote_frame=False, extended_id=True, is_error_frame=False, arbitration_id=0x1, dlc=4, data=[0xf1, 0x9, 0x0, 0x0]),\n",
       " can.Message(timestamp=2.546, is_remote_frame=False, extended_id=True, is_error_frame=False, arbitration_id=0x1, dlc=4, data=[0xf2, 0x9, 0x0, 0x0]),\n",
       " can.Message(timestamp=2.547, is_remote_frame=False, extended_id=True, is_error_frame=False, arbitration_id=0x1, dlc=4, data=[0xf3, 0x9, 0x0, 0x0]),\n",
       " can.Message(timestamp=2.549, is_remote_frame=False, extended_id=True, is_error_frame=False, arbitration_id=0x1, dlc=4, data=[0xf5, 0x9, 0x0, 0x0]),\n",
       " can.Message(timestamp=2.55, is_remote_frame=False, extended_id=True, is_error_frame=False, arbitration_id=0x1, dlc=4, data=[0xf6, 0x9, 0x0, 0x0]),\n",
       " can.Message(timestamp=2.551, is_remote_frame=False, extended_id=True, is_error_frame=False, arbitration_id=0x1, dlc=4, data=[0xf7, 0x9, 0x0, 0x0]),\n",
       " can.Message(timestamp=2.552, is_remote_frame=False, extended_id=True, is_error_frame=False, arbitration_id=0x1, dlc=4, data=[0xf8, 0x9, 0x0, 0x0]),\n",
       " can.Message(timestamp=2.554, is_remote_frame=False, extended_id=True, is_error_frame=False, arbitration_id=0x1, dlc=4, data=[0xfa, 0x9, 0x0, 0x0]),\n",
       " can.Message(timestamp=2.555, is_remote_frame=False, extended_id=True, is_error_frame=False, arbitration_id=0x1, dlc=4, data=[0xfb, 0x9, 0x0, 0x0]),\n",
       " can.Message(timestamp=2.556, is_remote_frame=False, extended_id=True, is_error_frame=False, arbitration_id=0x1, dlc=4, data=[0xfc, 0x9, 0x0, 0x0]),\n",
       " can.Message(timestamp=2.557, is_remote_frame=False, extended_id=True, is_error_frame=False, arbitration_id=0x1, dlc=4, data=[0xfd, 0x9, 0x0, 0x0]),\n",
       " can.Message(timestamp=2.56, is_remote_frame=False, extended_id=True, is_error_frame=False, arbitration_id=0x1, dlc=4, data=[0x0, 0xa, 0x0, 0x0]),\n",
       " can.Message(timestamp=2.561, is_remote_frame=False, extended_id=True, is_error_frame=False, arbitration_id=0x1, dlc=4, data=[0x1, 0xa, 0x0, 0x0]),\n",
       " can.Message(timestamp=2.562, is_remote_frame=False, extended_id=True, is_error_frame=False, arbitration_id=0x1, dlc=4, data=[0x2, 0xa, 0x0, 0x0]),\n",
       " can.Message(timestamp=2.563, is_remote_frame=False, extended_id=True, is_error_frame=False, arbitration_id=0x1, dlc=4, data=[0x3, 0xa, 0x0, 0x0]),\n",
       " can.Message(timestamp=2.564, is_remote_frame=False, extended_id=True, is_error_frame=False, arbitration_id=0x1, dlc=4, data=[0x4, 0xa, 0x0, 0x0]),\n",
       " can.Message(timestamp=2.566, is_remote_frame=False, extended_id=True, is_error_frame=False, arbitration_id=0x1, dlc=4, data=[0x6, 0xa, 0x0, 0x0]),\n",
       " can.Message(timestamp=2.567, is_remote_frame=False, extended_id=True, is_error_frame=False, arbitration_id=0x1, dlc=4, data=[0x7, 0xa, 0x0, 0x0]),\n",
       " can.Message(timestamp=2.568, is_remote_frame=False, extended_id=True, is_error_frame=False, arbitration_id=0x1, dlc=4, data=[0x8, 0xa, 0x0, 0x0]),\n",
       " can.Message(timestamp=2.569, is_remote_frame=False, extended_id=True, is_error_frame=False, arbitration_id=0x1, dlc=4, data=[0x9, 0xa, 0x0, 0x0]),\n",
       " can.Message(timestamp=2.571, is_remote_frame=False, extended_id=True, is_error_frame=False, arbitration_id=0x1, dlc=4, data=[0xb, 0xa, 0x0, 0x0]),\n",
       " can.Message(timestamp=2.572, is_remote_frame=False, extended_id=True, is_error_frame=False, arbitration_id=0x1, dlc=4, data=[0xc, 0xa, 0x0, 0x0]),\n",
       " can.Message(timestamp=2.573, is_remote_frame=False, extended_id=True, is_error_frame=False, arbitration_id=0x1, dlc=4, data=[0xd, 0xa, 0x0, 0x0]),\n",
       " can.Message(timestamp=2.574, is_remote_frame=False, extended_id=True, is_error_frame=False, arbitration_id=0x1, dlc=4, data=[0xe, 0xa, 0x0, 0x0]),\n",
       " can.Message(timestamp=2.576, is_remote_frame=False, extended_id=True, is_error_frame=False, arbitration_id=0x1, dlc=4, data=[0x10, 0xa, 0x0, 0x0])]"
      ]
     },
     "execution_count": 189,
     "metadata": {},
     "output_type": "execute_result"
    }
   ],
   "source": [
    "packets"
   ]
  },
  {
   "cell_type": "code",
   "execution_count": 190,
   "metadata": {},
   "outputs": [],
   "source": [
    "class Data(object):\n",
    "    def __init__(self):\n",
    "        pass\n",
    "data = Data()"
   ]
  },
  {
   "cell_type": "code",
   "execution_count": 191,
   "metadata": {},
   "outputs": [
    {
     "data": {
      "text/plain": [
       "[2.449, 2.451, 2.452, 2.453, 2.454, 2.456, 2.457, 2.458, 2.459, 2.461]"
      ]
     },
     "execution_count": 191,
     "metadata": {},
     "output_type": "execute_result"
    }
   ],
   "source": [
    "data.time = [packet.timestamp for packet in packets]\n",
    "data.time[:10]"
   ]
  },
  {
   "cell_type": "code",
   "execution_count": 192,
   "metadata": {},
   "outputs": [
    {
     "data": {
      "text/plain": [
       "[2449, 2451, 2452, 2453, 2454, 2456, 2457, 2458, 2459, 2461]"
      ]
     },
     "execution_count": 192,
     "metadata": {},
     "output_type": "execute_result"
    }
   ],
   "source": [
    "data.values = [int.from_bytes(packet.data, 'little') for packet in packets]\n",
    "data.values[:10]"
   ]
  },
  {
   "cell_type": "code",
   "execution_count": 193,
   "metadata": {},
   "outputs": [
    {
     "data": {
      "text/plain": [
       "2.449"
      ]
     },
     "execution_count": 193,
     "metadata": {},
     "output_type": "execute_result"
    }
   ],
   "source": [
    "data.time[0]"
   ]
  },
  {
   "cell_type": "code",
   "execution_count": 194,
   "metadata": {},
   "outputs": [
    {
     "data": {
      "text/plain": [
       "2449"
      ]
     },
     "execution_count": 194,
     "metadata": {},
     "output_type": "execute_result"
    }
   ],
   "source": [
    "data.values[0]"
   ]
  },
  {
   "cell_type": "code",
   "execution_count": 195,
   "metadata": {},
   "outputs": [],
   "source": [
    "assert data.time[0]*1000 == data.values[0]"
   ]
  },
  {
   "cell_type": "markdown",
   "metadata": {},
   "source": [
    "## Visual Test\n",
    "\n",
    "Plot of data. Data is increasing linearly."
   ]
  },
  {
   "cell_type": "code",
   "execution_count": 197,
   "metadata": {},
   "outputs": [
    {
     "data": {
      "text/plain": [
       "[<matplotlib.lines.Line2D at 0x7f9728ab34a8>]"
      ]
     },
     "execution_count": 197,
     "metadata": {},
     "output_type": "execute_result"
    },
    {
     "data": {
      "image/png": "[encoded data removed]",
      "text/plain": [
       "<Figure size 432x288 with 1 Axes>"
      ]
     },
     "metadata": {},
     "output_type": "display_data"
    }
   ],
   "source": [
    "import matplotlib.pyplot as plt\n",
    "plt.xkcd()\n",
    "fig = plt.figure()\n",
    "ax = fig.add_subplot(1, 1, 1)\n",
    "ax.spines['right'].set_color('none')\n",
    "ax.spines['top'].set_color('none')\n",
    "plt.xticks([])\n",
    "plt.yticks([])\n",
    "plt.plot(data.time, data.values)"
   ]
  },
  {
   "cell_type": "markdown",
   "metadata": {},
   "source": [
    "# Appendices"
   ]
  },
  {
   "cell_type": "markdown",
   "metadata": {},
   "source": [
    "## Python Module Versions"
   ]
  },
  {
   "cell_type": "code",
   "execution_count": 198,
   "metadata": {},
   "outputs": [
    {
     "name": "stdout",
     "output_type": "stream",
     "text": [
      "backcall==0.1.0\r\n",
      "bleach==2.1.3\r\n",
      "cycler==0.10.0\r\n",
      "decorator==4.3.0\r\n",
      "entrypoints==0.2.3\r\n",
      "html5lib==1.0.1\r\n",
      "ipykernel==4.8.2\r\n",
      "ipython==6.4.0\r\n",
      "ipython-genutils==0.2.0\r\n",
      "ipywidgets==7.2.1\r\n",
      "jedi==0.12.0\r\n",
      "Jinja2==2.10\r\n",
      "jsonschema==2.6.0\r\n",
      "jupyter==1.0.0\r\n",
      "jupyter-client==5.2.3\r\n",
      "jupyter-console==5.2.0\r\n",
      "jupyter-core==4.4.0\r\n",
      "kiwisolver==1.0.1\r\n",
      "MarkupSafe==1.0\r\n",
      "matplotlib==2.2.2\r\n",
      "mistune==0.8.3\r\n",
      "nbconvert==5.3.1\r\n",
      "nbformat==4.4.0\r\n",
      "notebook==5.5.0\r\n",
      "numpy==1.14.3\r\n",
      "pandas==0.23.0\r\n",
      "pandocfilters==1.4.2\r\n",
      "parso==0.2.0\r\n",
      "pexpect==4.5.0\r\n",
      "pickleshare==0.7.4\r\n",
      "pkg-resources==0.0.0\r\n",
      "prompt-toolkit==1.0.15\r\n",
      "ptyprocess==0.5.2\r\n",
      "Pygments==2.2.0\r\n",
      "pyparsing==2.2.0\r\n",
      "pyserial==3.4\r\n",
      "python-can==2.1.0\r\n",
      "python-dateutil==2.7.3\r\n",
      "pytz==2018.4\r\n",
      "pyzmq==17.0.0\r\n",
      "qtconsole==4.3.1\r\n",
      "scipy==1.1.0\r\n",
      "seaborn==0.8.1\r\n",
      "Send2Trash==1.5.0\r\n",
      "simplegeneric==0.8.1\r\n",
      "six==1.11.0\r\n",
      "terminado==0.8.1\r\n",
      "testpath==0.3.1\r\n",
      "tornado==5.0.2\r\n",
      "traitlets==4.3.2\r\n",
      "wcwidth==0.1.7\r\n",
      "webencodings==0.5.1\r\n",
      "widgetsnbextension==3.2.1\r\n"
     ]
    }
   ],
   "source": [
    "!pip freeze"
   ]
  }
 ],
 "metadata": {
  "kernelspec": {
   "display_name": "Python 3",
   "language": "python",
   "name": "python3"
  },
  "language_info": {
   "codemirror_mode": {
    "name": "ipython",
    "version": 3
   },
   "file_extension": ".py",
   "mimetype": "text/x-python",
   "name": "python",
   "nbconvert_exporter": "python",
   "pygments_lexer": "ipython3",
   "version": "3.6.5"
  }
 },
 "nbformat": 4,
 "nbformat_minor": 2
}
