{
 "cells": [
  {
   "cell_type": "markdown",
   "metadata": {},
   "source": [
    "# Traceable Build\n",
    "\n",
    "Embedded flash file build script, documentation, & tests."
   ]
  },
  {
   "cell_type": "markdown",
   "metadata": {},
   "source": [
    "## Generate universally unique identifier\n",
    "\n",
    "Generate a UUID for this instance of the documentation, build, and tests.\n",
    "\n",
    "> From Wikipedia, the free encyclopedia\n",
    "A universally unique identifier (UUID) is a 128-bit number used to identify information in computer systems. The term globally unique identifier (GUID) is also used.\n",
    "\n",
    "> When generated according to the standard methods, UUIDs are for practical purposes unique, without depending for their uniqueness on a central registration authority or coordination between the parties generating them, unlike most other numbering schemes. While the probability that a UUID will be duplicated is not zero, it is close enough to zero to be negligible.\n",
    "\n",
    "> Thus, anyone can create a UUID and use it to identify something with near certainty that the identifier does not duplicate one that has already been, or will be, created to identify something else. **Information labeled with UUIDs by independent parties can therefore be later combined into a single database, or transmitted on the same channel, without needing to resolve conflicts between identifiers**.\n",
    "\n",
    "> Adoption of UUIDs and GUIDs is widespread, with many computing platforms providing support for generating them, and for parsing their textual representation.\n",
    "\n",
    "- https://en.wikipedia.org/wiki/Universally_unique_identifier"
   ]
  },
  {
   "cell_type": "code",
   "execution_count": 6,
   "metadata": {},
   "outputs": [
    {
     "name": "stdout",
     "output_type": "stream",
     "text": [
      "Build UUID: 3a761187-4bd5-4ebc-bc97-54445a296c5c\n"
     ]
    }
   ],
   "source": [
    "import uuid\n",
    "build_uuid = str(uuid.uuid4())\n",
    "print(\"Build UUID: {}\".format(build_uuid))"
   ]
  },
  {
   "cell_type": "code",
   "execution_count": 8,
   "metadata": {},
   "outputs": [],
   "source": [
    "# Imports for build.\n",
    "import glob\n",
    "import uuid\n",
    "import jinja2\n",
    "import os\n",
    "import re\n",
    "import time\n",
    "import datetime"
   ]
  },
  {
   "cell_type": "code",
   "execution_count": 9,
   "metadata": {
    "scrolled": true
   },
   "outputs": [
    {
     "name": "stdout",
     "output_type": "stream",
     "text": [
      "Checkpoint 01: 2018-05-17T18:53:10.033674+00:00\n"
     ]
    }
   ],
   "source": [
    "# Checkpoints. Timestamps of what occured when.\n",
    "checkpoints=list()\n",
    "def checkpoint():\n",
    "    now=datetime.datetime.utcnow().replace(tzinfo=datetime.timezone.utc).isoformat()\n",
    "    checkpoints.append(now)\n",
    "    print(\"Checkpoint {:02d}: {}\".format(len(checkpoints), now))\n",
    "checkpoint()"
   ]
  },
  {
   "cell_type": "markdown",
   "metadata": {},
   "source": [
    "## Build Environment\n",
    "\n",
    "Build environment, for tracability. "
   ]
  },
  {
   "cell_type": "code",
   "execution_count": 10,
   "metadata": {},
   "outputs": [
    {
     "name": "stdout",
     "output_type": "stream",
     "text": [
      "Linux m6700 4.15.0-13-generic #14-Ubuntu SMP Sat Mar 17 13:44:27 UTC 2018 x86_64 x86_64 x86_64 GNU/Linux\r\n"
     ]
    }
   ],
   "source": [
    "!uname -a"
   ]
  },
  {
   "cell_type": "code",
   "execution_count": 11,
   "metadata": {},
   "outputs": [
    {
     "name": "stdout",
     "output_type": "stream",
     "text": [
      "No LSB modules are available.\r\n",
      "Distributor ID:\tUbuntu\r\n",
      "Description:\tUbuntu 18.04 LTS\r\n",
      "Release:\t18.04\r\n",
      "Codename:\tbionic\r\n"
     ]
    }
   ],
   "source": [
    "!lsb_release -a"
   ]
  },
  {
   "cell_type": "code",
   "execution_count": 12,
   "metadata": {},
   "outputs": [
    {
     "name": "stdout",
     "output_type": "stream",
     "text": [
      "m6700\r\n"
     ]
    }
   ],
   "source": [
    "!hostname"
   ]
  },
  {
   "cell_type": "code",
   "execution_count": 13,
   "metadata": {},
   "outputs": [
    {
     "name": "stdout",
     "output_type": "stream",
     "text": [
      "jed\r\n"
     ]
    }
   ],
   "source": [
    "!whoami"
   ]
  },
  {
   "cell_type": "markdown",
   "metadata": {},
   "source": [
    "# Source Code\n",
    "\n",
    "Source code template for the flash file and Makefile."
   ]
  },
  {
   "cell_type": "markdown",
   "metadata": {},
   "source": [
    "### Arduino Sketch Code Template"
   ]
  },
  {
   "cell_type": "code",
   "execution_count": 16,
   "metadata": {},
   "outputs": [],
   "source": [
    "arduino_template_str = \"\"\"\n",
    "unsigned long BAUD = {{ baud }};\n",
    "unsigned long DELAY = {{ delay }};\n",
    "char BUILD_UUID[] = \"{{ build_uuid }}\";\n",
    "\n",
    "unsigned long arbitration_id = 0x0;\n",
    "unsigned long time_millis = 0b0;\n",
    "unsigned long timestamp = 0x0;\n",
    "\n",
    "uint8_t counter8 = 0x00;\n",
    "uint16_t counter16 = 0x0000;\n",
    "uint32_t counter32 = 0x00000000;\n",
    "\n",
    "// Arduino Setup\n",
    "void setup() {\n",
    "Serial.begin(BAUD);\n",
    "Serial.print(\"Build UUID: \");\n",
    "Serial.println(BUILD_UUID);\n",
    "\n",
    "// Start of frame\n",
    "Serial.write(0xAA);\n",
    "\n",
    "// Timestamp\n",
    "Serial.write(0x00);\n",
    "Serial.write(0x00);\n",
    "Serial.write(0x00);\n",
    "Serial.write(0x00);\n",
    "\n",
    "// DLC\n",
    "Serial.write(0x00);\n",
    "\n",
    "// Arbitration ID\n",
    "Serial.write(0x00);\n",
    "Serial.write(0x00);\n",
    "Serial.write(0x00);\n",
    "Serial.write(0x00);\n",
    "\n",
    "// End of frame\n",
    "Serial.write(0xBB);\n",
    "return; \n",
    "}\n",
    "\n",
    "// Arduino Main Loop\n",
    "void loop() {\n",
    "\n",
    "/* Begin timestamp data packet */\n",
    "time_millis = millis();\n",
    "// Start of frame\n",
    "Serial.write(0xAA);\n",
    "\n",
    "// Timestamp\n",
    "timestamp = time_millis;\n",
    "for(char shift=0;shift<32;shift+=8) {\n",
    "Serial.write((unsigned long)timestamp>>shift&0b11111111);\n",
    "}\n",
    "\n",
    "// DLC\n",
    "Serial.write(0x04);\n",
    "// Arbitration ID\n",
    "arbitration_id=1;\n",
    "for(char shift=0;shift<32;shift+=8) {\n",
    "Serial.write((unsigned long)arbitration_id>>shift&0xFF);\n",
    "}\n",
    "\n",
    "// Payload\n",
    "for(char shift=0;shift<32;shift+=8) {\n",
    "Serial.write((unsigned long)time_millis>>shift&0b11111111);\n",
    "}\n",
    "\n",
    "// End of Frame\n",
    "Serial.write(0xBB);\n",
    "/* End timestamp data packet */\n",
    "\n",
    "/* Begin sinewave data packet */\n",
    "time_millis = millis();\n",
    "// Start of frame\n",
    "Serial.write(0xAA);\n",
    "\n",
    "// Timestamp\n",
    "timestamp = time_millis;\n",
    "for(char shift=0;shift<32;shift+=8) {\n",
    "Serial.write((unsigned long)timestamp>>shift&0b11111111);\n",
    "}\n",
    "\n",
    "// DLC\n",
    "Serial.write(0x04);\n",
    "// Arbitration ID\n",
    "arbitration_id=2;\n",
    "for(char shift=0;shift<32;shift+=8) {\n",
    "Serial.write((unsigned long)arbitration_id>>shift&0xFF);\n",
    "}\n",
    "\n",
    "#include <math.h>\n",
    "\n",
    "int32_t sine_value = pow(2, 31)*(sin(1000*(float)timestamp));\n",
    "\n",
    "// Payload\n",
    "for(char shift=0;shift<32;shift+=8) {\n",
    "Serial.write(sine_value>>shift&0b11111111);\n",
    "}\n",
    "\n",
    "// End of Frame\n",
    "Serial.write(0xBB);\n",
    "/* End sinewave data packet */\n",
    "}\n",
    "\"\"\""
   ]
  },
  {
   "cell_type": "markdown",
   "metadata": {},
   "source": [
    "### Makefile Code Template"
   ]
  },
  {
   "cell_type": "code",
   "execution_count": 17,
   "metadata": {},
   "outputs": [],
   "source": [
    "makefile_template_str = \"\"\"\n",
    "BOARD_TAG:={{ board_tag }}\n",
    "ARDUINO_DIR:={{ arduino_dir }}\n",
    "ARDMK_DIR:={{ ardmk_dir }}\n",
    "ARCHITECTURE:={{ architecture }}\n",
    "\n",
    "include ${ARDMK_DIR}/Arduino.mk\n",
    "\"\"\""
   ]
  },
  {
   "cell_type": "markdown",
   "metadata": {},
   "source": [
    "Generate Jinja2 template objects from the template strings."
   ]
  },
  {
   "cell_type": "code",
   "execution_count": 18,
   "metadata": {},
   "outputs": [],
   "source": [
    "arduino_template = jinja2.Template(arduino_template_str)\n",
    "makefile_template = jinja2.Template(makefile_template_str)"
   ]
  },
  {
   "cell_type": "code",
   "execution_count": 19,
   "metadata": {},
   "outputs": [
    {
     "name": "stdout",
     "output_type": "stream",
     "text": [
      "Checkpoint 02: 2018-05-17T18:59:09.539505+00:00\n"
     ]
    }
   ],
   "source": [
    "checkpoint()"
   ]
  },
  {
   "cell_type": "markdown",
   "metadata": {},
   "source": [
    "## Source Configuration\n",
    "\n",
    "Configuration options for the flash file and build.\n",
    "\n",
    "Can be read from ConfigParser, JSON, XML, databases."
   ]
  },
  {
   "cell_type": "code",
   "execution_count": 26,
   "metadata": {},
   "outputs": [],
   "source": [
    "build_cfg=dict()\n",
    "build_cfg[\"baud\"] = 115200\n",
    "build_cfg[\"delay\"]= 0\n",
    "build_cfg[\"build_uuid\"]=build_uuid\n",
    "\n",
    "build_cfg[\"board_tag\"]=\"nano328\"\n",
    "build_cfg[\"architecture\"]=\"avr\"\n",
    "\n",
    "build_cfg[\"arduino_dir\"]=os.path.abspath(os.path.join(\"..\", \"arduino\"))\n",
    "build_cfg[\"ardmk_dir\"]=os.path.abspath(os.path.join(\"..\", \"arduino_make\"))"
   ]
  },
  {
   "cell_type": "markdown",
   "metadata": {},
   "source": [
    "## Generate Build Source Code\n",
    "\n",
    "Apply the template"
   ]
  },
  {
   "cell_type": "code",
   "execution_count": 27,
   "metadata": {},
   "outputs": [],
   "source": [
    "arduino_sketch_src = (arduino_template.render(**build_cfg))\n",
    "makefile_src = (makefile_template.render(**build_cfg))"
   ]
  },
  {
   "cell_type": "code",
   "execution_count": 28,
   "metadata": {},
   "outputs": [
    {
     "name": "stdout",
     "output_type": "stream",
     "text": [
      "\n",
      "unsigned long BAUD = 115200;\n",
      "unsigned long DELAY = 0;\n",
      "char BUILD_UUID[] = \"3a761187-4bd5-4ebc-bc97-54445a296c5c\";\n",
      "\n",
      "unsigned long arbitration_id = 0x0;\n",
      "unsigned long time_millis = 0b0;\n",
      "unsigned long timestamp = 0x0;\n",
      "\n",
      "uint8_t counter8 = 0x00;\n",
      "uint16_t counter16 = 0x0000;\n",
      "uint32_t counter32 = 0x00000000;\n",
      "\n",
      "// Arduino Setup\n",
      "void setup() {\n",
      "Serial.begin(BAUD);\n",
      "Serial.print(\"Build UUID: \");\n",
      "Serial.println(BUILD_UUID);\n",
      "\n",
      "// Start of frame\n",
      "Serial.write(0xAA);\n",
      "\n",
      "// Timestamp\n",
      "Serial.write(0x00);\n",
      "Serial.write(0x00);\n",
      "Serial.write(0x00);\n",
      "Serial.write(0x00);\n",
      "\n",
      "// DLC\n",
      "Serial.write(0x00);\n",
      "\n",
      "// Arbitration ID\n",
      "Serial.write(0x00);\n",
      "Serial.write(0x00);\n",
      "Serial.write(0x00);\n",
      "Serial.write(0x00);\n",
      "\n",
      "// End of frame\n",
      "Serial.write(0xBB);\n",
      "return; \n",
      "}\n",
      "\n",
      "// Arduino Main Loop\n",
      "void loop() {\n",
      "\n",
      "/* Begin timestamp data packet */\n",
      "time_millis = millis();\n",
      "// Start of frame\n",
      "Serial.write(0xAA);\n",
      "\n",
      "// Timestamp\n",
      "timestamp = time_millis;\n",
      "for(char shift=0;shift<32;shift+=8) {\n",
      "Serial.write((unsigned long)timestamp>>shift&0b11111111);\n",
      "}\n",
      "\n",
      "// DLC\n",
      "Serial.write(0x04);\n",
      "// Arbitration ID\n",
      "arbitration_id=1;\n",
      "for(char shift=0;shift<32;shift+=8) {\n",
      "Serial.write((unsigned long)arbitration_id>>shift&0xFF);\n",
      "}\n",
      "\n",
      "// Payload\n",
      "for(char shift=0;shift<32;shift+=8) {\n",
      "Serial.write((unsigned long)time_millis>>shift&0b11111111);\n",
      "}\n",
      "\n",
      "// End of Frame\n",
      "Serial.write(0xBB);\n",
      "/* End timestamp data packet */\n",
      "\n",
      "/* Begin sinewave data packet */\n",
      "time_millis = millis();\n",
      "// Start of frame\n",
      "Serial.write(0xAA);\n",
      "\n",
      "// Timestamp\n",
      "timestamp = time_millis;\n",
      "for(char shift=0;shift<32;shift+=8) {\n",
      "Serial.write((unsigned long)timestamp>>shift&0b11111111);\n",
      "}\n",
      "\n",
      "// DLC\n",
      "Serial.write(0x04);\n",
      "// Arbitration ID\n",
      "arbitration_id=2;\n",
      "for(char shift=0;shift<32;shift+=8) {\n",
      "Serial.write((unsigned long)arbitration_id>>shift&0xFF);\n",
      "}\n",
      "\n",
      "#include <math.h>\n",
      "\n",
      "int32_t sine_value = pow(2, 31)*(sin(1000*(float)timestamp));\n",
      "\n",
      "// Payload\n",
      "for(char shift=0;shift<32;shift+=8) {\n",
      "Serial.write(sine_value>>shift&0b11111111);\n",
      "}\n",
      "\n",
      "// End of Frame\n",
      "Serial.write(0xBB);\n",
      "/* End sinewave data packet */\n",
      "}\n"
     ]
    }
   ],
   "source": [
    "print(arduino_sketch_src)\n",
    "sketch_file = \"{}.ino\".format(build_uuid)\n",
    "with open(sketch_file, \"w\") as fid:\n",
    "    fid.write(arduino_sketch_src)"
   ]
  },
  {
   "cell_type": "markdown",
   "metadata": {},
   "source": [
    "## Formatting.\n",
    "\n",
    "Format the sketch to adhere to LLVM style guidelines."
   ]
  },
  {
   "cell_type": "code",
   "execution_count": 29,
   "metadata": {},
   "outputs": [
    {
     "data": {
      "text/plain": [
       "b''"
      ]
     },
     "execution_count": 29,
     "metadata": {},
     "output_type": "execute_result"
    }
   ],
   "source": [
    "import subprocess\n",
    "subprocess.check_output([\"clang-format-6.0\", \"-style=LLVM\", \"-i\", sketch_file])"
   ]
  },
  {
   "cell_type": "markdown",
   "metadata": {},
   "source": [
    "Cleaned source code, formated with LLVM style guidelines."
   ]
  },
  {
   "cell_type": "code",
   "execution_count": 30,
   "metadata": {},
   "outputs": [
    {
     "name": "stdout",
     "output_type": "stream",
     "text": [
      "\n",
      "unsigned long BAUD = 115200;\n",
      "unsigned long DELAY = 0;\n",
      "char BUILD_UUID[] = \"3a761187-4bd5-4ebc-bc97-54445a296c5c\";\n",
      "\n",
      "unsigned long arbitration_id = 0x0;\n",
      "unsigned long time_millis = 0b0;\n",
      "unsigned long timestamp = 0x0;\n",
      "\n",
      "uint8_t counter8 = 0x00;\n",
      "uint16_t counter16 = 0x0000;\n",
      "uint32_t counter32 = 0x00000000;\n",
      "\n",
      "// Arduino Setup\n",
      "void setup() {\n",
      "  Serial.begin(BAUD);\n",
      "  Serial.print(\"Build UUID: \");\n",
      "  Serial.println(BUILD_UUID);\n",
      "\n",
      "  // Start of frame\n",
      "  Serial.write(0xAA);\n",
      "\n",
      "  // Timestamp\n",
      "  Serial.write(0x00);\n",
      "  Serial.write(0x00);\n",
      "  Serial.write(0x00);\n",
      "  Serial.write(0x00);\n",
      "\n",
      "  // DLC\n",
      "  Serial.write(0x00);\n",
      "\n",
      "  // Arbitration ID\n",
      "  Serial.write(0x00);\n",
      "  Serial.write(0x00);\n",
      "  Serial.write(0x00);\n",
      "  Serial.write(0x00);\n",
      "\n",
      "  // End of frame\n",
      "  Serial.write(0xBB);\n",
      "  return;\n",
      "}\n",
      "\n",
      "// Arduino Main Loop\n",
      "void loop() {\n",
      "\n",
      "  /* Begin timestamp data packet */\n",
      "  time_millis = millis();\n",
      "  // Start of frame\n",
      "  Serial.write(0xAA);\n",
      "\n",
      "  // Timestamp\n",
      "  timestamp = time_millis;\n",
      "  for (char shift = 0; shift < 32; shift += 8) {\n",
      "    Serial.write((unsigned long)timestamp >> shift & 0b11111111);\n",
      "  }\n",
      "\n",
      "  // DLC\n",
      "  Serial.write(0x04);\n",
      "  // Arbitration ID\n",
      "  arbitration_id = 1;\n",
      "  for (char shift = 0; shift < 32; shift += 8) {\n",
      "    Serial.write((unsigned long)arbitration_id >> shift & 0xFF);\n",
      "  }\n",
      "\n",
      "  // Payload\n",
      "  for (char shift = 0; shift < 32; shift += 8) {\n",
      "    Serial.write((unsigned long)time_millis >> shift & 0b11111111);\n",
      "  }\n",
      "\n",
      "  // End of Frame\n",
      "  Serial.write(0xBB);\n",
      "  /* End timestamp data packet */\n",
      "\n",
      "  /* Begin sinewave data packet */\n",
      "  time_millis = millis();\n",
      "  // Start of frame\n",
      "  Serial.write(0xAA);\n",
      "\n",
      "  // Timestamp\n",
      "  timestamp = time_millis;\n",
      "  for (char shift = 0; shift < 32; shift += 8) {\n",
      "    Serial.write((unsigned long)timestamp >> shift & 0b11111111);\n",
      "  }\n",
      "\n",
      "  // DLC\n",
      "  Serial.write(0x04);\n",
      "  // Arbitration ID\n",
      "  arbitration_id = 2;\n",
      "  for (char shift = 0; shift < 32; shift += 8) {\n",
      "    Serial.write((unsigned long)arbitration_id >> shift & 0xFF);\n",
      "  }\n",
      "\n",
      "#include <math.h>\n",
      "\n",
      "  int32_t sine_value = pow(2, 31) * (sin(1000 * (float)timestamp));\n",
      "\n",
      "  // Payload\n",
      "  for (char shift = 0; shift < 32; shift += 8) {\n",
      "    Serial.write(sine_value >> shift & 0b11111111);\n",
      "  }\n",
      "\n",
      "  // End of Frame\n",
      "  Serial.write(0xBB);\n",
      "  /* End sinewave data packet */\n",
      "}\n"
     ]
    }
   ],
   "source": [
    "with open(sketch_file, \"rb\") as fid:\n",
    "    arduino_sketch_formatted = fid.read()    \n",
    "print(arduino_sketch_formatted.decode(\"UTF-8\"))"
   ]
  },
  {
   "cell_type": "markdown",
   "metadata": {},
   "source": [
    "## Traceability"
   ]
  },
  {
   "cell_type": "markdown",
   "metadata": {},
   "source": [
    "Checksum of the formatted source code, before compilation. Add to blockchain for an immutable proof of existence when it was generated, for tracability."
   ]
  },
  {
   "cell_type": "code",
   "execution_count": 369,
   "metadata": {},
   "outputs": [
    {
     "name": "stdout",
     "output_type": "stream",
     "text": [
      "sha3_256: 0048d67bb1b742213b0bfb9ea3aa6953e29eed77c9ac9d02e3cd5f3ebedc5409\n",
      "blake2b: 288da238367b3d93c569584814c3d163cf8568e0b662d27f3b766e609bf21fe3189c42a5bfb4051063945500e695d70b5cc03dc55597d51463a8644972507af0\n",
      "md5: a3738b682a7bcfdf43ba45c1e5a8e7a7\n",
      "sha1: 229078b8a3cce4089f2eed9e692d8f983f497f31\n",
      "sha224: 607f0def5d97ed076cfd6f28615cb07a8309db6496ef970d871331d6\n",
      "sha3_224: 222a868dac940c88732d5535a5fda5606033d15185a4e5cb97971d16\n",
      "sha3_512: b2d651266241df6165734c10a806cc316102c51f42e15053b23c7304bce5b2dd12695d3508291da98077acc6536e6fe12e5bf1eb059ddd993a705d4a4a3e9bfa\n",
      "sha256: 47c60e4e52e90e5278c76552351c96ff54a62cac8e0a9d1ea2793448667bf7de\n",
      "blake2s: 49d72c565a59e630e77bd97d5be2c3305866bcd69469d3985553cb69dc0764f8\n",
      "sha3_384: e258b49991161b699f6e2cf15cf3f8a81e8730a03c083e2f9622469e89d73e935c5c3c535df2d3b008b26f96df031b22\n",
      "sha384: 19a28b6eace44b9bc0cae1eaf994f6d8360ce1445e8b1db7d67c4bf0bdaef4eaf94c1d77d53859d1b302cf101c6de308\n",
      "sha512: 550ae729430d4600f9203901f5d0d3b7bb1bfcd777af4fb2f88266a18c6e3a3baf418cbbb524b676ee55a449e01356dce6b12ed1a3aeee067799c91d262b1591\n"
     ]
    }
   ],
   "source": [
    "import hashlib\n",
    "for algo in hashlib.algorithms_guaranteed:\n",
    "    sketch_hash = getattr(hashlib, algo)(arduino_sketch_formatted)\n",
    "    try:\n",
    "        print(\"{}: {}\".format(algo, sketch_hash.hexdigest()))\n",
    "    except:\n",
    "        pass"
   ]
  },
  {
   "cell_type": "code",
   "execution_count": 370,
   "metadata": {},
   "outputs": [
    {
     "name": "stdout",
     "output_type": "stream",
     "text": [
      "2018-05-17T02:18:31.781218+00:00\n"
     ]
    }
   ],
   "source": [
    "checkpoint()"
   ]
  },
  {
   "cell_type": "markdown",
   "metadata": {},
   "source": [
    "# Build Process\n",
    "\n",
    "## Build & Upload Flash File"
   ]
  },
  {
   "cell_type": "code",
   "execution_count": 371,
   "metadata": {},
   "outputs": [],
   "source": [
    "import serial\n",
    "import time"
   ]
  },
  {
   "cell_type": "code",
   "execution_count": 372,
   "metadata": {},
   "outputs": [
    {
     "name": "stdout",
     "output_type": "stream",
     "text": [
      "-------------------------\n",
      "Arduino.mk Configuration:\n",
      "- [AUTODETECTED]       CURRENT_OS = LINUX \n",
      "- [AUTODETECTED]       ARDUINO_DIR = /usr/share/arduino \n",
      "- [COMPUTED]           ARDMK_DIR = /projects/arduino_IO/arduino_make (relative to Common.mk)\n",
      "- [AUTODETECTED]       ARDUINO_VERSION = 105 \n",
      "- [DEFAULT]            ARCHITECTURE =  \n",
      "- [DEFAULT]            ARDMK_VENDOR = arduino \n",
      "- [AUTODETECTED]       ARDUINO_PREFERENCES_PATH = /mnt/ubuntu1604_2/home/jed/.arduino/preferences.txt \n",
      "- [AUTODETECTED]       ARDUINO_SKETCHBOOK = /mnt/ubuntu1604_2/home/jed/sketchbook (from arduino preferences file)\n",
      "- [BUNDLED]            AVR_TOOLS_DIR = /usr/share/arduino/hardware/tools/avr (in Arduino distribution)\n",
      "- [COMPUTED]           ARDUINO_LIB_PATH = /usr/share/arduino/libraries (from ARDUINO_DIR)\n",
      "- [COMPUTED]           ARDUINO_VAR_PATH = /usr/share/arduino/hardware/arduino//variants (from ARDUINO_DIR)\n",
      "- [COMPUTED]           BOARDS_TXT = /usr/share/arduino/hardware/arduino//boards.txt (from ARDUINO_DIR)\n",
      "- [DEFAULT]            USER_LIB_PATH = /mnt/ubuntu1604_2/home/jed/sketchbook/libraries (in user sketchbook)\n",
      "- [DEFAULT]            PRE_BUILD_HOOK = pre-build-hook.sh \n",
      "- [USER]               BOARD_TAG = nano328 \n",
      "- [COMPUTED]           CORE = arduino (from build.core)\n",
      "- [COMPUTED]           VARIANT = eightanaloginputs (from build.variant)\n",
      "- [COMPUTED]           OBJDIR = build-nano328 (from BOARD_TAG)\n",
      "- [COMPUTED]           ARDUINO_CORE_PATH = /usr/share/arduino/hardware/arduino//cores/arduino (from ARDUINO_DIR, BOARD_TAG and boards.txt)\n",
      "- [ASSUMED]            MONITOR_BAUDRATE = 9600 \n",
      "- [USER]               OPTIMIZATION_LEVEL = 0 \n",
      "- [DEFAULT]            MCU_FLAG_NAME = mmcu \n",
      "- [DEFAULT]            CFLAGS_STD = -std=gnu11 -flto -fno-fat-lto-objects \n",
      "- [DEFAULT]            CXXFLAGS_STD = -std=gnu++11 -fno-threadsafe-statics -flto \n",
      "- [AUTODETECTED]       DEVICE_PATH = /dev/ttyUSB2 \n",
      "- [DEFAULT]            FORCE_MONITOR_PORT =  \n",
      "- [AUTODETECTED]       Size utility: AVR-aware for enhanced output\n",
      "- [COMPUTED]           BOOTLOADER_PARENT = /usr/share/arduino/hardware/arduino//bootloaders (from ARDUINO_DIR)\n",
      "- [COMPUTED]           ARDMK_VERSION = 1.5 \n",
      "- [COMPUTED]           CC_VERSION = 5.4.0 (avr-gcc)\n",
      "-------------------------\n",
      "mkdir -p build-nano328\n",
      "/usr/share/arduino/hardware/tools/avr/bin/avr-g++ -x c++ -include Arduino.h -MMD -c -mmcu=atmega328p -DF_CPU=16000000L -DARDUINO=105  -D__PROG_TYPES_COMPAT__ -I/usr/share/arduino/hardware/arduino//cores/arduino -I/usr/share/arduino/hardware/arduino//variants/eightanaloginputs    -Wall -ffunction-sections -fdata-sections -O0 -fpermissive -fno-exceptions -std=gnu++11 -fno-threadsafe-statics -flto e67613ed-a01f-4a80-9200-ea2802b6db25.ino -o build-nano328/e67613ed-a01f-4a80-9200-ea2802b6db25.ino.o\n",
      "/usr/share/arduino/hardware/tools/avr/bin/avr-gcc -mmcu=atmega328p -Wl,--gc-sections -O0 -flto -fuse-linker-plugin -o build-nano328/SerialCAN.elf build-nano328/e67613ed-a01f-4a80-9200-ea2802b6db25.ino.o build-nano328/libcore.a   -lc -lm \n",
      "/usr/share/arduino/hardware/tools/avr/bin/avr-objcopy -O ihex -R .eeprom build-nano328/SerialCAN.elf build-nano328/SerialCAN.hex\n",
      "\n",
      "/usr/share/arduino/hardware/tools/avr/bin/avr-size --mcu=atmega328p -C --format=avr build-nano328/SerialCAN.elf\n",
      "AVR Memory Usage\n",
      "----------------\n",
      "Device: atmega328p\n",
      "\n",
      "Program:   21366 bytes (65.2% Full)\n",
      "(.text + .data + .bootloader)\n",
      "\n",
      "Data:        397 bytes (19.4% Full)\n",
      "(.data + .bss + .noinit)\n",
      "\n",
      "\n",
      "make reset\n",
      "make[1]: Entering directory '/projects/arduino_IO/SerialCAN'\n",
      "/projects/arduino_IO/arduino_make/bin/ard-reset-arduino  /dev/ttyUSB2\n",
      "make[1]: Leaving directory '/projects/arduino_IO/SerialCAN'\n",
      "make do_upload\n",
      "make[1]: Entering directory '/projects/arduino_IO/SerialCAN'\n",
      "/usr/share/arduino/hardware/tools/avr/../avrdude -q -V -p atmega328p -C /usr/share/arduino/hardware/tools/avr/../avrdude.conf -D -c arduino -b 57600 -P /dev/ttyUSB2 \\\n",
      "\t\t-U flash:w:build-nano328/SerialCAN.hex:i\n",
      "make[1]: Leaving directory '/projects/arduino_IO/SerialCAN'\n",
      "\n"
     ]
    }
   ],
   "source": [
    "try:\n",
    "    stdout = subprocess.check_output([\"make\", \"upload\"]).decode()\n",
    "    print(stdout)\n",
    "except subprocess.CalledProcessError as err:\n",
    "    print(\"Build Failed:\")\n",
    "    print(err)\n",
    "except:\n",
    "    raise"
   ]
  },
  {
   "cell_type": "code",
   "execution_count": 374,
   "metadata": {},
   "outputs": [
    {
     "name": "stdout",
     "output_type": "stream",
     "text": [
      "2018-05-17T02:28:09.047157+00:00\n"
     ]
    }
   ],
   "source": [
    "checkpoint()"
   ]
  },
  {
   "cell_type": "markdown",
   "metadata": {},
   "source": [
    "## Build Process Tests\n",
    "\n",
    "Make sure that all serial ports from the build and upload process are the same."
   ]
  },
  {
   "cell_type": "code",
   "execution_count": 375,
   "metadata": {},
   "outputs": [
    {
     "data": {
      "text/plain": [
       "['/dev/ttyUSB2', '/dev/ttyUSB2', '/dev/ttyUSB2']"
      ]
     },
     "execution_count": 375,
     "metadata": {},
     "output_type": "execute_result"
    }
   ],
   "source": [
    "serial_ports = re.compile(\"(/dev/ttyUSB[\\d]+)\").findall(stdout)\n",
    "serial_ports"
   ]
  },
  {
   "cell_type": "code",
   "execution_count": 344,
   "metadata": {},
   "outputs": [],
   "source": [
    "for i in range(len(serial_ports)-1):\n",
    "    assert (serial_ports[i] == serial_ports[i+1])"
   ]
  },
  {
   "cell_type": "code",
   "execution_count": 345,
   "metadata": {},
   "outputs": [
    {
     "name": "stdout",
     "output_type": "stream",
     "text": [
      "2018-05-17T02:15:04.733424+00:00\n"
     ]
    }
   ],
   "source": [
    "checkpoint()"
   ]
  },
  {
   "cell_type": "markdown",
   "metadata": {},
   "source": [
    "# Flashfile Testing \n",
    "\n",
    "V&V on the flashfile that was just built."
   ]
  },
  {
   "cell_type": "code",
   "execution_count": 216,
   "metadata": {},
   "outputs": [],
   "source": [
    "import serial\n",
    "import time"
   ]
  },
  {
   "cell_type": "code",
   "execution_count": 217,
   "metadata": {},
   "outputs": [],
   "source": [
    "ser = serial.Serial(\n",
    "    port=serial_ports[0], baudrate=sketch_cfg[\"baud\"],\n",
    "    bytesize=serial.EIGHTBITS,\n",
    "    parity=serial.PARITY_NONE,\n",
    "    stopbits=serial.STOPBITS_ONE,\n",
    "    timeout=10,\n",
    "    xonxoff=0,\n",
    "    rtscts=0\n",
    ")"
   ]
  },
  {
   "cell_type": "code",
   "execution_count": 218,
   "metadata": {},
   "outputs": [
    {
     "name": "stdout",
     "output_type": "stream",
     "text": [
      "2018-05-17T01:47:19.291341+00:00\n"
     ]
    }
   ],
   "source": [
    "checkpoint()"
   ]
  },
  {
   "cell_type": "markdown",
   "metadata": {},
   "source": [
    "### Build & Flash UUID verification\n",
    "\n",
    "Assert that the UUID generated from the build script is the same one that is being reported back from the HIL flash file."
   ]
  },
  {
   "cell_type": "code",
   "execution_count": 219,
   "metadata": {},
   "outputs": [
    {
     "data": {
      "text/plain": [
       "b'Build UUID: e67613ed-a01f-4a80-9200-ea2802b6db25\\r\\n'"
      ]
     },
     "execution_count": 219,
     "metadata": {},
     "output_type": "execute_result"
    }
   ],
   "source": [
    "ser.setDTR(False) # Drop DTR\n",
    "time.sleep(1)   # Read somewhere that 22ms is what the UI does.\n",
    "ser.flushInput()\n",
    "ser.flushOutput()\n",
    "ser.flush()\n",
    "ser.setDTR(True)  # UP the DTR back\n",
    "header = ser.readline()\n",
    "header"
   ]
  },
  {
   "cell_type": "code",
   "execution_count": 220,
   "metadata": {},
   "outputs": [],
   "source": [
    "header_uuid = header.split(b\"UUID:\")[1].strip().decode(\"UTF-8\")"
   ]
  },
  {
   "cell_type": "code",
   "execution_count": 221,
   "metadata": {},
   "outputs": [
    {
     "data": {
      "text/plain": [
       "'e67613ed-a01f-4a80-9200-ea2802b6db25'"
      ]
     },
     "execution_count": 221,
     "metadata": {},
     "output_type": "execute_result"
    }
   ],
   "source": [
    "build_uuid"
   ]
  },
  {
   "cell_type": "code",
   "execution_count": 222,
   "metadata": {},
   "outputs": [
    {
     "data": {
      "text/plain": [
       "'e67613ed-a01f-4a80-9200-ea2802b6db25'"
      ]
     },
     "execution_count": 222,
     "metadata": {},
     "output_type": "execute_result"
    }
   ],
   "source": [
    "header_uuid"
   ]
  },
  {
   "cell_type": "code",
   "execution_count": 223,
   "metadata": {},
   "outputs": [],
   "source": [
    "assert build_uuid == header_uuid"
   ]
  },
  {
   "cell_type": "code",
   "execution_count": 224,
   "metadata": {},
   "outputs": [
    {
     "name": "stdout",
     "output_type": "stream",
     "text": [
      "2018-05-17T01:47:21.797830+00:00\n"
     ]
    }
   ],
   "source": [
    "checkpoint()"
   ]
  },
  {
   "cell_type": "markdown",
   "metadata": {},
   "source": [
    "## Packet validation.\n",
    "\n",
    "Test that the CAN over Serial packets are being sent correctly.\n",
    "\n",
    "Check that the configuration values also match."
   ]
  },
  {
   "cell_type": "code",
   "execution_count": 225,
   "metadata": {},
   "outputs": [
    {
     "name": "stdout",
     "output_type": "stream",
     "text": [
      "b'\\x00\\x00\\x00\\x00\\x00\\x00\\x00\\x00\\x00\\xbb'\n",
      "b'\\xaa\\x01\\x00\\x00\\x00\\x04\\x01\\x00\\x00\\x00\\x01\\x00\\x00\\x00\\xbb'\n",
      "b'\\xaa\\x01\\x00\\x00\\x00\\x04\\x02\\x00\\x00\\x00\\x00R\\xb5k\\xbb'\n",
      "b'\\xaa\\x02\\x00\\x00\\x00\\x04\\x01\\x00\\x00\\x00\\x02\\x00\\x00\\x00\\xbb'\n",
      "b'\\xaa\\x03\\x00\\x00\\x00\\x04\\x02\\x00\\x00\\x00`8\\x10\\x12\\xbb'\n",
      "b'\\xaa\\x04\\x00\\x00\\x00\\x04\\x01\\x00\\x00\\x00\\x04\\x00\\x00\\x00\\xbb'\n",
      "b'\\xaa\\x06\\x00\\x00\\x00\\x04\\x02\\x00\\x00\\x00\\x00\\x1d<\\xdc\\xbb'\n",
      "b'\\xaa\\x07\\x00\\x00\\x00\\x04\\x01\\x00\\x00\\x00\\x07\\x00\\x00\\x00\\xbb'\n",
      "b'\\xaa\\x08\\x00\\x00\\x00\\x04\\x02\\x00\\x00\\x00\\x00J\\xa3~\\xbb'\n",
      "b'\\xaa\\t\\x00\\x00\\x00\\x04\\x01\\x00\\x00\\x00\\t\\x00\\x00\\x00\\xbb'\n"
     ]
    }
   ],
   "source": [
    "ser.read_until(b\"\\xAA\")\n",
    "for x in range(10):\n",
    "    packet = ser.read_until(b\"\\xBB\")\n",
    "    print(packet)"
   ]
  },
  {
   "cell_type": "code",
   "execution_count": 226,
   "metadata": {},
   "outputs": [
    {
     "data": {
      "text/plain": [
       "b'\\xaa\\x0b\\x00\\x00\\x00\\x04\\x02\\x00\\x00\\x00\\x80R\\x00\\x80\\xbb'"
      ]
     },
     "execution_count": 226,
     "metadata": {},
     "output_type": "execute_result"
    }
   ],
   "source": [
    "packet = ser.read_until(b\"\\xBB\")\n",
    "packet"
   ]
  },
  {
   "cell_type": "code",
   "execution_count": 227,
   "metadata": {},
   "outputs": [
    {
     "data": {
      "text/plain": [
       "b'\\xaa\\x0c\\x00\\x00\\x00\\x04\\x01\\x00\\x00\\x00\\x0c\\x00\\x00\\x00\\xbb'"
      ]
     },
     "execution_count": 227,
     "metadata": {},
     "output_type": "execute_result"
    }
   ],
   "source": [
    "packet = ser.read_until(b\"\\xBB\")\n",
    "packet"
   ]
  },
  {
   "cell_type": "code",
   "execution_count": 228,
   "metadata": {},
   "outputs": [
    {
     "data": {
      "text/plain": [
       "b'\\x0c\\x00\\x00\\x00'"
      ]
     },
     "execution_count": 228,
     "metadata": {},
     "output_type": "execute_result"
    }
   ],
   "source": [
    "packet[1:5]"
   ]
  },
  {
   "cell_type": "code",
   "execution_count": 229,
   "metadata": {},
   "outputs": [
    {
     "data": {
      "text/plain": [
       "b'\\x0c\\x00\\x00\\x00'"
      ]
     },
     "execution_count": 229,
     "metadata": {},
     "output_type": "execute_result"
    }
   ],
   "source": [
    "timestamp_raw = packet[1:5]\n",
    "timestamp_raw"
   ]
  },
  {
   "cell_type": "code",
   "execution_count": 230,
   "metadata": {},
   "outputs": [
    {
     "data": {
      "text/plain": [
       "12"
      ]
     },
     "execution_count": 230,
     "metadata": {},
     "output_type": "execute_result"
    }
   ],
   "source": [
    "int.from_bytes(timestamp_raw, 'little')"
   ]
  },
  {
   "cell_type": "code",
   "execution_count": 231,
   "metadata": {},
   "outputs": [
    {
     "data": {
      "text/plain": [
       "201326592"
      ]
     },
     "execution_count": 231,
     "metadata": {},
     "output_type": "execute_result"
    }
   ],
   "source": [
    "int.from_bytes(timestamp_raw, 'big')"
   ]
  },
  {
   "cell_type": "code",
   "execution_count": 232,
   "metadata": {},
   "outputs": [
    {
     "data": {
      "text/plain": [
       "12"
      ]
     },
     "execution_count": 232,
     "metadata": {},
     "output_type": "execute_result"
    }
   ],
   "source": [
    "timestamp = int.from_bytes(timestamp_raw, 'little')\n",
    "timestamp"
   ]
  },
  {
   "cell_type": "code",
   "execution_count": 233,
   "metadata": {},
   "outputs": [
    {
     "data": {
      "text/plain": [
       "170"
      ]
     },
     "execution_count": 233,
     "metadata": {},
     "output_type": "execute_result"
    }
   ],
   "source": [
    "sof = packet[0]\n",
    "sof"
   ]
  },
  {
   "cell_type": "code",
   "execution_count": 234,
   "metadata": {},
   "outputs": [
    {
     "data": {
      "text/plain": [
       "170"
      ]
     },
     "execution_count": 234,
     "metadata": {},
     "output_type": "execute_result"
    }
   ],
   "source": [
    "int.from_bytes(b'\\xAA', 'little')"
   ]
  },
  {
   "cell_type": "code",
   "execution_count": 235,
   "metadata": {},
   "outputs": [
    {
     "data": {
      "text/plain": [
       "170"
      ]
     },
     "execution_count": 235,
     "metadata": {},
     "output_type": "execute_result"
    }
   ],
   "source": [
    "int.from_bytes(b'\\xAA', 'big')"
   ]
  },
  {
   "cell_type": "code",
   "execution_count": 236,
   "metadata": {},
   "outputs": [],
   "source": [
    "assert sof == int.from_bytes(b'\\xAA', 'little')"
   ]
  },
  {
   "cell_type": "code",
   "execution_count": 237,
   "metadata": {},
   "outputs": [
    {
     "data": {
      "text/plain": [
       "4"
      ]
     },
     "execution_count": 237,
     "metadata": {},
     "output_type": "execute_result"
    }
   ],
   "source": [
    "dlc = packet[5]\n",
    "dlc"
   ]
  },
  {
   "cell_type": "code",
   "execution_count": 238,
   "metadata": {},
   "outputs": [
    {
     "data": {
      "text/plain": [
       "b'\\x01\\x00\\x00\\x00'"
      ]
     },
     "execution_count": 238,
     "metadata": {},
     "output_type": "execute_result"
    }
   ],
   "source": [
    "arbitration_id_raw = packet[6:10]\n",
    "arbitration_id_raw"
   ]
  },
  {
   "cell_type": "code",
   "execution_count": 239,
   "metadata": {},
   "outputs": [
    {
     "data": {
      "text/plain": [
       "1"
      ]
     },
     "execution_count": 239,
     "metadata": {},
     "output_type": "execute_result"
    }
   ],
   "source": [
    "int.from_bytes(arbitration_id_raw, 'little')"
   ]
  },
  {
   "cell_type": "code",
   "execution_count": 240,
   "metadata": {},
   "outputs": [
    {
     "data": {
      "text/plain": [
       "16777216"
      ]
     },
     "execution_count": 240,
     "metadata": {},
     "output_type": "execute_result"
    }
   ],
   "source": [
    "int.from_bytes(arbitration_id_raw, 'big')"
   ]
  },
  {
   "cell_type": "code",
   "execution_count": 241,
   "metadata": {},
   "outputs": [
    {
     "data": {
      "text/plain": [
       "0"
      ]
     },
     "execution_count": 241,
     "metadata": {},
     "output_type": "execute_result"
    }
   ],
   "source": [
    "data = packet[11]\n",
    "data "
   ]
  },
  {
   "cell_type": "code",
   "execution_count": 242,
   "metadata": {},
   "outputs": [
    {
     "data": {
      "text/plain": [
       "{'baud': 115200,\n",
       " 'delay': 10,\n",
       " 'build_uuid': 'e67613ed-a01f-4a80-9200-ea2802b6db25'}"
      ]
     },
     "execution_count": 242,
     "metadata": {},
     "output_type": "execute_result"
    }
   ],
   "source": [
    "sketch_cfg"
   ]
  },
  {
   "cell_type": "code",
   "execution_count": 243,
   "metadata": {},
   "outputs": [
    {
     "data": {
      "text/plain": [
       "'e67613ed-a01f-4a80-9200-ea2802b6db25'"
      ]
     },
     "execution_count": 243,
     "metadata": {},
     "output_type": "execute_result"
    }
   ],
   "source": [
    "header_uuid"
   ]
  },
  {
   "cell_type": "code",
   "execution_count": 244,
   "metadata": {},
   "outputs": [
    {
     "data": {
      "text/plain": [
       "'e67613ed-a01f-4a80-9200-ea2802b6db25'"
      ]
     },
     "execution_count": 244,
     "metadata": {},
     "output_type": "execute_result"
    }
   ],
   "source": [
    "sketch_cfg[\"build_uuid\"]"
   ]
  },
  {
   "cell_type": "code",
   "execution_count": 245,
   "metadata": {},
   "outputs": [],
   "source": [
    "assert str(header_uuid) == header_uuid"
   ]
  },
  {
   "cell_type": "code",
   "execution_count": 246,
   "metadata": {},
   "outputs": [],
   "source": [
    "assert str(sketch_cfg[\"build_uuid\"]) == sketch_cfg[\"build_uuid\"]"
   ]
  },
  {
   "cell_type": "code",
   "execution_count": 247,
   "metadata": {},
   "outputs": [],
   "source": [
    "assert header_uuid == sketch_cfg[\"build_uuid\"]"
   ]
  },
  {
   "cell_type": "code",
   "execution_count": 248,
   "metadata": {},
   "outputs": [],
   "source": [
    "ser.close()"
   ]
  },
  {
   "cell_type": "markdown",
   "metadata": {},
   "source": [
    "# python-can testing\n",
    "\n",
    "Validate and verify that ``python-can`` is decoding the packets correctly."
   ]
  },
  {
   "cell_type": "code",
   "execution_count": 376,
   "metadata": {},
   "outputs": [
    {
     "data": {
      "text/plain": [
       "'2.1.0'"
      ]
     },
     "execution_count": 376,
     "metadata": {},
     "output_type": "execute_result"
    }
   ],
   "source": [
    "import can\n",
    "can.__version__"
   ]
  },
  {
   "cell_type": "code",
   "execution_count": 380,
   "metadata": {},
   "outputs": [
    {
     "data": {
      "text/plain": [
       "b'\\x00\\x04\\x02\\x00\\x00\\x00\\x80\\x92\\xbc@\\xbb'"
      ]
     },
     "execution_count": 380,
     "metadata": {},
     "output_type": "execute_result"
    }
   ],
   "source": [
    "bus_cfg = dict()\n",
    "bus_cfg[\"bustype\"] = \"serial\"\n",
    "bus_cfg[\"channel\"]=serial_ports[0]\n",
    "bus_cfg[\"bitrate\"]=115200\n",
    "\n",
    "bus = can.interface.Bus(**bus_cfg)   \n",
    "bus.ser.read_until(b\"\\xBB\")"
   ]
  },
  {
   "cell_type": "code",
   "execution_count": 381,
   "metadata": {},
   "outputs": [
    {
     "data": {
      "text/plain": [
       "can.Message(timestamp=1.572, is_remote_frame=False, extended_id=True, is_error_frame=False, arbitration_id=0x1, dlc=4, data=[0x24, 0x6, 0x0, 0x0])"
      ]
     },
     "execution_count": 381,
     "metadata": {},
     "output_type": "execute_result"
    }
   ],
   "source": [
    "packet = bus.recv()\n",
    "packet"
   ]
  },
  {
   "cell_type": "code",
   "execution_count": 382,
   "metadata": {},
   "outputs": [
    {
     "data": {
      "text/plain": [
       "1.572"
      ]
     },
     "execution_count": 382,
     "metadata": {},
     "output_type": "execute_result"
    }
   ],
   "source": [
    "packet.timestamp"
   ]
  },
  {
   "cell_type": "code",
   "execution_count": 383,
   "metadata": {},
   "outputs": [
    {
     "data": {
      "text/plain": [
       "1"
      ]
     },
     "execution_count": 383,
     "metadata": {},
     "output_type": "execute_result"
    }
   ],
   "source": [
    "packet.arbitration_id"
   ]
  },
  {
   "cell_type": "code",
   "execution_count": 384,
   "metadata": {},
   "outputs": [
    {
     "data": {
      "text/plain": [
       "4"
      ]
     },
     "execution_count": 384,
     "metadata": {},
     "output_type": "execute_result"
    }
   ],
   "source": [
    "packet.dlc"
   ]
  },
  {
   "cell_type": "code",
   "execution_count": 385,
   "metadata": {},
   "outputs": [
    {
     "data": {
      "text/plain": [
       "bytearray(b'$\\x06\\x00\\x00')"
      ]
     },
     "execution_count": 385,
     "metadata": {},
     "output_type": "execute_result"
    }
   ],
   "source": [
    "packet.data"
   ]
  },
  {
   "cell_type": "code",
   "execution_count": 386,
   "metadata": {},
   "outputs": [
    {
     "data": {
      "text/plain": [
       "1572"
      ]
     },
     "execution_count": 386,
     "metadata": {},
     "output_type": "execute_result"
    }
   ],
   "source": [
    "int.from_bytes(packet.data, 'little')"
   ]
  },
  {
   "cell_type": "code",
   "execution_count": 387,
   "metadata": {},
   "outputs": [
    {
     "data": {
      "text/plain": [
       "604372992"
      ]
     },
     "execution_count": 387,
     "metadata": {},
     "output_type": "execute_result"
    }
   ],
   "source": [
    "int.from_bytes(packet.data, 'big')"
   ]
  },
  {
   "cell_type": "code",
   "execution_count": 388,
   "metadata": {},
   "outputs": [
    {
     "data": {
      "text/plain": [
       "1.572"
      ]
     },
     "execution_count": 388,
     "metadata": {},
     "output_type": "execute_result"
    }
   ],
   "source": [
    "packet.timestamp"
   ]
  },
  {
   "cell_type": "code",
   "execution_count": 389,
   "metadata": {},
   "outputs": [
    {
     "data": {
      "text/plain": [
       "can.Message(timestamp=1.572, is_remote_frame=False, extended_id=True, is_error_frame=False, arbitration_id=0x1, dlc=4, data=[0x24, 0x6, 0x0, 0x0])"
      ]
     },
     "execution_count": 389,
     "metadata": {},
     "output_type": "execute_result"
    }
   ],
   "source": [
    "packet"
   ]
  },
  {
   "cell_type": "code",
   "execution_count": 390,
   "metadata": {},
   "outputs": [],
   "source": [
    "packets = list()\n",
    "time_packets = list()\n",
    "while len(packets)<5000:\n",
    "    packet = bus.recv()\n",
    "    \n",
    "    if packet is None:\n",
    "        time.sleep(0.01)\n",
    "        continue\n",
    "    if packet.arbitration_id == 1:\n",
    "        time_packets.append(packet)\n",
    "    if packet.arbitration_id == 2:\n",
    "        packets.append(packet)"
   ]
  },
  {
   "cell_type": "code",
   "execution_count": 391,
   "metadata": {},
   "outputs": [],
   "source": [
    "class Data(object):\n",
    "    def __init__(self, ):\n",
    "        \n",
    "        pass\n",
    "data = Data()"
   ]
  },
  {
   "cell_type": "code",
   "execution_count": 395,
   "metadata": {},
   "outputs": [
    {
     "data": {
      "text/plain": [
       "[1.574, 1.577, 1.58, 1.583, 1.585, 1.588, 1.59, 1.593, 1.595, 1.598]"
      ]
     },
     "execution_count": 395,
     "metadata": {},
     "output_type": "execute_result"
    }
   ],
   "source": [
    "data.time = [packet.timestamp for packet in time_packets]\n",
    "data.time[:10]"
   ]
  },
  {
   "cell_type": "code",
   "execution_count": 396,
   "metadata": {},
   "outputs": [
    {
     "data": {
      "text/plain": [
       "[1574, 1577, 1580, 1583, 1585, 1588, 1590, 1593, 1595, 1598]"
      ]
     },
     "execution_count": 396,
     "metadata": {},
     "output_type": "execute_result"
    }
   ],
   "source": [
    "data.values = [int.from_bytes(packet.data, 'little', signed=True) for packet in time_packets]\n",
    "data.values[:10]"
   ]
  },
  {
   "cell_type": "markdown",
   "metadata": {},
   "source": [
    "## Visual Test\n",
    "\n",
    "Plot of data.\n",
    "\n",
    "Data is a sine wave."
   ]
  },
  {
   "cell_type": "code",
   "execution_count": 399,
   "metadata": {},
   "outputs": [
    {
     "data": {
      "text/plain": [
       "[<matplotlib.lines.Line2D at 0x7faac4cbc630>]"
      ]
     },
     "execution_count": 399,
     "metadata": {},
     "output_type": "execute_result"
    },
    {
     "data": {
      "image/png": "[encoded data removed]",
      "text/plain": [
       "<Figure size 432x288 with 1 Axes>"
      ]
     },
     "metadata": {},
     "output_type": "display_data"
    }
   ],
   "source": [
    "import matplotlib.pyplot as plt\n",
    "plt.xkcd()\n",
    "fig = plt.figure()\n",
    "ax = fig.add_subplot(1, 1, 1)\n",
    "ax.spines['right'].set_color('none')\n",
    "ax.spines['top'].set_color('none')\n",
    "plt.xticks([])\n",
    "plt.yticks([])\n",
    "plt.plot(data.time, data.values)"
   ]
  },
  {
   "cell_type": "markdown",
   "metadata": {},
   "source": [
    "# Appendices"
   ]
  },
  {
   "cell_type": "markdown",
   "metadata": {},
   "source": [
    "## Python Module Versions"
   ]
  },
  {
   "cell_type": "code",
   "execution_count": 198,
   "metadata": {},
   "outputs": [
    {
     "name": "stdout",
     "output_type": "stream",
     "text": [
      "backcall==0.1.0\r\n",
      "bleach==2.1.3\r\n",
      "cycler==0.10.0\r\n",
      "decorator==4.3.0\r\n",
      "entrypoints==0.2.3\r\n",
      "html5lib==1.0.1\r\n",
      "ipykernel==4.8.2\r\n",
      "ipython==6.4.0\r\n",
      "ipython-genutils==0.2.0\r\n",
      "ipywidgets==7.2.1\r\n",
      "jedi==0.12.0\r\n",
      "Jinja2==2.10\r\n",
      "jsonschema==2.6.0\r\n",
      "jupyter==1.0.0\r\n",
      "jupyter-client==5.2.3\r\n",
      "jupyter-console==5.2.0\r\n",
      "jupyter-core==4.4.0\r\n",
      "kiwisolver==1.0.1\r\n",
      "MarkupSafe==1.0\r\n",
      "matplotlib==2.2.2\r\n",
      "mistune==0.8.3\r\n",
      "nbconvert==5.3.1\r\n",
      "nbformat==4.4.0\r\n",
      "notebook==5.5.0\r\n",
      "numpy==1.14.3\r\n",
      "pandas==0.23.0\r\n",
      "pandocfilters==1.4.2\r\n",
      "parso==0.2.0\r\n",
      "pexpect==4.5.0\r\n",
      "pickleshare==0.7.4\r\n",
      "pkg-resources==0.0.0\r\n",
      "prompt-toolkit==1.0.15\r\n",
      "ptyprocess==0.5.2\r\n",
      "Pygments==2.2.0\r\n",
      "pyparsing==2.2.0\r\n",
      "pyserial==3.4\r\n",
      "python-can==2.1.0\r\n",
      "python-dateutil==2.7.3\r\n",
      "pytz==2018.4\r\n",
      "pyzmq==17.0.0\r\n",
      "qtconsole==4.3.1\r\n",
      "scipy==1.1.0\r\n",
      "seaborn==0.8.1\r\n",
      "Send2Trash==1.5.0\r\n",
      "simplegeneric==0.8.1\r\n",
      "six==1.11.0\r\n",
      "terminado==0.8.1\r\n",
      "testpath==0.3.1\r\n",
      "tornado==5.0.2\r\n",
      "traitlets==4.3.2\r\n",
      "wcwidth==0.1.7\r\n",
      "webencodings==0.5.1\r\n",
      "widgetsnbextension==3.2.1\r\n"
     ]
    }
   ],
   "source": [
    "!pip freeze"
   ]
  }
 ],
 "metadata": {
  "kernelspec": {
   "display_name": "Python 3",
   "language": "python",
   "name": "python3"
  },
  "language_info": {
   "codemirror_mode": {
    "name": "ipython",
    "version": 3
   },
   "file_extension": ".py",
   "mimetype": "text/x-python",
   "name": "python",
   "nbconvert_exporter": "python",
   "pygments_lexer": "ipython3",
   "version": "3.6.5"
  }
 },
 "nbformat": 4,
 "nbformat_minor": 2
}
